{
 "cells": [
  {
   "cell_type": "markdown",
   "metadata": {},
   "source": [
    "### Company Y. Afisha\n",
    "\n",
    "A study is requested to be carried out to understand how users use the product, when they start buying, how much contribution each customer brings and when they pay.\n",
    "\n",
    "The information provided is distributed in 3 datasets, with 2542, 50415 and 359400 records respectively.\n",
    "\n",
    "The main objective is to optimize the company's marketing expenses, understanding and characterizing customer behavior, to in turn provide recommendations that serve marketing experts, ultimately contributing to better company performance and the generation of greater income."
   ]
  },
  {
   "cell_type": "markdown",
   "metadata": {},
   "source": [
    "## Table of Contents\n",
    "* [Problem Statement](#problem)\n",
    "* [Technical Requirements](#technical)\n",
    "* [Data Description](#data)\n",
    "* [Data Cleaning and preparation](#preparation)\n",
    "* [Metric calculation](#metric)\n",
    "* [Results and recommendations](#observations)\n",
    "* [Conclusion](#conclusion)"
   ]
  },
  {
   "cell_type": "markdown",
   "metadata": {},
   "source": [
    " ## Problem Statement <a name=\"problem\"></a>"
   ]
  },
  {
   "cell_type": "markdown",
   "metadata": {},
   "source": [
    "This project focuses on carrying out a preliminary analysis with the data available that corresponds to the period from January 2017 to December 20218. Data, which are distributed in 3 datasets that contain information on marketing costs and/or expenses, about orders for the period and customer visits to the company's website."
   ]
  },
  {
   "cell_type": "markdown",
   "metadata": {},
   "source": [
    " ## Technical Requirements <a name=\"technical\"></a>"
   ]
  },
  {
   "cell_type": "markdown",
   "metadata": {},
   "source": [
    "The following libraries are required:\n",
    "    \n",
    "1. pandas\n",
    "2. numpy\n",
    "3. seaborn\n",
    "4. matplotlib"
   ]
  },
  {
   "cell_type": "markdown",
   "metadata": {},
   "source": [
    "## Initialization "
   ]
  },
  {
   "cell_type": "code",
   "execution_count": 105,
   "metadata": {},
   "outputs": [],
   "source": [
    "# Loading libraries\n",
    "\n",
    "import pandas as pd\n",
    "import numpy as np\n",
    "import seaborn as sns\n",
    "from matplotlib import pyplot as plt\n",
    "\n",
    "from importlib import reload\n",
    "plt=reload(plt)"
   ]
  },
  {
   "cell_type": "code",
   "execution_count": 106,
   "metadata": {},
   "outputs": [],
   "source": [
    "# Loading datasets -1 \n",
    "\n",
    "df_marketing_cost = pd.read_csv('costs_us.csv')"
   ]
  },
  {
   "cell_type": "code",
   "execution_count": 107,
   "metadata": {},
   "outputs": [],
   "source": [
    "# Loading datasets -2 \n",
    "\n",
    "df_marketing_orders = pd.read_csv('orders_log_us.csv')"
   ]
  },
  {
   "cell_type": "code",
   "execution_count": 108,
   "metadata": {},
   "outputs": [],
   "source": [
    "# Loading datasets -3 \n",
    "\n",
    "df_marketing_visits = pd.read_csv('visits_log_us.csv')"
   ]
  },
  {
   "cell_type": "markdown",
   "metadata": {},
   "source": [
    " ## Data Description <a name=\"data\"></a>"
   ]
  },
  {
   "cell_type": "markdown",
   "metadata": {},
   "source": [
    "## Dataset 1"
   ]
  },
  {
   "cell_type": "code",
   "execution_count": 109,
   "metadata": {},
   "outputs": [
    {
     "name": "stdout",
     "output_type": "stream",
     "text": [
      "<class 'pandas.core.frame.DataFrame'>\n",
      "RangeIndex: 2542 entries, 0 to 2541\n",
      "Data columns (total 3 columns):\n",
      " #   Column     Non-Null Count  Dtype  \n",
      "---  ------     --------------  -----  \n",
      " 0   source_id  2542 non-null   int64  \n",
      " 1   dt         2542 non-null   object \n",
      " 2   costs      2542 non-null   float64\n",
      "dtypes: float64(1), int64(1), object(1)\n",
      "memory usage: 59.7+ KB\n"
     ]
    }
   ],
   "source": [
    "df_marketing_cost.info()"
   ]
  },
  {
   "cell_type": "code",
   "execution_count": 110,
   "metadata": {},
   "outputs": [
    {
     "name": "stdout",
     "output_type": "stream",
     "text": [
      "<class 'pandas.core.frame.DataFrame'>\n",
      "RangeIndex: 50415 entries, 0 to 50414\n",
      "Data columns (total 3 columns):\n",
      " #   Column   Non-Null Count  Dtype  \n",
      "---  ------   --------------  -----  \n",
      " 0   Buy Ts   50415 non-null  object \n",
      " 1   Revenue  50415 non-null  float64\n",
      " 2   Uid      50415 non-null  uint64 \n",
      "dtypes: float64(1), object(1), uint64(1)\n",
      "memory usage: 1.2+ MB\n"
     ]
    }
   ],
   "source": [
    "df_marketing_orders.info()"
   ]
  },
  {
   "cell_type": "code",
   "execution_count": 111,
   "metadata": {},
   "outputs": [
    {
     "name": "stdout",
     "output_type": "stream",
     "text": [
      "<class 'pandas.core.frame.DataFrame'>\n",
      "RangeIndex: 359400 entries, 0 to 359399\n",
      "Data columns (total 5 columns):\n",
      " #   Column     Non-Null Count   Dtype \n",
      "---  ------     --------------   ----- \n",
      " 0   Device     359400 non-null  object\n",
      " 1   End Ts     359400 non-null  object\n",
      " 2   Source Id  359400 non-null  int64 \n",
      " 3   Start Ts   359400 non-null  object\n",
      " 4   Uid        359400 non-null  uint64\n",
      "dtypes: int64(1), object(3), uint64(1)\n",
      "memory usage: 13.7+ MB\n"
     ]
    }
   ],
   "source": [
    "df_marketing_visits.info()"
   ]
  },
  {
   "cell_type": "code",
   "execution_count": 112,
   "metadata": {},
   "outputs": [
    {
     "data": {
      "text/plain": [
       "Index(['source_id', 'dt', 'costs'], dtype='object')"
      ]
     },
     "execution_count": 112,
     "metadata": {},
     "output_type": "execute_result"
    }
   ],
   "source": [
    "df_marketing_cost.columns"
   ]
  },
  {
   "cell_type": "code",
   "execution_count": 113,
   "metadata": {},
   "outputs": [
    {
     "data": {
      "text/plain": [
       "Index(['Buy Ts', 'Revenue', 'Uid'], dtype='object')"
      ]
     },
     "execution_count": 113,
     "metadata": {},
     "output_type": "execute_result"
    }
   ],
   "source": [
    "df_marketing_orders.columns"
   ]
  },
  {
   "cell_type": "code",
   "execution_count": 114,
   "metadata": {},
   "outputs": [
    {
     "data": {
      "text/plain": [
       "Index(['Device', 'End Ts', 'Source Id', 'Start Ts', 'Uid'], dtype='object')"
      ]
     },
     "execution_count": 114,
     "metadata": {},
     "output_type": "execute_result"
    }
   ],
   "source": [
    "df_marketing_visits.columns"
   ]
  },
  {
   "cell_type": "code",
   "execution_count": 115,
   "metadata": {},
   "outputs": [
    {
     "data": {
      "text/plain": [
       "(2542, 3)"
      ]
     },
     "execution_count": 115,
     "metadata": {},
     "output_type": "execute_result"
    }
   ],
   "source": [
    "df_marketing_cost.shape"
   ]
  },
  {
   "cell_type": "code",
   "execution_count": 116,
   "metadata": {},
   "outputs": [
    {
     "data": {
      "text/plain": [
       "(50415, 3)"
      ]
     },
     "execution_count": 116,
     "metadata": {},
     "output_type": "execute_result"
    }
   ],
   "source": [
    "df_marketing_orders.shape"
   ]
  },
  {
   "cell_type": "code",
   "execution_count": 117,
   "metadata": {},
   "outputs": [
    {
     "data": {
      "text/plain": [
       "(359400, 5)"
      ]
     },
     "execution_count": 117,
     "metadata": {},
     "output_type": "execute_result"
    }
   ],
   "source": [
    "df_marketing_visits.shape"
   ]
  },
  {
   "cell_type": "code",
   "execution_count": 118,
   "metadata": {},
   "outputs": [
    {
     "data": {
      "text/html": [
       "<div>\n",
       "<style scoped>\n",
       "    .dataframe tbody tr th:only-of-type {\n",
       "        vertical-align: middle;\n",
       "    }\n",
       "\n",
       "    .dataframe tbody tr th {\n",
       "        vertical-align: top;\n",
       "    }\n",
       "\n",
       "    .dataframe thead th {\n",
       "        text-align: right;\n",
       "    }\n",
       "</style>\n",
       "<table border=\"1\" class=\"dataframe\">\n",
       "  <thead>\n",
       "    <tr style=\"text-align: right;\">\n",
       "      <th></th>\n",
       "      <th>source_id</th>\n",
       "      <th>dt</th>\n",
       "      <th>costs</th>\n",
       "    </tr>\n",
       "  </thead>\n",
       "  <tbody>\n",
       "    <tr>\n",
       "      <th>0</th>\n",
       "      <td>1</td>\n",
       "      <td>2017-06-01</td>\n",
       "      <td>75.20</td>\n",
       "    </tr>\n",
       "    <tr>\n",
       "      <th>1</th>\n",
       "      <td>1</td>\n",
       "      <td>2017-06-02</td>\n",
       "      <td>62.25</td>\n",
       "    </tr>\n",
       "    <tr>\n",
       "      <th>2</th>\n",
       "      <td>1</td>\n",
       "      <td>2017-06-03</td>\n",
       "      <td>36.53</td>\n",
       "    </tr>\n",
       "    <tr>\n",
       "      <th>3</th>\n",
       "      <td>1</td>\n",
       "      <td>2017-06-04</td>\n",
       "      <td>55.00</td>\n",
       "    </tr>\n",
       "    <tr>\n",
       "      <th>4</th>\n",
       "      <td>1</td>\n",
       "      <td>2017-06-05</td>\n",
       "      <td>57.08</td>\n",
       "    </tr>\n",
       "  </tbody>\n",
       "</table>\n",
       "</div>"
      ],
      "text/plain": [
       "   source_id          dt  costs\n",
       "0          1  2017-06-01  75.20\n",
       "1          1  2017-06-02  62.25\n",
       "2          1  2017-06-03  36.53\n",
       "3          1  2017-06-04  55.00\n",
       "4          1  2017-06-05  57.08"
      ]
     },
     "execution_count": 118,
     "metadata": {},
     "output_type": "execute_result"
    }
   ],
   "source": [
    "df_marketing_cost.head(5)"
   ]
  },
  {
   "cell_type": "code",
   "execution_count": 119,
   "metadata": {},
   "outputs": [
    {
     "data": {
      "text/html": [
       "<div>\n",
       "<style scoped>\n",
       "    .dataframe tbody tr th:only-of-type {\n",
       "        vertical-align: middle;\n",
       "    }\n",
       "\n",
       "    .dataframe tbody tr th {\n",
       "        vertical-align: top;\n",
       "    }\n",
       "\n",
       "    .dataframe thead th {\n",
       "        text-align: right;\n",
       "    }\n",
       "</style>\n",
       "<table border=\"1\" class=\"dataframe\">\n",
       "  <thead>\n",
       "    <tr style=\"text-align: right;\">\n",
       "      <th></th>\n",
       "      <th>Buy Ts</th>\n",
       "      <th>Revenue</th>\n",
       "      <th>Uid</th>\n",
       "    </tr>\n",
       "  </thead>\n",
       "  <tbody>\n",
       "    <tr>\n",
       "      <th>0</th>\n",
       "      <td>2017-06-01 00:10:00</td>\n",
       "      <td>17.00</td>\n",
       "      <td>10329302124590727494</td>\n",
       "    </tr>\n",
       "    <tr>\n",
       "      <th>1</th>\n",
       "      <td>2017-06-01 00:25:00</td>\n",
       "      <td>0.55</td>\n",
       "      <td>11627257723692907447</td>\n",
       "    </tr>\n",
       "    <tr>\n",
       "      <th>2</th>\n",
       "      <td>2017-06-01 00:27:00</td>\n",
       "      <td>0.37</td>\n",
       "      <td>17903680561304213844</td>\n",
       "    </tr>\n",
       "    <tr>\n",
       "      <th>3</th>\n",
       "      <td>2017-06-01 00:29:00</td>\n",
       "      <td>0.55</td>\n",
       "      <td>16109239769442553005</td>\n",
       "    </tr>\n",
       "    <tr>\n",
       "      <th>4</th>\n",
       "      <td>2017-06-01 07:58:00</td>\n",
       "      <td>0.37</td>\n",
       "      <td>14200605875248379450</td>\n",
       "    </tr>\n",
       "  </tbody>\n",
       "</table>\n",
       "</div>"
      ],
      "text/plain": [
       "                Buy Ts  Revenue                   Uid\n",
       "0  2017-06-01 00:10:00    17.00  10329302124590727494\n",
       "1  2017-06-01 00:25:00     0.55  11627257723692907447\n",
       "2  2017-06-01 00:27:00     0.37  17903680561304213844\n",
       "3  2017-06-01 00:29:00     0.55  16109239769442553005\n",
       "4  2017-06-01 07:58:00     0.37  14200605875248379450"
      ]
     },
     "execution_count": 119,
     "metadata": {},
     "output_type": "execute_result"
    }
   ],
   "source": [
    "df_marketing_orders.head(5)"
   ]
  },
  {
   "cell_type": "code",
   "execution_count": 120,
   "metadata": {},
   "outputs": [
    {
     "data": {
      "text/html": [
       "<div>\n",
       "<style scoped>\n",
       "    .dataframe tbody tr th:only-of-type {\n",
       "        vertical-align: middle;\n",
       "    }\n",
       "\n",
       "    .dataframe tbody tr th {\n",
       "        vertical-align: top;\n",
       "    }\n",
       "\n",
       "    .dataframe thead th {\n",
       "        text-align: right;\n",
       "    }\n",
       "</style>\n",
       "<table border=\"1\" class=\"dataframe\">\n",
       "  <thead>\n",
       "    <tr style=\"text-align: right;\">\n",
       "      <th></th>\n",
       "      <th>Device</th>\n",
       "      <th>End Ts</th>\n",
       "      <th>Source Id</th>\n",
       "      <th>Start Ts</th>\n",
       "      <th>Uid</th>\n",
       "    </tr>\n",
       "  </thead>\n",
       "  <tbody>\n",
       "    <tr>\n",
       "      <th>0</th>\n",
       "      <td>touch</td>\n",
       "      <td>2017-12-20 17:38:00</td>\n",
       "      <td>4</td>\n",
       "      <td>2017-12-20 17:20:00</td>\n",
       "      <td>16879256277535980062</td>\n",
       "    </tr>\n",
       "    <tr>\n",
       "      <th>1</th>\n",
       "      <td>desktop</td>\n",
       "      <td>2018-02-19 17:21:00</td>\n",
       "      <td>2</td>\n",
       "      <td>2018-02-19 16:53:00</td>\n",
       "      <td>104060357244891740</td>\n",
       "    </tr>\n",
       "    <tr>\n",
       "      <th>2</th>\n",
       "      <td>touch</td>\n",
       "      <td>2017-07-01 01:54:00</td>\n",
       "      <td>5</td>\n",
       "      <td>2017-07-01 01:54:00</td>\n",
       "      <td>7459035603376831527</td>\n",
       "    </tr>\n",
       "    <tr>\n",
       "      <th>3</th>\n",
       "      <td>desktop</td>\n",
       "      <td>2018-05-20 11:23:00</td>\n",
       "      <td>9</td>\n",
       "      <td>2018-05-20 10:59:00</td>\n",
       "      <td>16174680259334210214</td>\n",
       "    </tr>\n",
       "    <tr>\n",
       "      <th>4</th>\n",
       "      <td>desktop</td>\n",
       "      <td>2017-12-27 14:06:00</td>\n",
       "      <td>3</td>\n",
       "      <td>2017-12-27 14:06:00</td>\n",
       "      <td>9969694820036681168</td>\n",
       "    </tr>\n",
       "  </tbody>\n",
       "</table>\n",
       "</div>"
      ],
      "text/plain": [
       "    Device               End Ts  Source Id             Start Ts  \\\n",
       "0    touch  2017-12-20 17:38:00          4  2017-12-20 17:20:00   \n",
       "1  desktop  2018-02-19 17:21:00          2  2018-02-19 16:53:00   \n",
       "2    touch  2017-07-01 01:54:00          5  2017-07-01 01:54:00   \n",
       "3  desktop  2018-05-20 11:23:00          9  2018-05-20 10:59:00   \n",
       "4  desktop  2017-12-27 14:06:00          3  2017-12-27 14:06:00   \n",
       "\n",
       "                    Uid  \n",
       "0  16879256277535980062  \n",
       "1    104060357244891740  \n",
       "2   7459035603376831527  \n",
       "3  16174680259334210214  \n",
       "4   9969694820036681168  "
      ]
     },
     "execution_count": 120,
     "metadata": {},
     "output_type": "execute_result"
    }
   ],
   "source": [
    "df_marketing_visits.head(5)"
   ]
  },
  {
   "cell_type": "code",
   "execution_count": 121,
   "metadata": {},
   "outputs": [
    {
     "data": {
      "text/html": [
       "<div>\n",
       "<style scoped>\n",
       "    .dataframe tbody tr th:only-of-type {\n",
       "        vertical-align: middle;\n",
       "    }\n",
       "\n",
       "    .dataframe tbody tr th {\n",
       "        vertical-align: top;\n",
       "    }\n",
       "\n",
       "    .dataframe thead th {\n",
       "        text-align: right;\n",
       "    }\n",
       "</style>\n",
       "<table border=\"1\" class=\"dataframe\">\n",
       "  <thead>\n",
       "    <tr style=\"text-align: right;\">\n",
       "      <th></th>\n",
       "      <th>source_id</th>\n",
       "      <th>costs</th>\n",
       "    </tr>\n",
       "  </thead>\n",
       "  <tbody>\n",
       "    <tr>\n",
       "      <th>count</th>\n",
       "      <td>2542.000000</td>\n",
       "      <td>2542.000000</td>\n",
       "    </tr>\n",
       "    <tr>\n",
       "      <th>mean</th>\n",
       "      <td>4.857199</td>\n",
       "      <td>129.477427</td>\n",
       "    </tr>\n",
       "    <tr>\n",
       "      <th>std</th>\n",
       "      <td>3.181581</td>\n",
       "      <td>156.296628</td>\n",
       "    </tr>\n",
       "    <tr>\n",
       "      <th>min</th>\n",
       "      <td>1.000000</td>\n",
       "      <td>0.540000</td>\n",
       "    </tr>\n",
       "    <tr>\n",
       "      <th>25%</th>\n",
       "      <td>2.000000</td>\n",
       "      <td>21.945000</td>\n",
       "    </tr>\n",
       "    <tr>\n",
       "      <th>50%</th>\n",
       "      <td>4.000000</td>\n",
       "      <td>77.295000</td>\n",
       "    </tr>\n",
       "    <tr>\n",
       "      <th>75%</th>\n",
       "      <td>9.000000</td>\n",
       "      <td>170.065000</td>\n",
       "    </tr>\n",
       "    <tr>\n",
       "      <th>max</th>\n",
       "      <td>10.000000</td>\n",
       "      <td>1788.280000</td>\n",
       "    </tr>\n",
       "  </tbody>\n",
       "</table>\n",
       "</div>"
      ],
      "text/plain": [
       "         source_id        costs\n",
       "count  2542.000000  2542.000000\n",
       "mean      4.857199   129.477427\n",
       "std       3.181581   156.296628\n",
       "min       1.000000     0.540000\n",
       "25%       2.000000    21.945000\n",
       "50%       4.000000    77.295000\n",
       "75%       9.000000   170.065000\n",
       "max      10.000000  1788.280000"
      ]
     },
     "execution_count": 121,
     "metadata": {},
     "output_type": "execute_result"
    }
   ],
   "source": [
    "df_marketing_cost.describe()"
   ]
  },
  {
   "cell_type": "code",
   "execution_count": 122,
   "metadata": {},
   "outputs": [
    {
     "data": {
      "text/html": [
       "<div>\n",
       "<style scoped>\n",
       "    .dataframe tbody tr th:only-of-type {\n",
       "        vertical-align: middle;\n",
       "    }\n",
       "\n",
       "    .dataframe tbody tr th {\n",
       "        vertical-align: top;\n",
       "    }\n",
       "\n",
       "    .dataframe thead th {\n",
       "        text-align: right;\n",
       "    }\n",
       "</style>\n",
       "<table border=\"1\" class=\"dataframe\">\n",
       "  <thead>\n",
       "    <tr style=\"text-align: right;\">\n",
       "      <th></th>\n",
       "      <th>Revenue</th>\n",
       "      <th>Uid</th>\n",
       "    </tr>\n",
       "  </thead>\n",
       "  <tbody>\n",
       "    <tr>\n",
       "      <th>count</th>\n",
       "      <td>50415.000000</td>\n",
       "      <td>5.041500e+04</td>\n",
       "    </tr>\n",
       "    <tr>\n",
       "      <th>mean</th>\n",
       "      <td>4.999647</td>\n",
       "      <td>9.098161e+18</td>\n",
       "    </tr>\n",
       "    <tr>\n",
       "      <th>std</th>\n",
       "      <td>21.818359</td>\n",
       "      <td>5.285742e+18</td>\n",
       "    </tr>\n",
       "    <tr>\n",
       "      <th>min</th>\n",
       "      <td>0.000000</td>\n",
       "      <td>3.135781e+14</td>\n",
       "    </tr>\n",
       "    <tr>\n",
       "      <th>25%</th>\n",
       "      <td>1.220000</td>\n",
       "      <td>4.533567e+18</td>\n",
       "    </tr>\n",
       "    <tr>\n",
       "      <th>50%</th>\n",
       "      <td>2.500000</td>\n",
       "      <td>9.102274e+18</td>\n",
       "    </tr>\n",
       "    <tr>\n",
       "      <th>75%</th>\n",
       "      <td>4.890000</td>\n",
       "      <td>1.368290e+19</td>\n",
       "    </tr>\n",
       "    <tr>\n",
       "      <th>max</th>\n",
       "      <td>2633.280000</td>\n",
       "      <td>1.844617e+19</td>\n",
       "    </tr>\n",
       "  </tbody>\n",
       "</table>\n",
       "</div>"
      ],
      "text/plain": [
       "            Revenue           Uid\n",
       "count  50415.000000  5.041500e+04\n",
       "mean       4.999647  9.098161e+18\n",
       "std       21.818359  5.285742e+18\n",
       "min        0.000000  3.135781e+14\n",
       "25%        1.220000  4.533567e+18\n",
       "50%        2.500000  9.102274e+18\n",
       "75%        4.890000  1.368290e+19\n",
       "max     2633.280000  1.844617e+19"
      ]
     },
     "execution_count": 122,
     "metadata": {},
     "output_type": "execute_result"
    }
   ],
   "source": [
    "df_marketing_orders.describe()"
   ]
  },
  {
   "cell_type": "code",
   "execution_count": 123,
   "metadata": {},
   "outputs": [
    {
     "data": {
      "text/html": [
       "<div>\n",
       "<style scoped>\n",
       "    .dataframe tbody tr th:only-of-type {\n",
       "        vertical-align: middle;\n",
       "    }\n",
       "\n",
       "    .dataframe tbody tr th {\n",
       "        vertical-align: top;\n",
       "    }\n",
       "\n",
       "    .dataframe thead th {\n",
       "        text-align: right;\n",
       "    }\n",
       "</style>\n",
       "<table border=\"1\" class=\"dataframe\">\n",
       "  <thead>\n",
       "    <tr style=\"text-align: right;\">\n",
       "      <th></th>\n",
       "      <th>Source Id</th>\n",
       "      <th>Uid</th>\n",
       "    </tr>\n",
       "  </thead>\n",
       "  <tbody>\n",
       "    <tr>\n",
       "      <th>count</th>\n",
       "      <td>359400.000000</td>\n",
       "      <td>3.594000e+05</td>\n",
       "    </tr>\n",
       "    <tr>\n",
       "      <th>mean</th>\n",
       "      <td>3.750515</td>\n",
       "      <td>9.202557e+18</td>\n",
       "    </tr>\n",
       "    <tr>\n",
       "      <th>std</th>\n",
       "      <td>1.917116</td>\n",
       "      <td>5.298433e+18</td>\n",
       "    </tr>\n",
       "    <tr>\n",
       "      <th>min</th>\n",
       "      <td>1.000000</td>\n",
       "      <td>1.186350e+13</td>\n",
       "    </tr>\n",
       "    <tr>\n",
       "      <th>25%</th>\n",
       "      <td>3.000000</td>\n",
       "      <td>4.613407e+18</td>\n",
       "    </tr>\n",
       "    <tr>\n",
       "      <th>50%</th>\n",
       "      <td>4.000000</td>\n",
       "      <td>9.227413e+18</td>\n",
       "    </tr>\n",
       "    <tr>\n",
       "      <th>75%</th>\n",
       "      <td>5.000000</td>\n",
       "      <td>1.372824e+19</td>\n",
       "    </tr>\n",
       "    <tr>\n",
       "      <th>max</th>\n",
       "      <td>10.000000</td>\n",
       "      <td>1.844668e+19</td>\n",
       "    </tr>\n",
       "  </tbody>\n",
       "</table>\n",
       "</div>"
      ],
      "text/plain": [
       "           Source Id           Uid\n",
       "count  359400.000000  3.594000e+05\n",
       "mean        3.750515  9.202557e+18\n",
       "std         1.917116  5.298433e+18\n",
       "min         1.000000  1.186350e+13\n",
       "25%         3.000000  4.613407e+18\n",
       "50%         4.000000  9.227413e+18\n",
       "75%         5.000000  1.372824e+19\n",
       "max        10.000000  1.844668e+19"
      ]
     },
     "execution_count": 123,
     "metadata": {},
     "output_type": "execute_result"
    }
   ],
   "source": [
    "df_marketing_visits.describe()"
   ]
  },
  {
   "cell_type": "markdown",
   "metadata": {},
   "source": [
    "## Data Cleaning and Preparation  <a name=\"preparation\"></a>"
   ]
  },
  {
   "cell_type": "markdown",
   "metadata": {},
   "source": [
    "### Verification and correction of data types"
   ]
  },
  {
   "cell_type": "code",
   "execution_count": 124,
   "metadata": {},
   "outputs": [],
   "source": [
    "# Converting the date feature to the most appropriate data type\n",
    "\n",
    "df_marketing_cost['dt'] = pd.to_datetime(df_marketing_cost['dt'])"
   ]
  },
  {
   "cell_type": "code",
   "execution_count": 125,
   "metadata": {},
   "outputs": [],
   "source": [
    "# Converting the date feature to the most appropriate data type\n",
    "\n",
    "df_marketing_orders['Buy Ts'] = pd.to_datetime(df_marketing_orders['Buy Ts'])"
   ]
  },
  {
   "cell_type": "code",
   "execution_count": 126,
   "metadata": {},
   "outputs": [],
   "source": [
    "# Converting the date feature to the most appropriate data type\n",
    "\n",
    "df_marketing_visits['Start Ts'] = pd.to_datetime(df_marketing_visits['Start Ts'])\n",
    "df_marketing_visits['End Ts'] = pd.to_datetime(df_marketing_visits['End Ts'])"
   ]
  },
  {
   "cell_type": "code",
   "execution_count": 127,
   "metadata": {},
   "outputs": [
    {
     "data": {
      "text/plain": [
       "Device\n",
       "desktop    262567\n",
       "touch       96833\n",
       "Name: count, dtype: int64"
      ]
     },
     "execution_count": 127,
     "metadata": {},
     "output_type": "execute_result"
    }
   ],
   "source": [
    "df_marketing_visits['Device'].value_counts()"
   ]
  },
  {
   "cell_type": "code",
   "execution_count": 128,
   "metadata": {},
   "outputs": [],
   "source": [
    "df_marketing_visits['Device'] = df_marketing_visits['Device'].astype('category') "
   ]
  },
  {
   "cell_type": "code",
   "execution_count": 129,
   "metadata": {},
   "outputs": [
    {
     "data": {
      "text/plain": [
       "Device\n",
       "desktop    262567\n",
       "touch       96833\n",
       "Name: count, dtype: int64"
      ]
     },
     "execution_count": 129,
     "metadata": {},
     "output_type": "execute_result"
    }
   ],
   "source": [
    "df_marketing_visits['Device'].value_counts()"
   ]
  },
  {
   "cell_type": "markdown",
   "metadata": {},
   "source": [
    "### Checking converted data types"
   ]
  },
  {
   "cell_type": "code",
   "execution_count": 130,
   "metadata": {},
   "outputs": [
    {
     "name": "stdout",
     "output_type": "stream",
     "text": [
      "<class 'pandas.core.frame.DataFrame'>\n",
      "RangeIndex: 2542 entries, 0 to 2541\n",
      "Data columns (total 3 columns):\n",
      " #   Column     Non-Null Count  Dtype         \n",
      "---  ------     --------------  -----         \n",
      " 0   source_id  2542 non-null   int64         \n",
      " 1   dt         2542 non-null   datetime64[ns]\n",
      " 2   costs      2542 non-null   float64       \n",
      "dtypes: datetime64[ns](1), float64(1), int64(1)\n",
      "memory usage: 59.7 KB\n"
     ]
    }
   ],
   "source": [
    "df_marketing_cost.info()"
   ]
  },
  {
   "cell_type": "code",
   "execution_count": 131,
   "metadata": {},
   "outputs": [
    {
     "name": "stdout",
     "output_type": "stream",
     "text": [
      "<class 'pandas.core.frame.DataFrame'>\n",
      "RangeIndex: 50415 entries, 0 to 50414\n",
      "Data columns (total 3 columns):\n",
      " #   Column   Non-Null Count  Dtype         \n",
      "---  ------   --------------  -----         \n",
      " 0   Buy Ts   50415 non-null  datetime64[ns]\n",
      " 1   Revenue  50415 non-null  float64       \n",
      " 2   Uid      50415 non-null  uint64        \n",
      "dtypes: datetime64[ns](1), float64(1), uint64(1)\n",
      "memory usage: 1.2 MB\n"
     ]
    }
   ],
   "source": [
    "df_marketing_orders.info()"
   ]
  },
  {
   "cell_type": "code",
   "execution_count": 132,
   "metadata": {},
   "outputs": [
    {
     "name": "stdout",
     "output_type": "stream",
     "text": [
      "<class 'pandas.core.frame.DataFrame'>\n",
      "RangeIndex: 359400 entries, 0 to 359399\n",
      "Data columns (total 5 columns):\n",
      " #   Column     Non-Null Count   Dtype         \n",
      "---  ------     --------------   -----         \n",
      " 0   Device     359400 non-null  category      \n",
      " 1   End Ts     359400 non-null  datetime64[ns]\n",
      " 2   Source Id  359400 non-null  int64         \n",
      " 3   Start Ts   359400 non-null  datetime64[ns]\n",
      " 4   Uid        359400 non-null  uint64        \n",
      "dtypes: category(1), datetime64[ns](2), int64(1), uint64(1)\n",
      "memory usage: 11.3 MB\n"
     ]
    }
   ],
   "source": [
    "df_marketing_visits.info()"
   ]
  },
  {
   "cell_type": "markdown",
   "metadata": {},
   "source": [
    "### Converting data feature names to lowercase"
   ]
  },
  {
   "cell_type": "code",
   "execution_count": 133,
   "metadata": {},
   "outputs": [
    {
     "data": {
      "text/html": [
       "<div>\n",
       "<style scoped>\n",
       "    .dataframe tbody tr th:only-of-type {\n",
       "        vertical-align: middle;\n",
       "    }\n",
       "\n",
       "    .dataframe tbody tr th {\n",
       "        vertical-align: top;\n",
       "    }\n",
       "\n",
       "    .dataframe thead th {\n",
       "        text-align: right;\n",
       "    }\n",
       "</style>\n",
       "<table border=\"1\" class=\"dataframe\">\n",
       "  <thead>\n",
       "    <tr style=\"text-align: right;\">\n",
       "      <th></th>\n",
       "      <th>source_id</th>\n",
       "      <th>dt</th>\n",
       "      <th>costs</th>\n",
       "    </tr>\n",
       "  </thead>\n",
       "  <tbody>\n",
       "    <tr>\n",
       "      <th>0</th>\n",
       "      <td>1</td>\n",
       "      <td>2017-06-01</td>\n",
       "      <td>75.20</td>\n",
       "    </tr>\n",
       "    <tr>\n",
       "      <th>1</th>\n",
       "      <td>1</td>\n",
       "      <td>2017-06-02</td>\n",
       "      <td>62.25</td>\n",
       "    </tr>\n",
       "    <tr>\n",
       "      <th>2</th>\n",
       "      <td>1</td>\n",
       "      <td>2017-06-03</td>\n",
       "      <td>36.53</td>\n",
       "    </tr>\n",
       "    <tr>\n",
       "      <th>3</th>\n",
       "      <td>1</td>\n",
       "      <td>2017-06-04</td>\n",
       "      <td>55.00</td>\n",
       "    </tr>\n",
       "    <tr>\n",
       "      <th>4</th>\n",
       "      <td>1</td>\n",
       "      <td>2017-06-05</td>\n",
       "      <td>57.08</td>\n",
       "    </tr>\n",
       "  </tbody>\n",
       "</table>\n",
       "</div>"
      ],
      "text/plain": [
       "   source_id         dt  costs\n",
       "0          1 2017-06-01  75.20\n",
       "1          1 2017-06-02  62.25\n",
       "2          1 2017-06-03  36.53\n",
       "3          1 2017-06-04  55.00\n",
       "4          1 2017-06-05  57.08"
      ]
     },
     "execution_count": 133,
     "metadata": {},
     "output_type": "execute_result"
    }
   ],
   "source": [
    "# ALL column names are replaced with lowercase letters.\n",
    "\n",
    "df_marketing_cost.columns = map(str.lower, df_marketing_cost.columns)\n",
    "df_marketing_cost.head(5)"
   ]
  },
  {
   "cell_type": "code",
   "execution_count": 134,
   "metadata": {},
   "outputs": [
    {
     "data": {
      "text/plain": [
       "array([ 1,  2,  3,  4,  5,  9, 10], dtype=int64)"
      ]
     },
     "execution_count": 134,
     "metadata": {},
     "output_type": "execute_result"
    }
   ],
   "source": [
    "df_marketing_cost['source_id'].unique()"
   ]
  },
  {
   "cell_type": "code",
   "execution_count": 135,
   "metadata": {},
   "outputs": [
    {
     "data": {
      "text/html": [
       "<div>\n",
       "<style scoped>\n",
       "    .dataframe tbody tr th:only-of-type {\n",
       "        vertical-align: middle;\n",
       "    }\n",
       "\n",
       "    .dataframe tbody tr th {\n",
       "        vertical-align: top;\n",
       "    }\n",
       "\n",
       "    .dataframe thead th {\n",
       "        text-align: right;\n",
       "    }\n",
       "</style>\n",
       "<table border=\"1\" class=\"dataframe\">\n",
       "  <thead>\n",
       "    <tr style=\"text-align: right;\">\n",
       "      <th></th>\n",
       "      <th>buy ts</th>\n",
       "      <th>revenue</th>\n",
       "      <th>uid</th>\n",
       "    </tr>\n",
       "  </thead>\n",
       "  <tbody>\n",
       "    <tr>\n",
       "      <th>0</th>\n",
       "      <td>2017-06-01 00:10:00</td>\n",
       "      <td>17.00</td>\n",
       "      <td>10329302124590727494</td>\n",
       "    </tr>\n",
       "    <tr>\n",
       "      <th>1</th>\n",
       "      <td>2017-06-01 00:25:00</td>\n",
       "      <td>0.55</td>\n",
       "      <td>11627257723692907447</td>\n",
       "    </tr>\n",
       "    <tr>\n",
       "      <th>2</th>\n",
       "      <td>2017-06-01 00:27:00</td>\n",
       "      <td>0.37</td>\n",
       "      <td>17903680561304213844</td>\n",
       "    </tr>\n",
       "    <tr>\n",
       "      <th>3</th>\n",
       "      <td>2017-06-01 00:29:00</td>\n",
       "      <td>0.55</td>\n",
       "      <td>16109239769442553005</td>\n",
       "    </tr>\n",
       "    <tr>\n",
       "      <th>4</th>\n",
       "      <td>2017-06-01 07:58:00</td>\n",
       "      <td>0.37</td>\n",
       "      <td>14200605875248379450</td>\n",
       "    </tr>\n",
       "  </tbody>\n",
       "</table>\n",
       "</div>"
      ],
      "text/plain": [
       "               buy ts  revenue                   uid\n",
       "0 2017-06-01 00:10:00    17.00  10329302124590727494\n",
       "1 2017-06-01 00:25:00     0.55  11627257723692907447\n",
       "2 2017-06-01 00:27:00     0.37  17903680561304213844\n",
       "3 2017-06-01 00:29:00     0.55  16109239769442553005\n",
       "4 2017-06-01 07:58:00     0.37  14200605875248379450"
      ]
     },
     "execution_count": 135,
     "metadata": {},
     "output_type": "execute_result"
    }
   ],
   "source": [
    "df_marketing_orders.columns = map(str.lower, df_marketing_orders.columns)\n",
    "df_marketing_orders.head(5)"
   ]
  },
  {
   "cell_type": "code",
   "execution_count": 136,
   "metadata": {},
   "outputs": [
    {
     "data": {
      "text/html": [
       "<div>\n",
       "<style scoped>\n",
       "    .dataframe tbody tr th:only-of-type {\n",
       "        vertical-align: middle;\n",
       "    }\n",
       "\n",
       "    .dataframe tbody tr th {\n",
       "        vertical-align: top;\n",
       "    }\n",
       "\n",
       "    .dataframe thead th {\n",
       "        text-align: right;\n",
       "    }\n",
       "</style>\n",
       "<table border=\"1\" class=\"dataframe\">\n",
       "  <thead>\n",
       "    <tr style=\"text-align: right;\">\n",
       "      <th></th>\n",
       "      <th>device</th>\n",
       "      <th>end ts</th>\n",
       "      <th>source id</th>\n",
       "      <th>start ts</th>\n",
       "      <th>uid</th>\n",
       "    </tr>\n",
       "  </thead>\n",
       "  <tbody>\n",
       "    <tr>\n",
       "      <th>0</th>\n",
       "      <td>touch</td>\n",
       "      <td>2017-12-20 17:38:00</td>\n",
       "      <td>4</td>\n",
       "      <td>2017-12-20 17:20:00</td>\n",
       "      <td>16879256277535980062</td>\n",
       "    </tr>\n",
       "    <tr>\n",
       "      <th>1</th>\n",
       "      <td>desktop</td>\n",
       "      <td>2018-02-19 17:21:00</td>\n",
       "      <td>2</td>\n",
       "      <td>2018-02-19 16:53:00</td>\n",
       "      <td>104060357244891740</td>\n",
       "    </tr>\n",
       "    <tr>\n",
       "      <th>2</th>\n",
       "      <td>touch</td>\n",
       "      <td>2017-07-01 01:54:00</td>\n",
       "      <td>5</td>\n",
       "      <td>2017-07-01 01:54:00</td>\n",
       "      <td>7459035603376831527</td>\n",
       "    </tr>\n",
       "    <tr>\n",
       "      <th>3</th>\n",
       "      <td>desktop</td>\n",
       "      <td>2018-05-20 11:23:00</td>\n",
       "      <td>9</td>\n",
       "      <td>2018-05-20 10:59:00</td>\n",
       "      <td>16174680259334210214</td>\n",
       "    </tr>\n",
       "    <tr>\n",
       "      <th>4</th>\n",
       "      <td>desktop</td>\n",
       "      <td>2017-12-27 14:06:00</td>\n",
       "      <td>3</td>\n",
       "      <td>2017-12-27 14:06:00</td>\n",
       "      <td>9969694820036681168</td>\n",
       "    </tr>\n",
       "  </tbody>\n",
       "</table>\n",
       "</div>"
      ],
      "text/plain": [
       "    device              end ts  source id            start ts  \\\n",
       "0    touch 2017-12-20 17:38:00          4 2017-12-20 17:20:00   \n",
       "1  desktop 2018-02-19 17:21:00          2 2018-02-19 16:53:00   \n",
       "2    touch 2017-07-01 01:54:00          5 2017-07-01 01:54:00   \n",
       "3  desktop 2018-05-20 11:23:00          9 2018-05-20 10:59:00   \n",
       "4  desktop 2017-12-27 14:06:00          3 2017-12-27 14:06:00   \n",
       "\n",
       "                    uid  \n",
       "0  16879256277535980062  \n",
       "1    104060357244891740  \n",
       "2   7459035603376831527  \n",
       "3  16174680259334210214  \n",
       "4   9969694820036681168  "
      ]
     },
     "execution_count": 136,
     "metadata": {},
     "output_type": "execute_result"
    }
   ],
   "source": [
    "# ALL column names are replaced with lowercase letters.\n",
    "\n",
    "df_marketing_visits.columns = map(str.lower, df_marketing_visits.columns)\n",
    "df_marketing_visits.head(5)"
   ]
  },
  {
   "cell_type": "code",
   "execution_count": 137,
   "metadata": {},
   "outputs": [
    {
     "data": {
      "text/html": [
       "<div>\n",
       "<style scoped>\n",
       "    .dataframe tbody tr th:only-of-type {\n",
       "        vertical-align: middle;\n",
       "    }\n",
       "\n",
       "    .dataframe tbody tr th {\n",
       "        vertical-align: top;\n",
       "    }\n",
       "\n",
       "    .dataframe thead th {\n",
       "        text-align: right;\n",
       "    }\n",
       "</style>\n",
       "<table border=\"1\" class=\"dataframe\">\n",
       "  <thead>\n",
       "    <tr style=\"text-align: right;\">\n",
       "      <th></th>\n",
       "      <th>buy_ts</th>\n",
       "      <th>revenue</th>\n",
       "      <th>uid</th>\n",
       "    </tr>\n",
       "  </thead>\n",
       "  <tbody>\n",
       "    <tr>\n",
       "      <th>0</th>\n",
       "      <td>2017-06-01 00:10:00</td>\n",
       "      <td>17.00</td>\n",
       "      <td>10329302124590727494</td>\n",
       "    </tr>\n",
       "    <tr>\n",
       "      <th>1</th>\n",
       "      <td>2017-06-01 00:25:00</td>\n",
       "      <td>0.55</td>\n",
       "      <td>11627257723692907447</td>\n",
       "    </tr>\n",
       "    <tr>\n",
       "      <th>2</th>\n",
       "      <td>2017-06-01 00:27:00</td>\n",
       "      <td>0.37</td>\n",
       "      <td>17903680561304213844</td>\n",
       "    </tr>\n",
       "    <tr>\n",
       "      <th>3</th>\n",
       "      <td>2017-06-01 00:29:00</td>\n",
       "      <td>0.55</td>\n",
       "      <td>16109239769442553005</td>\n",
       "    </tr>\n",
       "    <tr>\n",
       "      <th>4</th>\n",
       "      <td>2017-06-01 07:58:00</td>\n",
       "      <td>0.37</td>\n",
       "      <td>14200605875248379450</td>\n",
       "    </tr>\n",
       "    <tr>\n",
       "      <th>...</th>\n",
       "      <td>...</td>\n",
       "      <td>...</td>\n",
       "      <td>...</td>\n",
       "    </tr>\n",
       "    <tr>\n",
       "      <th>50410</th>\n",
       "      <td>2018-05-31 23:50:00</td>\n",
       "      <td>4.64</td>\n",
       "      <td>12296626599487328624</td>\n",
       "    </tr>\n",
       "    <tr>\n",
       "      <th>50411</th>\n",
       "      <td>2018-05-31 23:50:00</td>\n",
       "      <td>5.80</td>\n",
       "      <td>11369640365507475976</td>\n",
       "    </tr>\n",
       "    <tr>\n",
       "      <th>50412</th>\n",
       "      <td>2018-05-31 23:54:00</td>\n",
       "      <td>0.30</td>\n",
       "      <td>1786462140797698849</td>\n",
       "    </tr>\n",
       "    <tr>\n",
       "      <th>50413</th>\n",
       "      <td>2018-05-31 23:56:00</td>\n",
       "      <td>3.67</td>\n",
       "      <td>3993697860786194247</td>\n",
       "    </tr>\n",
       "    <tr>\n",
       "      <th>50414</th>\n",
       "      <td>2018-06-01 00:02:00</td>\n",
       "      <td>3.42</td>\n",
       "      <td>83872787173869366</td>\n",
       "    </tr>\n",
       "  </tbody>\n",
       "</table>\n",
       "<p>50415 rows × 3 columns</p>\n",
       "</div>"
      ],
      "text/plain": [
       "                   buy_ts  revenue                   uid\n",
       "0     2017-06-01 00:10:00    17.00  10329302124590727494\n",
       "1     2017-06-01 00:25:00     0.55  11627257723692907447\n",
       "2     2017-06-01 00:27:00     0.37  17903680561304213844\n",
       "3     2017-06-01 00:29:00     0.55  16109239769442553005\n",
       "4     2017-06-01 07:58:00     0.37  14200605875248379450\n",
       "...                   ...      ...                   ...\n",
       "50410 2018-05-31 23:50:00     4.64  12296626599487328624\n",
       "50411 2018-05-31 23:50:00     5.80  11369640365507475976\n",
       "50412 2018-05-31 23:54:00     0.30   1786462140797698849\n",
       "50413 2018-05-31 23:56:00     3.67   3993697860786194247\n",
       "50414 2018-06-01 00:02:00     3.42     83872787173869366\n",
       "\n",
       "[50415 rows x 3 columns]"
      ]
     },
     "execution_count": 137,
     "metadata": {},
     "output_type": "execute_result"
    }
   ],
   "source": [
    "# Changing the header name \"user_id\" in dataset orders\n",
    "\n",
    "df_marketing_orders.columns = df_marketing_orders.columns.str.replace('buy ts', 'buy_ts') \n",
    "df_marketing_orders"
   ]
  },
  {
   "cell_type": "code",
   "execution_count": 138,
   "metadata": {},
   "outputs": [
    {
     "data": {
      "text/html": [
       "<div>\n",
       "<style scoped>\n",
       "    .dataframe tbody tr th:only-of-type {\n",
       "        vertical-align: middle;\n",
       "    }\n",
       "\n",
       "    .dataframe tbody tr th {\n",
       "        vertical-align: top;\n",
       "    }\n",
       "\n",
       "    .dataframe thead th {\n",
       "        text-align: right;\n",
       "    }\n",
       "</style>\n",
       "<table border=\"1\" class=\"dataframe\">\n",
       "  <thead>\n",
       "    <tr style=\"text-align: right;\">\n",
       "      <th></th>\n",
       "      <th>device</th>\n",
       "      <th>end_ts</th>\n",
       "      <th>source_id</th>\n",
       "      <th>start_ts</th>\n",
       "      <th>uid</th>\n",
       "    </tr>\n",
       "  </thead>\n",
       "  <tbody>\n",
       "    <tr>\n",
       "      <th>0</th>\n",
       "      <td>touch</td>\n",
       "      <td>2017-12-20 17:38:00</td>\n",
       "      <td>4</td>\n",
       "      <td>2017-12-20 17:20:00</td>\n",
       "      <td>16879256277535980062</td>\n",
       "    </tr>\n",
       "    <tr>\n",
       "      <th>1</th>\n",
       "      <td>desktop</td>\n",
       "      <td>2018-02-19 17:21:00</td>\n",
       "      <td>2</td>\n",
       "      <td>2018-02-19 16:53:00</td>\n",
       "      <td>104060357244891740</td>\n",
       "    </tr>\n",
       "    <tr>\n",
       "      <th>2</th>\n",
       "      <td>touch</td>\n",
       "      <td>2017-07-01 01:54:00</td>\n",
       "      <td>5</td>\n",
       "      <td>2017-07-01 01:54:00</td>\n",
       "      <td>7459035603376831527</td>\n",
       "    </tr>\n",
       "    <tr>\n",
       "      <th>3</th>\n",
       "      <td>desktop</td>\n",
       "      <td>2018-05-20 11:23:00</td>\n",
       "      <td>9</td>\n",
       "      <td>2018-05-20 10:59:00</td>\n",
       "      <td>16174680259334210214</td>\n",
       "    </tr>\n",
       "    <tr>\n",
       "      <th>4</th>\n",
       "      <td>desktop</td>\n",
       "      <td>2017-12-27 14:06:00</td>\n",
       "      <td>3</td>\n",
       "      <td>2017-12-27 14:06:00</td>\n",
       "      <td>9969694820036681168</td>\n",
       "    </tr>\n",
       "    <tr>\n",
       "      <th>...</th>\n",
       "      <td>...</td>\n",
       "      <td>...</td>\n",
       "      <td>...</td>\n",
       "      <td>...</td>\n",
       "      <td>...</td>\n",
       "    </tr>\n",
       "    <tr>\n",
       "      <th>359395</th>\n",
       "      <td>desktop</td>\n",
       "      <td>2017-07-29 19:07:19</td>\n",
       "      <td>2</td>\n",
       "      <td>2017-07-29 19:07:00</td>\n",
       "      <td>18363291481961487539</td>\n",
       "    </tr>\n",
       "    <tr>\n",
       "      <th>359396</th>\n",
       "      <td>touch</td>\n",
       "      <td>2018-01-25 17:38:19</td>\n",
       "      <td>1</td>\n",
       "      <td>2018-01-25 17:38:00</td>\n",
       "      <td>18370831553019119586</td>\n",
       "    </tr>\n",
       "    <tr>\n",
       "      <th>359397</th>\n",
       "      <td>desktop</td>\n",
       "      <td>2018-03-03 10:12:19</td>\n",
       "      <td>4</td>\n",
       "      <td>2018-03-03 10:12:00</td>\n",
       "      <td>18387297585500748294</td>\n",
       "    </tr>\n",
       "    <tr>\n",
       "      <th>359398</th>\n",
       "      <td>desktop</td>\n",
       "      <td>2017-11-02 10:12:19</td>\n",
       "      <td>5</td>\n",
       "      <td>2017-11-02 10:12:00</td>\n",
       "      <td>18388616944624776485</td>\n",
       "    </tr>\n",
       "    <tr>\n",
       "      <th>359399</th>\n",
       "      <td>touch</td>\n",
       "      <td>2017-09-10 13:13:19</td>\n",
       "      <td>2</td>\n",
       "      <td>2017-09-10 13:13:00</td>\n",
       "      <td>18396128934054549559</td>\n",
       "    </tr>\n",
       "  </tbody>\n",
       "</table>\n",
       "<p>359400 rows × 5 columns</p>\n",
       "</div>"
      ],
      "text/plain": [
       "         device              end_ts  source_id            start_ts  \\\n",
       "0         touch 2017-12-20 17:38:00          4 2017-12-20 17:20:00   \n",
       "1       desktop 2018-02-19 17:21:00          2 2018-02-19 16:53:00   \n",
       "2         touch 2017-07-01 01:54:00          5 2017-07-01 01:54:00   \n",
       "3       desktop 2018-05-20 11:23:00          9 2018-05-20 10:59:00   \n",
       "4       desktop 2017-12-27 14:06:00          3 2017-12-27 14:06:00   \n",
       "...         ...                 ...        ...                 ...   \n",
       "359395  desktop 2017-07-29 19:07:19          2 2017-07-29 19:07:00   \n",
       "359396    touch 2018-01-25 17:38:19          1 2018-01-25 17:38:00   \n",
       "359397  desktop 2018-03-03 10:12:19          4 2018-03-03 10:12:00   \n",
       "359398  desktop 2017-11-02 10:12:19          5 2017-11-02 10:12:00   \n",
       "359399    touch 2017-09-10 13:13:19          2 2017-09-10 13:13:00   \n",
       "\n",
       "                         uid  \n",
       "0       16879256277535980062  \n",
       "1         104060357244891740  \n",
       "2        7459035603376831527  \n",
       "3       16174680259334210214  \n",
       "4        9969694820036681168  \n",
       "...                      ...  \n",
       "359395  18363291481961487539  \n",
       "359396  18370831553019119586  \n",
       "359397  18387297585500748294  \n",
       "359398  18388616944624776485  \n",
       "359399  18396128934054549559  \n",
       "\n",
       "[359400 rows x 5 columns]"
      ]
     },
     "execution_count": 138,
     "metadata": {},
     "output_type": "execute_result"
    }
   ],
   "source": [
    "# Changing the header name \"user_id\" in dataset visits\n",
    "\n",
    "df_marketing_visits.columns = df_marketing_visits.columns.str.replace('start ts', 'start_ts') \n",
    "df_marketing_visits.columns = df_marketing_visits.columns.str.replace('end ts', 'end_ts') \n",
    "df_marketing_visits.columns = df_marketing_visits.columns.str.replace('source id', 'source_id') \n",
    "df_marketing_visits"
   ]
  },
  {
   "cell_type": "markdown",
   "metadata": {},
   "source": [
    "### Check for duplicate values"
   ]
  },
  {
   "cell_type": "code",
   "execution_count": 139,
   "metadata": {},
   "outputs": [
    {
     "data": {
      "text/plain": [
       "0"
      ]
     },
     "execution_count": 139,
     "metadata": {},
     "output_type": "execute_result"
    }
   ],
   "source": [
    "df_marketing_cost.duplicated().sum()"
   ]
  },
  {
   "cell_type": "code",
   "execution_count": 140,
   "metadata": {},
   "outputs": [
    {
     "data": {
      "text/plain": [
       "0"
      ]
     },
     "execution_count": 140,
     "metadata": {},
     "output_type": "execute_result"
    }
   ],
   "source": [
    "df_marketing_orders.duplicated().sum()"
   ]
  },
  {
   "cell_type": "code",
   "execution_count": 141,
   "metadata": {},
   "outputs": [
    {
     "data": {
      "text/plain": [
       "0"
      ]
     },
     "execution_count": 141,
     "metadata": {},
     "output_type": "execute_result"
    }
   ],
   "source": [
    "df_marketing_visits.duplicated().sum()"
   ]
  },
  {
   "cell_type": "markdown",
   "metadata": {},
   "source": [
    "### Check for missing values"
   ]
  },
  {
   "cell_type": "code",
   "execution_count": 142,
   "metadata": {},
   "outputs": [
    {
     "data": {
      "text/plain": [
       "source_id    0\n",
       "dt           0\n",
       "costs        0\n",
       "dtype: int64"
      ]
     },
     "execution_count": 142,
     "metadata": {},
     "output_type": "execute_result"
    }
   ],
   "source": [
    "df_marketing_cost.isna().sum()"
   ]
  },
  {
   "cell_type": "code",
   "execution_count": 143,
   "metadata": {},
   "outputs": [
    {
     "data": {
      "text/plain": [
       "buy_ts     0\n",
       "revenue    0\n",
       "uid        0\n",
       "dtype: int64"
      ]
     },
     "execution_count": 143,
     "metadata": {},
     "output_type": "execute_result"
    }
   ],
   "source": [
    "df_marketing_orders.isna().sum()"
   ]
  },
  {
   "cell_type": "code",
   "execution_count": 144,
   "metadata": {},
   "outputs": [
    {
     "data": {
      "text/plain": [
       "device       0\n",
       "end_ts       0\n",
       "source_id    0\n",
       "start_ts     0\n",
       "uid          0\n",
       "dtype: int64"
      ]
     },
     "execution_count": 144,
     "metadata": {},
     "output_type": "execute_result"
    }
   ],
   "source": [
    "df_marketing_visits.isna().sum()"
   ]
  },
  {
   "cell_type": "markdown",
   "metadata": {},
   "source": [
    "## Conclusion of the data cleaning and preparation part\n",
    "\n",
    "1- The 3 datasets were reviewed and the following problems were found:\n",
    "\n",
    "-there are 4 date type features designated as Object\n",
    "\n",
    "-there is 1 category type feature designated as Object\n",
    "\n",
    "-column names that are not lowercase and are written with spaces\n",
    "\n",
    "Corresponding actions taken:\n",
    "\n",
    "1- After verifying the data type of the columns, the column 'dt' was converted to the datetime type in the cost dataset, the column 'Buy Ts' was converted to the datetime type in the orders dataset, and the columns ' Start Ts' and 'End Ts' in dataset visits to datetime type. In addition, the 'Device' feature was converted to the category type that best fits the type of data it contains, the rest of the features are considered to retain an appropriate data type.\n",
    "\n",
    "2- All features were converted to lowercase and the intermediate spaces in their names were removed to leave them all homogeneous.\n",
    "\n",
    "3- The existence of rows with missing data was verified, without finding a cell with a NaN value.\n",
    "\n",
    "4- The non-existence of duplicate values in the data was confirmed."
   ]
  },
  {
   "cell_type": "markdown",
   "metadata": {},
   "source": [
    "### Metric calculation <a name=\"metric\"></a>"
   ]
  },
  {
   "cell_type": "code",
   "execution_count": 145,
   "metadata": {},
   "outputs": [
    {
     "data": {
      "text/plain": [
       "Index(['source_id', 'dt', 'costs'], dtype='object')"
      ]
     },
     "execution_count": 145,
     "metadata": {},
     "output_type": "execute_result"
    }
   ],
   "source": [
    "df_marketing_cost.columns  "
   ]
  },
  {
   "cell_type": "code",
   "execution_count": 146,
   "metadata": {},
   "outputs": [
    {
     "data": {
      "text/plain": [
       "Index(['buy_ts', 'revenue', 'uid'], dtype='object')"
      ]
     },
     "execution_count": 146,
     "metadata": {},
     "output_type": "execute_result"
    }
   ],
   "source": [
    "df_marketing_orders.columns "
   ]
  },
  {
   "cell_type": "code",
   "execution_count": 147,
   "metadata": {},
   "outputs": [
    {
     "data": {
      "text/plain": [
       "Index(['device', 'end_ts', 'source_id', 'start_ts', 'uid'], dtype='object')"
      ]
     },
     "execution_count": 147,
     "metadata": {},
     "output_type": "execute_result"
    }
   ],
   "source": [
    " df_marketing_visits.columns "
   ]
  },
  {
   "cell_type": "code",
   "execution_count": null,
   "metadata": {},
   "outputs": [],
   "source": []
  },
  {
   "cell_type": "markdown",
   "metadata": {},
   "source": [
    "### Product"
   ]
  },
  {
   "cell_type": "code",
   "execution_count": 148,
   "metadata": {},
   "outputs": [
    {
     "data": {
      "text/plain": [
       "date_start\n",
       "2017-06-01     664\n",
       "2017-06-02     658\n",
       "2017-06-03     477\n",
       "2017-06-04     510\n",
       "2017-06-05     893\n",
       "              ... \n",
       "2018-05-27     672\n",
       "2018-05-28    1156\n",
       "2018-05-29    1035\n",
       "2018-05-30    1410\n",
       "2018-05-31    2256\n",
       "Name: uid, Length: 364, dtype: int64"
      ]
     },
     "execution_count": 148,
     "metadata": {},
     "output_type": "execute_result"
    }
   ],
   "source": [
    "df_marketing_visits['date_start'] = df_marketing_visits['start_ts'].dt.date\n",
    "system_used_per_day = df_marketing_visits.groupby('date_start')['uid'].count()\n",
    "\n",
    "system_used_per_day"
   ]
  },
  {
   "cell_type": "code",
   "execution_count": 149,
   "metadata": {},
   "outputs": [
    {
     "data": {
      "text/plain": [
       "Index(['device', 'end_ts', 'source_id', 'start_ts', 'uid', 'date_start',\n",
       "       'session_week', 'year_start'],\n",
       "      dtype='object')"
      ]
     },
     "execution_count": 149,
     "metadata": {},
     "output_type": "execute_result"
    }
   ],
   "source": [
    "df_marketing_visits['start_ts'] = pd.to_datetime(df_marketing_visits['start_ts'])\n",
    "\n",
    "df_marketing_visits['session_week'] = df_marketing_visits['start_ts'].dt.strftime(\"%W\")\n",
    "df_marketing_visits['year_start'] = df_marketing_visits['start_ts'].dt.year\n",
    "df_marketing_visits.columns"
   ]
  },
  {
   "cell_type": "code",
   "execution_count": 150,
   "metadata": {},
   "outputs": [
    {
     "data": {
      "text/plain": [
       "session_week\n",
       "22     2309\n",
       "23     4931\n",
       "24     3214\n",
       "25     3273\n",
       "26     3514\n",
       "27     3822\n",
       "28     5105\n",
       "29     4574\n",
       "30     3072\n",
       "31     2729\n",
       "32     2782\n",
       "33     3128\n",
       "34     3585\n",
       "35     4296\n",
       "36     5115\n",
       "37     5011\n",
       "38     5715\n",
       "39     7315\n",
       "40     8878\n",
       "41     8317\n",
       "42     8336\n",
       "43     8712\n",
       "44     8645\n",
       "45     8287\n",
       "46     9656\n",
       "47    13572\n",
       "48    10409\n",
       "49    10298\n",
       "50    10120\n",
       "51     8500\n",
       "52     9230\n",
       "Name: uid, dtype: int64"
      ]
     },
     "execution_count": 150,
     "metadata": {},
     "output_type": "execute_result"
    }
   ],
   "source": [
    "conditioning = (df_marketing_visits['year_start']== 2017 )\n",
    "system_used_by_customers_per_week = df_marketing_visits[conditioning].groupby('session_week')['uid'].count()\n",
    "\n",
    "system_used_by_customers_per_week "
   ]
  },
  {
   "cell_type": "code",
   "execution_count": 151,
   "metadata": {},
   "outputs": [
    {
     "data": {
      "text/plain": [
       "session_week\n",
       "01    8057\n",
       "02    7871\n",
       "03    8317\n",
       "04    8488\n",
       "05    9796\n",
       "06    9407\n",
       "07    9272\n",
       "08    8930\n",
       "09    8771\n",
       "10    8147\n",
       "11    7489\n",
       "12    9393\n",
       "13    5862\n",
       "14    6242\n",
       "15    6382\n",
       "16    6768\n",
       "17    6574\n",
       "18    4496\n",
       "19    4803\n",
       "20    6094\n",
       "21    5934\n",
       "22    5857\n",
       "Name: uid, dtype: int64"
      ]
     },
     "execution_count": 151,
     "metadata": {},
     "output_type": "execute_result"
    }
   ],
   "source": [
    "conditioning = (df_marketing_visits['year_start']== 2018)\n",
    "system_used_by_customers_per_week = df_marketing_visits[conditioning].groupby('session_week')['uid'].count()\n",
    "\n",
    "system_used_by_customers_per_week "
   ]
  },
  {
   "cell_type": "code",
   "execution_count": 152,
   "metadata": {},
   "outputs": [
    {
     "data": {
      "text/plain": [
       "month_start  year_start\n",
       "6            2017          16505\n",
       "7            2017          17828\n",
       "8            2017          14355\n",
       "9            2017          23907\n",
       "10           2017          37903\n",
       "11           2017          43969\n",
       "12           2017          41983\n",
       "Name: uid, dtype: int64"
      ]
     },
     "execution_count": 152,
     "metadata": {},
     "output_type": "execute_result"
    }
   ],
   "source": [
    "df_marketing_visits['month_start'] = df_marketing_visits['start_ts'].dt.month\n",
    "\n",
    "conditioning = (df_marketing_visits['year_start']== 2017 )\n",
    "system_used_per_month_2017 = df_marketing_visits[conditioning].groupby(['month_start', 'year_start'])['uid'].count()\n",
    "\n",
    "system_used_per_month_2017"
   ]
  },
  {
   "cell_type": "code",
   "execution_count": 153,
   "metadata": {},
   "outputs": [
    {
     "data": {
      "text/plain": [
       "month_start  year_start\n",
       "1            2018          36939\n",
       "2            2018          37182\n",
       "3            2018          35679\n",
       "4            2018          26515\n",
       "5            2018          26635\n",
       "Name: uid, dtype: int64"
      ]
     },
     "execution_count": 153,
     "metadata": {},
     "output_type": "execute_result"
    }
   ],
   "source": [
    "conditioning = (df_marketing_visits['year_start']== 2018)\n",
    "system_used_per_month_2018 = df_marketing_visits[conditioning].groupby(['month_start', 'year_start'])['uid'].count()\n",
    "\n",
    "system_used_per_month_2018"
   ]
  },
  {
   "cell_type": "code",
   "execution_count": 154,
   "metadata": {},
   "outputs": [
    {
     "name": "stderr",
     "output_type": "stream",
     "text": [
      "C:\\Users\\USUARIO\\AppData\\Local\\Temp\\ipykernel_25100\\4031513155.py:6: FutureWarning: Calling int on a single element Series is deprecated and will raise a TypeError in the future. Use int(ser.iloc[0]) instead\n",
      "  int(dau_total)\n"
     ]
    },
    {
     "data": {
      "text/plain": [
       "10241"
      ]
     },
     "execution_count": 154,
     "metadata": {},
     "output_type": "execute_result"
    }
   ],
   "source": [
    "# Sessions in a day or daily active users\n",
    "\n",
    "df_marketing_visits['session_date'] = df_marketing_visits['start_ts'].dt.day\n",
    "dau_total = df_marketing_visits.groupby('session_date').agg({'uid': 'nunique'}).mean()\n",
    "\n",
    "int(dau_total)"
   ]
  },
  {
   "cell_type": "code",
   "execution_count": 155,
   "metadata": {},
   "outputs": [
    {
     "data": {
      "text/plain": [
       "0.06"
      ]
     },
     "execution_count": 155,
     "metadata": {},
     "output_type": "execute_result"
    }
   ],
   "source": [
    "# Duration of each session\n",
    "\n",
    "df_marketing_visits['end_ts'] =  pd.to_datetime(df_marketing_visits['end_ts'])\n",
    "df_marketing_visits['start_ts'] = pd.to_datetime(df_marketing_visits['start_ts'])\n",
    "\n",
    "df_marketing_visits['duration_session_min_end'] = df_marketing_visits['end_ts'].dt.strftime(\"%M\")\n",
    "df_marketing_visits['duration_session_min_end'] = df_marketing_visits['duration_session_min_end'].astype(int)\n",
    "df_marketing_visits['duration_session_min_start'] = df_marketing_visits['start_ts'].dt.strftime(\"%M\")\n",
    "df_marketing_visits['duration_session_min_start'] = df_marketing_visits['duration_session_min_start'].astype(int)\n",
    "df_marketing_visits['duration_session'] = df_marketing_visits['duration_session_min_end'] - df_marketing_visits['duration_session_min_start']\n",
    "\n",
    "df_marketing_visits['duration_session'].mean().round(2)"
   ]
  },
  {
   "cell_type": "code",
   "execution_count": 156,
   "metadata": {},
   "outputs": [
    {
     "data": {
      "text/html": [
       "<div>\n",
       "<style scoped>\n",
       "    .dataframe tbody tr th:only-of-type {\n",
       "        vertical-align: middle;\n",
       "    }\n",
       "\n",
       "    .dataframe tbody tr th {\n",
       "        vertical-align: top;\n",
       "    }\n",
       "\n",
       "    .dataframe thead th {\n",
       "        text-align: right;\n",
       "    }\n",
       "</style>\n",
       "<table border=\"1\" class=\"dataframe\">\n",
       "  <thead>\n",
       "    <tr style=\"text-align: right;\">\n",
       "      <th></th>\n",
       "      <th>device</th>\n",
       "      <th>end_ts</th>\n",
       "      <th>source_id</th>\n",
       "      <th>start_ts</th>\n",
       "      <th>uid</th>\n",
       "      <th>date_start</th>\n",
       "      <th>session_week</th>\n",
       "      <th>year_start</th>\n",
       "      <th>month_start</th>\n",
       "      <th>session_date</th>\n",
       "      <th>duration_session_min_end</th>\n",
       "      <th>duration_session_min_start</th>\n",
       "      <th>duration_session</th>\n",
       "      <th>session_year</th>\n",
       "    </tr>\n",
       "  </thead>\n",
       "  <tbody>\n",
       "    <tr>\n",
       "      <th>0</th>\n",
       "      <td>touch</td>\n",
       "      <td>2017-12-20 17:38:00</td>\n",
       "      <td>4</td>\n",
       "      <td>2017-12-20 17:20:00</td>\n",
       "      <td>16879256277535980062</td>\n",
       "      <td>2017-12-20</td>\n",
       "      <td>51</td>\n",
       "      <td>2017</td>\n",
       "      <td>12</td>\n",
       "      <td>20</td>\n",
       "      <td>38</td>\n",
       "      <td>20</td>\n",
       "      <td>18</td>\n",
       "      <td>2017</td>\n",
       "    </tr>\n",
       "    <tr>\n",
       "      <th>1</th>\n",
       "      <td>desktop</td>\n",
       "      <td>2018-02-19 17:21:00</td>\n",
       "      <td>2</td>\n",
       "      <td>2018-02-19 16:53:00</td>\n",
       "      <td>104060357244891740</td>\n",
       "      <td>2018-02-19</td>\n",
       "      <td>08</td>\n",
       "      <td>2018</td>\n",
       "      <td>2</td>\n",
       "      <td>19</td>\n",
       "      <td>21</td>\n",
       "      <td>53</td>\n",
       "      <td>-32</td>\n",
       "      <td>2018</td>\n",
       "    </tr>\n",
       "    <tr>\n",
       "      <th>2</th>\n",
       "      <td>touch</td>\n",
       "      <td>2017-07-01 01:54:00</td>\n",
       "      <td>5</td>\n",
       "      <td>2017-07-01 01:54:00</td>\n",
       "      <td>7459035603376831527</td>\n",
       "      <td>2017-07-01</td>\n",
       "      <td>26</td>\n",
       "      <td>2017</td>\n",
       "      <td>7</td>\n",
       "      <td>1</td>\n",
       "      <td>54</td>\n",
       "      <td>54</td>\n",
       "      <td>0</td>\n",
       "      <td>2017</td>\n",
       "    </tr>\n",
       "    <tr>\n",
       "      <th>3</th>\n",
       "      <td>desktop</td>\n",
       "      <td>2018-05-20 11:23:00</td>\n",
       "      <td>9</td>\n",
       "      <td>2018-05-20 10:59:00</td>\n",
       "      <td>16174680259334210214</td>\n",
       "      <td>2018-05-20</td>\n",
       "      <td>20</td>\n",
       "      <td>2018</td>\n",
       "      <td>5</td>\n",
       "      <td>20</td>\n",
       "      <td>23</td>\n",
       "      <td>59</td>\n",
       "      <td>-36</td>\n",
       "      <td>2018</td>\n",
       "    </tr>\n",
       "    <tr>\n",
       "      <th>4</th>\n",
       "      <td>desktop</td>\n",
       "      <td>2017-12-27 14:06:00</td>\n",
       "      <td>3</td>\n",
       "      <td>2017-12-27 14:06:00</td>\n",
       "      <td>9969694820036681168</td>\n",
       "      <td>2017-12-27</td>\n",
       "      <td>52</td>\n",
       "      <td>2017</td>\n",
       "      <td>12</td>\n",
       "      <td>27</td>\n",
       "      <td>6</td>\n",
       "      <td>6</td>\n",
       "      <td>0</td>\n",
       "      <td>2017</td>\n",
       "    </tr>\n",
       "    <tr>\n",
       "      <th>...</th>\n",
       "      <td>...</td>\n",
       "      <td>...</td>\n",
       "      <td>...</td>\n",
       "      <td>...</td>\n",
       "      <td>...</td>\n",
       "      <td>...</td>\n",
       "      <td>...</td>\n",
       "      <td>...</td>\n",
       "      <td>...</td>\n",
       "      <td>...</td>\n",
       "      <td>...</td>\n",
       "      <td>...</td>\n",
       "      <td>...</td>\n",
       "      <td>...</td>\n",
       "    </tr>\n",
       "    <tr>\n",
       "      <th>359395</th>\n",
       "      <td>desktop</td>\n",
       "      <td>2017-07-29 19:07:19</td>\n",
       "      <td>2</td>\n",
       "      <td>2017-07-29 19:07:00</td>\n",
       "      <td>18363291481961487539</td>\n",
       "      <td>2017-07-29</td>\n",
       "      <td>30</td>\n",
       "      <td>2017</td>\n",
       "      <td>7</td>\n",
       "      <td>29</td>\n",
       "      <td>7</td>\n",
       "      <td>7</td>\n",
       "      <td>0</td>\n",
       "      <td>2017</td>\n",
       "    </tr>\n",
       "    <tr>\n",
       "      <th>359396</th>\n",
       "      <td>touch</td>\n",
       "      <td>2018-01-25 17:38:19</td>\n",
       "      <td>1</td>\n",
       "      <td>2018-01-25 17:38:00</td>\n",
       "      <td>18370831553019119586</td>\n",
       "      <td>2018-01-25</td>\n",
       "      <td>04</td>\n",
       "      <td>2018</td>\n",
       "      <td>1</td>\n",
       "      <td>25</td>\n",
       "      <td>38</td>\n",
       "      <td>38</td>\n",
       "      <td>0</td>\n",
       "      <td>2018</td>\n",
       "    </tr>\n",
       "    <tr>\n",
       "      <th>359397</th>\n",
       "      <td>desktop</td>\n",
       "      <td>2018-03-03 10:12:19</td>\n",
       "      <td>4</td>\n",
       "      <td>2018-03-03 10:12:00</td>\n",
       "      <td>18387297585500748294</td>\n",
       "      <td>2018-03-03</td>\n",
       "      <td>09</td>\n",
       "      <td>2018</td>\n",
       "      <td>3</td>\n",
       "      <td>3</td>\n",
       "      <td>12</td>\n",
       "      <td>12</td>\n",
       "      <td>0</td>\n",
       "      <td>2018</td>\n",
       "    </tr>\n",
       "    <tr>\n",
       "      <th>359398</th>\n",
       "      <td>desktop</td>\n",
       "      <td>2017-11-02 10:12:19</td>\n",
       "      <td>5</td>\n",
       "      <td>2017-11-02 10:12:00</td>\n",
       "      <td>18388616944624776485</td>\n",
       "      <td>2017-11-02</td>\n",
       "      <td>44</td>\n",
       "      <td>2017</td>\n",
       "      <td>11</td>\n",
       "      <td>2</td>\n",
       "      <td>12</td>\n",
       "      <td>12</td>\n",
       "      <td>0</td>\n",
       "      <td>2017</td>\n",
       "    </tr>\n",
       "    <tr>\n",
       "      <th>359399</th>\n",
       "      <td>touch</td>\n",
       "      <td>2017-09-10 13:13:19</td>\n",
       "      <td>2</td>\n",
       "      <td>2017-09-10 13:13:00</td>\n",
       "      <td>18396128934054549559</td>\n",
       "      <td>2017-09-10</td>\n",
       "      <td>36</td>\n",
       "      <td>2017</td>\n",
       "      <td>9</td>\n",
       "      <td>10</td>\n",
       "      <td>13</td>\n",
       "      <td>13</td>\n",
       "      <td>0</td>\n",
       "      <td>2017</td>\n",
       "    </tr>\n",
       "  </tbody>\n",
       "</table>\n",
       "<p>359400 rows × 14 columns</p>\n",
       "</div>"
      ],
      "text/plain": [
       "         device              end_ts  source_id            start_ts  \\\n",
       "0         touch 2017-12-20 17:38:00          4 2017-12-20 17:20:00   \n",
       "1       desktop 2018-02-19 17:21:00          2 2018-02-19 16:53:00   \n",
       "2         touch 2017-07-01 01:54:00          5 2017-07-01 01:54:00   \n",
       "3       desktop 2018-05-20 11:23:00          9 2018-05-20 10:59:00   \n",
       "4       desktop 2017-12-27 14:06:00          3 2017-12-27 14:06:00   \n",
       "...         ...                 ...        ...                 ...   \n",
       "359395  desktop 2017-07-29 19:07:19          2 2017-07-29 19:07:00   \n",
       "359396    touch 2018-01-25 17:38:19          1 2018-01-25 17:38:00   \n",
       "359397  desktop 2018-03-03 10:12:19          4 2018-03-03 10:12:00   \n",
       "359398  desktop 2017-11-02 10:12:19          5 2017-11-02 10:12:00   \n",
       "359399    touch 2017-09-10 13:13:19          2 2017-09-10 13:13:00   \n",
       "\n",
       "                         uid  date_start session_week  year_start  \\\n",
       "0       16879256277535980062  2017-12-20           51        2017   \n",
       "1         104060357244891740  2018-02-19           08        2018   \n",
       "2        7459035603376831527  2017-07-01           26        2017   \n",
       "3       16174680259334210214  2018-05-20           20        2018   \n",
       "4        9969694820036681168  2017-12-27           52        2017   \n",
       "...                      ...         ...          ...         ...   \n",
       "359395  18363291481961487539  2017-07-29           30        2017   \n",
       "359396  18370831553019119586  2018-01-25           04        2018   \n",
       "359397  18387297585500748294  2018-03-03           09        2018   \n",
       "359398  18388616944624776485  2017-11-02           44        2017   \n",
       "359399  18396128934054549559  2017-09-10           36        2017   \n",
       "\n",
       "        month_start  session_date  duration_session_min_end  \\\n",
       "0                12            20                        38   \n",
       "1                 2            19                        21   \n",
       "2                 7             1                        54   \n",
       "3                 5            20                        23   \n",
       "4                12            27                         6   \n",
       "...             ...           ...                       ...   \n",
       "359395            7            29                         7   \n",
       "359396            1            25                        38   \n",
       "359397            3             3                        12   \n",
       "359398           11             2                        12   \n",
       "359399            9            10                        13   \n",
       "\n",
       "        duration_session_min_start  duration_session  session_year  \n",
       "0                               20                18          2017  \n",
       "1                               53               -32          2018  \n",
       "2                               54                 0          2017  \n",
       "3                               59               -36          2018  \n",
       "4                                6                 0          2017  \n",
       "...                            ...               ...           ...  \n",
       "359395                           7                 0          2017  \n",
       "359396                          38                 0          2018  \n",
       "359397                          12                 0          2018  \n",
       "359398                          12                 0          2017  \n",
       "359399                          13                 0          2017  \n",
       "\n",
       "[359400 rows x 14 columns]"
      ]
     },
     "execution_count": 156,
     "metadata": {},
     "output_type": "execute_result"
    }
   ],
   "source": [
    "df_marketing_visits['session_year'] = df_marketing_visits['start_ts'].dt.year\n",
    "df_marketing_visits"
   ]
  },
  {
   "cell_type": "code",
   "execution_count": 157,
   "metadata": {},
   "outputs": [
    {
     "name": "stdout",
     "output_type": "stream",
     "text": [
      "10241\n",
      "5716\n",
      "uid    1.791713\n",
      "dtype: float64\n"
     ]
    },
    {
     "name": "stderr",
     "output_type": "stream",
     "text": [
      "C:\\Users\\USUARIO\\AppData\\Local\\Temp\\ipykernel_25100\\1773968359.py:11: FutureWarning: Calling int on a single element Series is deprecated and will raise a TypeError in the future. Use int(ser.iloc[0]) instead\n",
      "  print(int(dau_total))\n",
      "C:\\Users\\USUARIO\\AppData\\Local\\Temp\\ipykernel_25100\\1773968359.py:12: FutureWarning: Calling int on a single element Series is deprecated and will raise a TypeError in the future. Use int(ser.iloc[0]) instead\n",
      "  print(int(wau_total))\n"
     ]
    }
   ],
   "source": [
    "# Frequency of returning users\n",
    "\n",
    "# To calculate the frequency of users who return to the application, the formula is followed:\n",
    "# sticky factor = DAU/WAU o sticky factor = DAU/MAU\n",
    "\n",
    "# Calculate of DAU and WAU metrics\n",
    "\n",
    "dau_total = df_marketing_visits.groupby('session_date').agg({'uid': 'nunique'}).mean()\n",
    "wau_total = df_marketing_visits.groupby(['session_year', 'session_week']).agg({'uid': 'nunique'}).mean()\n",
    "\n",
    "print(int(dau_total))\n",
    "print(int(wau_total)) \n",
    "\n",
    "sticky_factor = dau_total / wau_total\n",
    "print(sticky_factor)"
   ]
  },
  {
   "cell_type": "markdown",
   "metadata": {},
   "source": [
    "### Sales"
   ]
  },
  {
   "cell_type": "code",
   "execution_count": 158,
   "metadata": {},
   "outputs": [
    {
     "name": "stdout",
     "output_type": "stream",
     "text": [
      "uid    0.000107\n",
      "dtype: float64\n"
     ]
    }
   ],
   "source": [
    "# 1-Finding the customer conversion rate by cohort\n",
    "\n",
    "# Conversion rate is the proportion of people who change status\n",
    "# Conversion rate = number of users who purchased the version / number of users who downloaded or logged in to the mobile application\n",
    "# conversion_rate = user_order_app / user_visit_website\n",
    "\n",
    "user_visit_website = df_marketing_visits.groupby('session_date').agg({'uid': 'nunique'}).mean()\n",
    "user_order_app = df_marketing_orders.groupby('buy_ts').agg({'uid': 'nunique'}).mean()\n",
    "conversion_rate = user_order_app / user_visit_website\n",
    "print(conversion_rate)"
   ]
  },
  {
   "cell_type": "code",
   "execution_count": 159,
   "metadata": {},
   "outputs": [
    {
     "data": {
      "text/plain": [
       "Index(['device', 'end_ts', 'source_id', 'start_ts', 'uid', 'date_start',\n",
       "       'session_week', 'year_start', 'month_start', 'session_date',\n",
       "       'duration_session_min_end', 'duration_session_min_start',\n",
       "       'duration_session', 'session_year'],\n",
       "      dtype='object')"
      ]
     },
     "execution_count": 159,
     "metadata": {},
     "output_type": "execute_result"
    }
   ],
   "source": [
    "df_marketing_visits.columns"
   ]
  },
  {
   "cell_type": "code",
   "execution_count": 160,
   "metadata": {},
   "outputs": [
    {
     "data": {
      "text/plain": [
       "uid\n",
       "11863502262781         2018-03-01 17:27:00\n",
       "49537067089222         2018-02-06 15:55:00\n",
       "297729379853735        2017-06-07 18:47:00\n",
       "313578113262317        2017-09-18 22:49:00\n",
       "325320750514679        2017-09-30 14:29:00\n",
       "                               ...        \n",
       "18446403737806311543   2017-11-30 03:36:00\n",
       "18446424184725333426   2017-12-06 20:32:00\n",
       "18446556406699109058   2018-01-01 16:29:00\n",
       "18446621818809592527   2017-12-27 13:27:00\n",
       "18446676030785672386   2017-10-04 16:01:00\n",
       "Name: start_ts, Length: 228169, dtype: datetime64[ns]"
      ]
     },
     "execution_count": 160,
     "metadata": {},
     "output_type": "execute_result"
    }
   ],
   "source": [
    "#2-Finding the time that passes between the registration and the conversion of clients, that is, from the subtraction of the date of the first\n",
    "# time logged in on the date of product purchase\n",
    "\n",
    "first_session_date = pd.DataFrame()\n",
    "first_session_date = df_marketing_visits.groupby('uid')['start_ts'].min()\n",
    "\n",
    "# Date of first time logged in\n",
    "first_session_date "
   ]
  },
  {
   "cell_type": "code",
   "execution_count": null,
   "metadata": {},
   "outputs": [],
   "source": []
  },
  {
   "cell_type": "code",
   "execution_count": 161,
   "metadata": {},
   "outputs": [],
   "source": [
    "first_session_date.name = 'first_session_date'\n",
    "\n",
    "df_marketing_visits = df_marketing_visits.merge(first_session_date, on='uid', how='left')"
   ]
  },
  {
   "cell_type": "code",
   "execution_count": 162,
   "metadata": {},
   "outputs": [
    {
     "data": {
      "text/plain": [
       "uid\n",
       "313578113262317        2018-01-03 21:51:00\n",
       "1575281904278712       2017-06-03 10:13:00\n",
       "2429014661409475       2017-10-11 18:33:00\n",
       "2464366381792757       2018-01-28 15:54:00\n",
       "2551852515556206       2017-11-24 10:14:00\n",
       "                               ...        \n",
       "18445147675727495770   2017-11-24 09:03:00\n",
       "18445407535914413204   2017-09-22 23:55:00\n",
       "18445601152732270159   2018-03-26 22:54:00\n",
       "18446156210226471712   2018-02-18 19:34:00\n",
       "18446167067214817906   2017-10-17 10:16:00\n",
       "Name: buy_ts, Length: 36523, dtype: datetime64[ns]"
      ]
     },
     "execution_count": 162,
     "metadata": {},
     "output_type": "execute_result"
    }
   ],
   "source": [
    "date_of_purchase = pd.DataFrame()\n",
    "date_of_purchase = df_marketing_orders.groupby('uid')['buy_ts'].min()\n",
    "\n",
    "# Product purchase date\n",
    "date_of_purchase"
   ]
  },
  {
   "cell_type": "code",
   "execution_count": 163,
   "metadata": {},
   "outputs": [
    {
     "data": {
      "text/plain": [
       "Index(['device', 'end_ts', 'source_id', 'start_ts', 'uid', 'date_start',\n",
       "       'session_week', 'year_start', 'month_start', 'session_date',\n",
       "       'duration_session_min_end', 'duration_session_min_start',\n",
       "       'duration_session', 'session_year', 'first_session_date',\n",
       "       'date_of_purchase'],\n",
       "      dtype='object')"
      ]
     },
     "execution_count": 163,
     "metadata": {},
     "output_type": "execute_result"
    }
   ],
   "source": [
    "date_of_purchase.name = 'date_of_purchase'\n",
    "\n",
    "df_marketing_visits = df_marketing_visits.merge(date_of_purchase, on='uid', how='left')\n",
    "df_marketing_visits.columns"
   ]
  },
  {
   "cell_type": "code",
   "execution_count": null,
   "metadata": {},
   "outputs": [],
   "source": []
  },
  {
   "cell_type": "code",
   "execution_count": 164,
   "metadata": {},
   "outputs": [
    {
     "data": {
      "text/html": [
       "<div>\n",
       "<style scoped>\n",
       "    .dataframe tbody tr th:only-of-type {\n",
       "        vertical-align: middle;\n",
       "    }\n",
       "\n",
       "    .dataframe tbody tr th {\n",
       "        vertical-align: top;\n",
       "    }\n",
       "\n",
       "    .dataframe thead th {\n",
       "        text-align: right;\n",
       "    }\n",
       "</style>\n",
       "<table border=\"1\" class=\"dataframe\">\n",
       "  <thead>\n",
       "    <tr style=\"text-align: right;\">\n",
       "      <th></th>\n",
       "      <th></th>\n",
       "      <th>source_id</th>\n",
       "      <th>uid</th>\n",
       "    </tr>\n",
       "    <tr>\n",
       "      <th>first_session_date</th>\n",
       "      <th>date_of_purchase</th>\n",
       "      <th></th>\n",
       "      <th></th>\n",
       "    </tr>\n",
       "  </thead>\n",
       "  <tbody>\n",
       "    <tr>\n",
       "      <th>2017-06-01 00:09:00</th>\n",
       "      <th>2017-06-01 00:10:00</th>\n",
       "      <td>1</td>\n",
       "      <td>1</td>\n",
       "    </tr>\n",
       "    <tr>\n",
       "      <th rowspan=\"2\" valign=\"top\">2017-06-01 00:14:00</th>\n",
       "      <th>2017-06-01 00:25:00</th>\n",
       "      <td>1</td>\n",
       "      <td>1</td>\n",
       "    </tr>\n",
       "    <tr>\n",
       "      <th>2017-06-01 00:29:00</th>\n",
       "      <td>1</td>\n",
       "      <td>1</td>\n",
       "    </tr>\n",
       "    <tr>\n",
       "      <th>2017-06-01 00:25:00</th>\n",
       "      <th>2017-06-01 00:27:00</th>\n",
       "      <td>1</td>\n",
       "      <td>1</td>\n",
       "    </tr>\n",
       "    <tr>\n",
       "      <th>2017-06-01 01:18:00</th>\n",
       "      <th>2017-07-21 14:56:00</th>\n",
       "      <td>4</td>\n",
       "      <td>1</td>\n",
       "    </tr>\n",
       "    <tr>\n",
       "      <th>...</th>\n",
       "      <th>...</th>\n",
       "      <td>...</td>\n",
       "      <td>...</td>\n",
       "    </tr>\n",
       "    <tr>\n",
       "      <th>2018-05-31 23:26:00</th>\n",
       "      <th>2018-05-31 23:42:00</th>\n",
       "      <td>1</td>\n",
       "      <td>1</td>\n",
       "    </tr>\n",
       "    <tr>\n",
       "      <th>2018-05-31 23:31:00</th>\n",
       "      <th>2018-05-31 23:36:00</th>\n",
       "      <td>1</td>\n",
       "      <td>1</td>\n",
       "    </tr>\n",
       "    <tr>\n",
       "      <th>2018-05-31 23:35:00</th>\n",
       "      <th>2018-05-31 23:40:00</th>\n",
       "      <td>1</td>\n",
       "      <td>1</td>\n",
       "    </tr>\n",
       "    <tr>\n",
       "      <th>2018-05-31 23:52:00</th>\n",
       "      <th>2018-05-31 23:54:00</th>\n",
       "      <td>1</td>\n",
       "      <td>1</td>\n",
       "    </tr>\n",
       "    <tr>\n",
       "      <th>2018-05-31 23:59:00</th>\n",
       "      <th>2018-06-01 00:02:00</th>\n",
       "      <td>1</td>\n",
       "      <td>1</td>\n",
       "    </tr>\n",
       "  </tbody>\n",
       "</table>\n",
       "<p>36460 rows × 2 columns</p>\n",
       "</div>"
      ],
      "text/plain": [
       "                                         source_id  uid\n",
       "first_session_date  date_of_purchase                   \n",
       "2017-06-01 00:09:00 2017-06-01 00:10:00          1    1\n",
       "2017-06-01 00:14:00 2017-06-01 00:25:00          1    1\n",
       "                    2017-06-01 00:29:00          1    1\n",
       "2017-06-01 00:25:00 2017-06-01 00:27:00          1    1\n",
       "2017-06-01 01:18:00 2017-07-21 14:56:00          4    1\n",
       "...                                            ...  ...\n",
       "2018-05-31 23:26:00 2018-05-31 23:42:00          1    1\n",
       "2018-05-31 23:31:00 2018-05-31 23:36:00          1    1\n",
       "2018-05-31 23:35:00 2018-05-31 23:40:00          1    1\n",
       "2018-05-31 23:52:00 2018-05-31 23:54:00          1    1\n",
       "2018-05-31 23:59:00 2018-06-01 00:02:00          1    1\n",
       "\n",
       "[36460 rows x 2 columns]"
      ]
     },
     "execution_count": 164,
     "metadata": {},
     "output_type": "execute_result"
    }
   ],
   "source": [
    "sessions_grouped_by_purchase_date = df_marketing_visits.groupby(['first_session_date', 'date_of_purchase']).agg({'source_id': 'nunique', 'uid': 'nunique'})\n",
    "sessions_grouped_by_purchase_date"
   ]
  },
  {
   "cell_type": "code",
   "execution_count": 165,
   "metadata": {},
   "outputs": [],
   "source": [
    "sessions_grouped_by_purchase_date = sessions_grouped_by_purchase_date.reset_index()"
   ]
  },
  {
   "cell_type": "code",
   "execution_count": null,
   "metadata": {},
   "outputs": [],
   "source": []
  },
  {
   "cell_type": "code",
   "execution_count": 166,
   "metadata": {},
   "outputs": [],
   "source": [
    "sessions_grouped_by_purchase_date['first_session_month'] = sessions_grouped_by_purchase_date['first_session_date'].dt.month\n",
    "sessions_grouped_by_purchase_date['purchase_month'] = sessions_grouped_by_purchase_date['date_of_purchase'].dt.month"
   ]
  },
  {
   "cell_type": "code",
   "execution_count": 167,
   "metadata": {},
   "outputs": [
    {
     "data": {
      "text/html": [
       "<div>\n",
       "<style scoped>\n",
       "    .dataframe tbody tr th:only-of-type {\n",
       "        vertical-align: middle;\n",
       "    }\n",
       "\n",
       "    .dataframe tbody tr th {\n",
       "        vertical-align: top;\n",
       "    }\n",
       "\n",
       "    .dataframe thead th {\n",
       "        text-align: right;\n",
       "    }\n",
       "</style>\n",
       "<table border=\"1\" class=\"dataframe\">\n",
       "  <thead>\n",
       "    <tr style=\"text-align: right;\">\n",
       "      <th></th>\n",
       "      <th>first_session_date</th>\n",
       "      <th>date_of_purchase</th>\n",
       "      <th>source_id</th>\n",
       "      <th>uid</th>\n",
       "      <th>first_session_month</th>\n",
       "      <th>purchase_month</th>\n",
       "      <th>time_in_between</th>\n",
       "    </tr>\n",
       "  </thead>\n",
       "  <tbody>\n",
       "    <tr>\n",
       "      <th>0</th>\n",
       "      <td>2017-06-01 00:09:00</td>\n",
       "      <td>2017-06-01 00:10:00</td>\n",
       "      <td>1</td>\n",
       "      <td>1</td>\n",
       "      <td>6</td>\n",
       "      <td>6</td>\n",
       "      <td>-1 days +23:59:00</td>\n",
       "    </tr>\n",
       "    <tr>\n",
       "      <th>1</th>\n",
       "      <td>2017-06-01 00:14:00</td>\n",
       "      <td>2017-06-01 00:25:00</td>\n",
       "      <td>1</td>\n",
       "      <td>1</td>\n",
       "      <td>6</td>\n",
       "      <td>6</td>\n",
       "      <td>-1 days +23:49:00</td>\n",
       "    </tr>\n",
       "    <tr>\n",
       "      <th>2</th>\n",
       "      <td>2017-06-01 00:14:00</td>\n",
       "      <td>2017-06-01 00:29:00</td>\n",
       "      <td>1</td>\n",
       "      <td>1</td>\n",
       "      <td>6</td>\n",
       "      <td>6</td>\n",
       "      <td>-1 days +23:45:00</td>\n",
       "    </tr>\n",
       "    <tr>\n",
       "      <th>3</th>\n",
       "      <td>2017-06-01 00:25:00</td>\n",
       "      <td>2017-06-01 00:27:00</td>\n",
       "      <td>1</td>\n",
       "      <td>1</td>\n",
       "      <td>6</td>\n",
       "      <td>6</td>\n",
       "      <td>-1 days +23:58:00</td>\n",
       "    </tr>\n",
       "    <tr>\n",
       "      <th>4</th>\n",
       "      <td>2017-06-01 01:18:00</td>\n",
       "      <td>2017-07-21 14:56:00</td>\n",
       "      <td>4</td>\n",
       "      <td>1</td>\n",
       "      <td>6</td>\n",
       "      <td>7</td>\n",
       "      <td>-51 days +10:22:00</td>\n",
       "    </tr>\n",
       "    <tr>\n",
       "      <th>...</th>\n",
       "      <td>...</td>\n",
       "      <td>...</td>\n",
       "      <td>...</td>\n",
       "      <td>...</td>\n",
       "      <td>...</td>\n",
       "      <td>...</td>\n",
       "      <td>...</td>\n",
       "    </tr>\n",
       "    <tr>\n",
       "      <th>36455</th>\n",
       "      <td>2018-05-31 23:26:00</td>\n",
       "      <td>2018-05-31 23:42:00</td>\n",
       "      <td>1</td>\n",
       "      <td>1</td>\n",
       "      <td>5</td>\n",
       "      <td>5</td>\n",
       "      <td>-1 days +23:44:00</td>\n",
       "    </tr>\n",
       "    <tr>\n",
       "      <th>36456</th>\n",
       "      <td>2018-05-31 23:31:00</td>\n",
       "      <td>2018-05-31 23:36:00</td>\n",
       "      <td>1</td>\n",
       "      <td>1</td>\n",
       "      <td>5</td>\n",
       "      <td>5</td>\n",
       "      <td>-1 days +23:55:00</td>\n",
       "    </tr>\n",
       "    <tr>\n",
       "      <th>36457</th>\n",
       "      <td>2018-05-31 23:35:00</td>\n",
       "      <td>2018-05-31 23:40:00</td>\n",
       "      <td>1</td>\n",
       "      <td>1</td>\n",
       "      <td>5</td>\n",
       "      <td>5</td>\n",
       "      <td>-1 days +23:55:00</td>\n",
       "    </tr>\n",
       "    <tr>\n",
       "      <th>36458</th>\n",
       "      <td>2018-05-31 23:52:00</td>\n",
       "      <td>2018-05-31 23:54:00</td>\n",
       "      <td>1</td>\n",
       "      <td>1</td>\n",
       "      <td>5</td>\n",
       "      <td>5</td>\n",
       "      <td>-1 days +23:58:00</td>\n",
       "    </tr>\n",
       "    <tr>\n",
       "      <th>36459</th>\n",
       "      <td>2018-05-31 23:59:00</td>\n",
       "      <td>2018-06-01 00:02:00</td>\n",
       "      <td>1</td>\n",
       "      <td>1</td>\n",
       "      <td>5</td>\n",
       "      <td>6</td>\n",
       "      <td>-1 days +23:57:00</td>\n",
       "    </tr>\n",
       "  </tbody>\n",
       "</table>\n",
       "<p>36460 rows × 7 columns</p>\n",
       "</div>"
      ],
      "text/plain": [
       "       first_session_date    date_of_purchase  source_id  uid  \\\n",
       "0     2017-06-01 00:09:00 2017-06-01 00:10:00          1    1   \n",
       "1     2017-06-01 00:14:00 2017-06-01 00:25:00          1    1   \n",
       "2     2017-06-01 00:14:00 2017-06-01 00:29:00          1    1   \n",
       "3     2017-06-01 00:25:00 2017-06-01 00:27:00          1    1   \n",
       "4     2017-06-01 01:18:00 2017-07-21 14:56:00          4    1   \n",
       "...                   ...                 ...        ...  ...   \n",
       "36455 2018-05-31 23:26:00 2018-05-31 23:42:00          1    1   \n",
       "36456 2018-05-31 23:31:00 2018-05-31 23:36:00          1    1   \n",
       "36457 2018-05-31 23:35:00 2018-05-31 23:40:00          1    1   \n",
       "36458 2018-05-31 23:52:00 2018-05-31 23:54:00          1    1   \n",
       "36459 2018-05-31 23:59:00 2018-06-01 00:02:00          1    1   \n",
       "\n",
       "       first_session_month  purchase_month    time_in_between  \n",
       "0                        6               6  -1 days +23:59:00  \n",
       "1                        6               6  -1 days +23:49:00  \n",
       "2                        6               6  -1 days +23:45:00  \n",
       "3                        6               6  -1 days +23:58:00  \n",
       "4                        6               7 -51 days +10:22:00  \n",
       "...                    ...             ...                ...  \n",
       "36455                    5               5  -1 days +23:44:00  \n",
       "36456                    5               5  -1 days +23:55:00  \n",
       "36457                    5               5  -1 days +23:55:00  \n",
       "36458                    5               5  -1 days +23:58:00  \n",
       "36459                    5               6  -1 days +23:57:00  \n",
       "\n",
       "[36460 rows x 7 columns]"
      ]
     },
     "execution_count": 167,
     "metadata": {},
     "output_type": "execute_result"
    }
   ],
   "source": [
    "sessions_grouped_by_purchase_date['time_in_between'] = ( sessions_grouped_by_purchase_date['first_session_date'] -sessions_grouped_by_purchase_date['date_of_purchase'] )\n",
    "sessions_grouped_by_purchase_date"
   ]
  },
  {
   "cell_type": "code",
   "execution_count": 168,
   "metadata": {},
   "outputs": [],
   "source": [
    "# Aggregate\n",
    "purchases_grouped_by_cohorts = sessions_grouped_by_purchase_date.groupby(['first_session_month', 'date_of_purchase']).agg({'source_id': 'nunique', 'uid': 'nunique'})"
   ]
  },
  {
   "cell_type": "code",
   "execution_count": 169,
   "metadata": {},
   "outputs": [
    {
     "data": {
      "text/html": [
       "<div>\n",
       "<style scoped>\n",
       "    .dataframe tbody tr th:only-of-type {\n",
       "        vertical-align: middle;\n",
       "    }\n",
       "\n",
       "    .dataframe tbody tr th {\n",
       "        vertical-align: top;\n",
       "    }\n",
       "\n",
       "    .dataframe thead th {\n",
       "        text-align: right;\n",
       "    }\n",
       "</style>\n",
       "<table border=\"1\" class=\"dataframe\">\n",
       "  <thead>\n",
       "    <tr style=\"text-align: right;\">\n",
       "      <th></th>\n",
       "      <th>first_session_month</th>\n",
       "      <th>date_of_purchase</th>\n",
       "      <th>source_id</th>\n",
       "      <th>uid</th>\n",
       "      <th>time_per_user</th>\n",
       "    </tr>\n",
       "  </thead>\n",
       "  <tbody>\n",
       "    <tr>\n",
       "      <th>0</th>\n",
       "      <td>1</td>\n",
       "      <td>2018-01-01 00:42:00</td>\n",
       "      <td>1</td>\n",
       "      <td>1</td>\n",
       "      <td>1.0</td>\n",
       "    </tr>\n",
       "    <tr>\n",
       "      <th>1</th>\n",
       "      <td>1</td>\n",
       "      <td>2018-01-01 01:20:00</td>\n",
       "      <td>1</td>\n",
       "      <td>1</td>\n",
       "      <td>1.0</td>\n",
       "    </tr>\n",
       "    <tr>\n",
       "      <th>2</th>\n",
       "      <td>1</td>\n",
       "      <td>2018-01-01 04:44:00</td>\n",
       "      <td>1</td>\n",
       "      <td>1</td>\n",
       "      <td>1.0</td>\n",
       "    </tr>\n",
       "    <tr>\n",
       "      <th>3</th>\n",
       "      <td>1</td>\n",
       "      <td>2018-01-01 10:17:00</td>\n",
       "      <td>1</td>\n",
       "      <td>1</td>\n",
       "      <td>1.0</td>\n",
       "    </tr>\n",
       "    <tr>\n",
       "      <th>4</th>\n",
       "      <td>1</td>\n",
       "      <td>2018-01-01 10:26:00</td>\n",
       "      <td>1</td>\n",
       "      <td>1</td>\n",
       "      <td>1.0</td>\n",
       "    </tr>\n",
       "    <tr>\n",
       "      <th>...</th>\n",
       "      <td>...</td>\n",
       "      <td>...</td>\n",
       "      <td>...</td>\n",
       "      <td>...</td>\n",
       "      <td>...</td>\n",
       "    </tr>\n",
       "    <tr>\n",
       "      <th>34853</th>\n",
       "      <td>12</td>\n",
       "      <td>2018-05-31 10:58:00</td>\n",
       "      <td>1</td>\n",
       "      <td>1</td>\n",
       "      <td>1.0</td>\n",
       "    </tr>\n",
       "    <tr>\n",
       "      <th>34854</th>\n",
       "      <td>12</td>\n",
       "      <td>2018-05-31 12:04:00</td>\n",
       "      <td>1</td>\n",
       "      <td>1</td>\n",
       "      <td>1.0</td>\n",
       "    </tr>\n",
       "    <tr>\n",
       "      <th>34855</th>\n",
       "      <td>12</td>\n",
       "      <td>2018-05-31 12:57:00</td>\n",
       "      <td>1</td>\n",
       "      <td>1</td>\n",
       "      <td>1.0</td>\n",
       "    </tr>\n",
       "    <tr>\n",
       "      <th>34856</th>\n",
       "      <td>12</td>\n",
       "      <td>2018-05-31 14:23:00</td>\n",
       "      <td>1</td>\n",
       "      <td>1</td>\n",
       "      <td>1.0</td>\n",
       "    </tr>\n",
       "    <tr>\n",
       "      <th>34857</th>\n",
       "      <td>12</td>\n",
       "      <td>2018-05-31 23:43:00</td>\n",
       "      <td>1</td>\n",
       "      <td>1</td>\n",
       "      <td>1.0</td>\n",
       "    </tr>\n",
       "  </tbody>\n",
       "</table>\n",
       "<p>34858 rows × 5 columns</p>\n",
       "</div>"
      ],
      "text/plain": [
       "       first_session_month    date_of_purchase  source_id  uid  time_per_user\n",
       "0                        1 2018-01-01 00:42:00          1    1            1.0\n",
       "1                        1 2018-01-01 01:20:00          1    1            1.0\n",
       "2                        1 2018-01-01 04:44:00          1    1            1.0\n",
       "3                        1 2018-01-01 10:17:00          1    1            1.0\n",
       "4                        1 2018-01-01 10:26:00          1    1            1.0\n",
       "...                    ...                 ...        ...  ...            ...\n",
       "34853                   12 2018-05-31 10:58:00          1    1            1.0\n",
       "34854                   12 2018-05-31 12:04:00          1    1            1.0\n",
       "34855                   12 2018-05-31 12:57:00          1    1            1.0\n",
       "34856                   12 2018-05-31 14:23:00          1    1            1.0\n",
       "34857                   12 2018-05-31 23:43:00          1    1            1.0\n",
       "\n",
       "[34858 rows x 5 columns]"
      ]
     },
     "execution_count": 169,
     "metadata": {},
     "output_type": "execute_result"
    }
   ],
   "source": [
    "purchases_grouped_by_cohorts['time_per_user'] = (purchases_grouped_by_cohorts['source_id']/ purchases_grouped_by_cohorts['uid'])\n",
    "purchases_grouped_by_cohorts = purchases_grouped_by_cohorts.reset_index()\n",
    "purchases_grouped_by_cohorts"
   ]
  },
  {
   "cell_type": "code",
   "execution_count": 170,
   "metadata": {},
   "outputs": [
    {
     "data": {
      "text/plain": [
       "1.021774054736359"
      ]
     },
     "execution_count": 170,
     "metadata": {},
     "output_type": "execute_result"
    }
   ],
   "source": [
    "purchases_grouped_by_cohorts['time_per_user'].mean()"
   ]
  },
  {
   "cell_type": "code",
   "execution_count": 171,
   "metadata": {},
   "outputs": [
    {
     "data": {
      "text/plain": [
       "time_per_user\n",
       "1.0    34105\n",
       "2.0      737\n",
       "3.0       12\n",
       "0.5        4\n",
       "Name: count, dtype: int64"
      ]
     },
     "execution_count": 171,
     "metadata": {},
     "output_type": "execute_result"
    }
   ],
   "source": [
    "purchases_grouped_by_cohorts['time_per_user'].value_counts()"
   ]
  },
  {
   "cell_type": "code",
   "execution_count": 172,
   "metadata": {},
   "outputs": [
    {
     "data": {
      "text/html": [
       "<div>\n",
       "<style scoped>\n",
       "    .dataframe tbody tr th:only-of-type {\n",
       "        vertical-align: middle;\n",
       "    }\n",
       "\n",
       "    .dataframe tbody tr th {\n",
       "        vertical-align: top;\n",
       "    }\n",
       "\n",
       "    .dataframe thead th {\n",
       "        text-align: right;\n",
       "    }\n",
       "</style>\n",
       "<table border=\"1\" class=\"dataframe\">\n",
       "  <thead>\n",
       "    <tr style=\"text-align: right;\">\n",
       "      <th></th>\n",
       "      <th>first_session_month</th>\n",
       "      <th>date_of_purchase</th>\n",
       "      <th>source_id</th>\n",
       "      <th>uid</th>\n",
       "      <th>time_per_user</th>\n",
       "    </tr>\n",
       "  </thead>\n",
       "  <tbody>\n",
       "    <tr>\n",
       "      <th>0</th>\n",
       "      <td>1</td>\n",
       "      <td>2018-01-01 00:42:00</td>\n",
       "      <td>1</td>\n",
       "      <td>1</td>\n",
       "      <td>1.0</td>\n",
       "    </tr>\n",
       "    <tr>\n",
       "      <th>1</th>\n",
       "      <td>1</td>\n",
       "      <td>2018-01-01 01:20:00</td>\n",
       "      <td>1</td>\n",
       "      <td>1</td>\n",
       "      <td>1.0</td>\n",
       "    </tr>\n",
       "    <tr>\n",
       "      <th>2</th>\n",
       "      <td>1</td>\n",
       "      <td>2018-01-01 04:44:00</td>\n",
       "      <td>1</td>\n",
       "      <td>1</td>\n",
       "      <td>1.0</td>\n",
       "    </tr>\n",
       "    <tr>\n",
       "      <th>3</th>\n",
       "      <td>1</td>\n",
       "      <td>2018-01-01 10:17:00</td>\n",
       "      <td>1</td>\n",
       "      <td>1</td>\n",
       "      <td>1.0</td>\n",
       "    </tr>\n",
       "    <tr>\n",
       "      <th>4</th>\n",
       "      <td>1</td>\n",
       "      <td>2018-01-01 10:26:00</td>\n",
       "      <td>1</td>\n",
       "      <td>1</td>\n",
       "      <td>1.0</td>\n",
       "    </tr>\n",
       "    <tr>\n",
       "      <th>...</th>\n",
       "      <td>...</td>\n",
       "      <td>...</td>\n",
       "      <td>...</td>\n",
       "      <td>...</td>\n",
       "      <td>...</td>\n",
       "    </tr>\n",
       "    <tr>\n",
       "      <th>34853</th>\n",
       "      <td>12</td>\n",
       "      <td>2018-05-31 10:58:00</td>\n",
       "      <td>1</td>\n",
       "      <td>1</td>\n",
       "      <td>1.0</td>\n",
       "    </tr>\n",
       "    <tr>\n",
       "      <th>34854</th>\n",
       "      <td>12</td>\n",
       "      <td>2018-05-31 12:04:00</td>\n",
       "      <td>1</td>\n",
       "      <td>1</td>\n",
       "      <td>1.0</td>\n",
       "    </tr>\n",
       "    <tr>\n",
       "      <th>34855</th>\n",
       "      <td>12</td>\n",
       "      <td>2018-05-31 12:57:00</td>\n",
       "      <td>1</td>\n",
       "      <td>1</td>\n",
       "      <td>1.0</td>\n",
       "    </tr>\n",
       "    <tr>\n",
       "      <th>34856</th>\n",
       "      <td>12</td>\n",
       "      <td>2018-05-31 14:23:00</td>\n",
       "      <td>1</td>\n",
       "      <td>1</td>\n",
       "      <td>1.0</td>\n",
       "    </tr>\n",
       "    <tr>\n",
       "      <th>34857</th>\n",
       "      <td>12</td>\n",
       "      <td>2018-05-31 23:43:00</td>\n",
       "      <td>1</td>\n",
       "      <td>1</td>\n",
       "      <td>1.0</td>\n",
       "    </tr>\n",
       "  </tbody>\n",
       "</table>\n",
       "<p>34858 rows × 5 columns</p>\n",
       "</div>"
      ],
      "text/plain": [
       "       first_session_month    date_of_purchase  source_id  uid  time_per_user\n",
       "0                        1 2018-01-01 00:42:00          1    1            1.0\n",
       "1                        1 2018-01-01 01:20:00          1    1            1.0\n",
       "2                        1 2018-01-01 04:44:00          1    1            1.0\n",
       "3                        1 2018-01-01 10:17:00          1    1            1.0\n",
       "4                        1 2018-01-01 10:26:00          1    1            1.0\n",
       "...                    ...                 ...        ...  ...            ...\n",
       "34853                   12 2018-05-31 10:58:00          1    1            1.0\n",
       "34854                   12 2018-05-31 12:04:00          1    1            1.0\n",
       "34855                   12 2018-05-31 12:57:00          1    1            1.0\n",
       "34856                   12 2018-05-31 14:23:00          1    1            1.0\n",
       "34857                   12 2018-05-31 23:43:00          1    1            1.0\n",
       "\n",
       "[34858 rows x 5 columns]"
      ]
     },
     "execution_count": 172,
     "metadata": {},
     "output_type": "execute_result"
    }
   ],
   "source": [
    "purchases_grouped_by_cohorts"
   ]
  },
  {
   "cell_type": "code",
   "execution_count": 173,
   "metadata": {},
   "outputs": [],
   "source": [
    "df_filtered = purchases_grouped_by_cohorts.groupby(['time_per_user'])['first_session_month'].count().reset_index()"
   ]
  },
  {
   "cell_type": "code",
   "execution_count": 174,
   "metadata": {},
   "outputs": [
    {
     "data": {
      "text/html": [
       "<div>\n",
       "<style scoped>\n",
       "    .dataframe tbody tr th:only-of-type {\n",
       "        vertical-align: middle;\n",
       "    }\n",
       "\n",
       "    .dataframe tbody tr th {\n",
       "        vertical-align: top;\n",
       "    }\n",
       "\n",
       "    .dataframe thead th {\n",
       "        text-align: right;\n",
       "    }\n",
       "</style>\n",
       "<table border=\"1\" class=\"dataframe\">\n",
       "  <thead>\n",
       "    <tr style=\"text-align: right;\">\n",
       "      <th></th>\n",
       "      <th>time_per_user</th>\n",
       "      <th>first_session_month</th>\n",
       "    </tr>\n",
       "  </thead>\n",
       "  <tbody>\n",
       "    <tr>\n",
       "      <th>0</th>\n",
       "      <td>0.5</td>\n",
       "      <td>4</td>\n",
       "    </tr>\n",
       "    <tr>\n",
       "      <th>1</th>\n",
       "      <td>1.0</td>\n",
       "      <td>34105</td>\n",
       "    </tr>\n",
       "    <tr>\n",
       "      <th>2</th>\n",
       "      <td>2.0</td>\n",
       "      <td>737</td>\n",
       "    </tr>\n",
       "    <tr>\n",
       "      <th>3</th>\n",
       "      <td>3.0</td>\n",
       "      <td>12</td>\n",
       "    </tr>\n",
       "  </tbody>\n",
       "</table>\n",
       "</div>"
      ],
      "text/plain": [
       "   time_per_user  first_session_month\n",
       "0            0.5                    4\n",
       "1            1.0                34105\n",
       "2            2.0                  737\n",
       "3            3.0                   12"
      ]
     },
     "execution_count": 174,
     "metadata": {},
     "output_type": "execute_result"
    }
   ],
   "source": [
    "df_filtered"
   ]
  },
  {
   "cell_type": "code",
   "execution_count": 175,
   "metadata": {
    "scrolled": true
   },
   "outputs": [
    {
     "name": "stderr",
     "output_type": "stream",
     "text": [
      "No artists with labels found to put in legend.  Note that artists whose label start with an underscore are ignored when legend() is called with no argument.\n",
      "No artists with labels found to put in legend.  Note that artists whose label start with an underscore are ignored when legend() is called with no argument.\n"
     ]
    },
    {
     "data": {
      "image/png": "[encoded data removed]",
      "text/plain": [
       "<Figure size 1500x800 with 1 Axes>"
      ]
     },
     "metadata": {},
     "output_type": "display_data"
    }
   ],
   "source": [
    "plt.style.use('ggplot')\n",
    "ax = sns.barplot(data = df_filtered, x='time_per_user', y= 'first_session_month')\n",
    "ax.set_xlabel(\"Elapsed time\")\n",
    "ax.set_ylabel(\"Sessions per users\")\n",
    "\n",
    "plt.title(\"Distribution of elapsed time\") \n",
    "plt.rcParams['figure.figsize'] = [15, 8]\n",
    "plt.legend(bbox_to_anchor=(1.05, 1), loc=2, borderaxespad=0., ) \n",
    "plt.legend(loc='upper left')    \n",
    "\n",
    "for i in ax.containers:\n",
    "    ax.bar_label(i,)\n",
    "plt.show()  \n",
    "ax.figure.savefig('barplot_Distribution_of_elapsed_time2.png')"
   ]
  },
  {
   "cell_type": "code",
   "execution_count": 176,
   "metadata": {},
   "outputs": [],
   "source": []
  },
  {
   "cell_type": "markdown",
   "metadata": {},
   "source": [
    "The average time between user registration and conversion is 1.02 months. From the graph it can be seen that for the majority of users the waiting time is 1 month, while there is a minority of users who take up to 3 months to make their purchase."
   ]
  },
  {
   "cell_type": "code",
   "execution_count": 177,
   "metadata": {},
   "outputs": [],
   "source": []
  },
  {
   "cell_type": "code",
   "execution_count": 178,
   "metadata": {},
   "outputs": [
    {
     "data": {
      "text/html": [
       "<div>\n",
       "<style scoped>\n",
       "    .dataframe tbody tr th:only-of-type {\n",
       "        vertical-align: middle;\n",
       "    }\n",
       "\n",
       "    .dataframe tbody tr th {\n",
       "        vertical-align: top;\n",
       "    }\n",
       "\n",
       "    .dataframe thead th {\n",
       "        text-align: right;\n",
       "    }\n",
       "</style>\n",
       "<table border=\"1\" class=\"dataframe\">\n",
       "  <thead>\n",
       "    <tr style=\"text-align: right;\">\n",
       "      <th></th>\n",
       "      <th>first_session_date</th>\n",
       "      <th>date_of_purchase</th>\n",
       "      <th>source_id</th>\n",
       "      <th>uid</th>\n",
       "      <th>first_session_month</th>\n",
       "      <th>purchase_month</th>\n",
       "      <th>time_in_between</th>\n",
       "      <th>purchase_year</th>\n",
       "    </tr>\n",
       "  </thead>\n",
       "  <tbody>\n",
       "    <tr>\n",
       "      <th>0</th>\n",
       "      <td>2017-06-01 00:09:00</td>\n",
       "      <td>2017-06-01 00:10:00</td>\n",
       "      <td>1</td>\n",
       "      <td>1</td>\n",
       "      <td>6</td>\n",
       "      <td>6</td>\n",
       "      <td>-1 days +23:59:00</td>\n",
       "      <td>2017</td>\n",
       "    </tr>\n",
       "    <tr>\n",
       "      <th>1</th>\n",
       "      <td>2017-06-01 00:14:00</td>\n",
       "      <td>2017-06-01 00:25:00</td>\n",
       "      <td>1</td>\n",
       "      <td>1</td>\n",
       "      <td>6</td>\n",
       "      <td>6</td>\n",
       "      <td>-1 days +23:49:00</td>\n",
       "      <td>2017</td>\n",
       "    </tr>\n",
       "    <tr>\n",
       "      <th>2</th>\n",
       "      <td>2017-06-01 00:14:00</td>\n",
       "      <td>2017-06-01 00:29:00</td>\n",
       "      <td>1</td>\n",
       "      <td>1</td>\n",
       "      <td>6</td>\n",
       "      <td>6</td>\n",
       "      <td>-1 days +23:45:00</td>\n",
       "      <td>2017</td>\n",
       "    </tr>\n",
       "    <tr>\n",
       "      <th>3</th>\n",
       "      <td>2017-06-01 00:25:00</td>\n",
       "      <td>2017-06-01 00:27:00</td>\n",
       "      <td>1</td>\n",
       "      <td>1</td>\n",
       "      <td>6</td>\n",
       "      <td>6</td>\n",
       "      <td>-1 days +23:58:00</td>\n",
       "      <td>2017</td>\n",
       "    </tr>\n",
       "    <tr>\n",
       "      <th>4</th>\n",
       "      <td>2017-06-01 01:18:00</td>\n",
       "      <td>2017-07-21 14:56:00</td>\n",
       "      <td>4</td>\n",
       "      <td>1</td>\n",
       "      <td>6</td>\n",
       "      <td>7</td>\n",
       "      <td>-51 days +10:22:00</td>\n",
       "      <td>2017</td>\n",
       "    </tr>\n",
       "    <tr>\n",
       "      <th>...</th>\n",
       "      <td>...</td>\n",
       "      <td>...</td>\n",
       "      <td>...</td>\n",
       "      <td>...</td>\n",
       "      <td>...</td>\n",
       "      <td>...</td>\n",
       "      <td>...</td>\n",
       "      <td>...</td>\n",
       "    </tr>\n",
       "    <tr>\n",
       "      <th>36455</th>\n",
       "      <td>2018-05-31 23:26:00</td>\n",
       "      <td>2018-05-31 23:42:00</td>\n",
       "      <td>1</td>\n",
       "      <td>1</td>\n",
       "      <td>5</td>\n",
       "      <td>5</td>\n",
       "      <td>-1 days +23:44:00</td>\n",
       "      <td>2018</td>\n",
       "    </tr>\n",
       "    <tr>\n",
       "      <th>36456</th>\n",
       "      <td>2018-05-31 23:31:00</td>\n",
       "      <td>2018-05-31 23:36:00</td>\n",
       "      <td>1</td>\n",
       "      <td>1</td>\n",
       "      <td>5</td>\n",
       "      <td>5</td>\n",
       "      <td>-1 days +23:55:00</td>\n",
       "      <td>2018</td>\n",
       "    </tr>\n",
       "    <tr>\n",
       "      <th>36457</th>\n",
       "      <td>2018-05-31 23:35:00</td>\n",
       "      <td>2018-05-31 23:40:00</td>\n",
       "      <td>1</td>\n",
       "      <td>1</td>\n",
       "      <td>5</td>\n",
       "      <td>5</td>\n",
       "      <td>-1 days +23:55:00</td>\n",
       "      <td>2018</td>\n",
       "    </tr>\n",
       "    <tr>\n",
       "      <th>36458</th>\n",
       "      <td>2018-05-31 23:52:00</td>\n",
       "      <td>2018-05-31 23:54:00</td>\n",
       "      <td>1</td>\n",
       "      <td>1</td>\n",
       "      <td>5</td>\n",
       "      <td>5</td>\n",
       "      <td>-1 days +23:58:00</td>\n",
       "      <td>2018</td>\n",
       "    </tr>\n",
       "    <tr>\n",
       "      <th>36459</th>\n",
       "      <td>2018-05-31 23:59:00</td>\n",
       "      <td>2018-06-01 00:02:00</td>\n",
       "      <td>1</td>\n",
       "      <td>1</td>\n",
       "      <td>5</td>\n",
       "      <td>6</td>\n",
       "      <td>-1 days +23:57:00</td>\n",
       "      <td>2018</td>\n",
       "    </tr>\n",
       "  </tbody>\n",
       "</table>\n",
       "<p>36460 rows × 8 columns</p>\n",
       "</div>"
      ],
      "text/plain": [
       "       first_session_date    date_of_purchase  source_id  uid  \\\n",
       "0     2017-06-01 00:09:00 2017-06-01 00:10:00          1    1   \n",
       "1     2017-06-01 00:14:00 2017-06-01 00:25:00          1    1   \n",
       "2     2017-06-01 00:14:00 2017-06-01 00:29:00          1    1   \n",
       "3     2017-06-01 00:25:00 2017-06-01 00:27:00          1    1   \n",
       "4     2017-06-01 01:18:00 2017-07-21 14:56:00          4    1   \n",
       "...                   ...                 ...        ...  ...   \n",
       "36455 2018-05-31 23:26:00 2018-05-31 23:42:00          1    1   \n",
       "36456 2018-05-31 23:31:00 2018-05-31 23:36:00          1    1   \n",
       "36457 2018-05-31 23:35:00 2018-05-31 23:40:00          1    1   \n",
       "36458 2018-05-31 23:52:00 2018-05-31 23:54:00          1    1   \n",
       "36459 2018-05-31 23:59:00 2018-06-01 00:02:00          1    1   \n",
       "\n",
       "       first_session_month  purchase_month    time_in_between  purchase_year  \n",
       "0                        6               6  -1 days +23:59:00           2017  \n",
       "1                        6               6  -1 days +23:49:00           2017  \n",
       "2                        6               6  -1 days +23:45:00           2017  \n",
       "3                        6               6  -1 days +23:58:00           2017  \n",
       "4                        6               7 -51 days +10:22:00           2017  \n",
       "...                    ...             ...                ...            ...  \n",
       "36455                    5               5  -1 days +23:44:00           2018  \n",
       "36456                    5               5  -1 days +23:55:00           2018  \n",
       "36457                    5               5  -1 days +23:55:00           2018  \n",
       "36458                    5               5  -1 days +23:58:00           2018  \n",
       "36459                    5               6  -1 days +23:57:00           2018  \n",
       "\n",
       "[36460 rows x 8 columns]"
      ]
     },
     "execution_count": 178,
     "metadata": {},
     "output_type": "execute_result"
    }
   ],
   "source": [
    "# ¿How many orders do you make during a given period of time?\n",
    "\n",
    "sessions_grouped_by_purchase_date['purchase_year'] = sessions_grouped_by_purchase_date['date_of_purchase'].dt.year\n",
    "sessions_grouped_by_purchase_date"
   ]
  },
  {
   "cell_type": "code",
   "execution_count": 181,
   "metadata": {},
   "outputs": [
    {
     "data": {
      "text/html": [
       "<div>\n",
       "<style scoped>\n",
       "    .dataframe tbody tr th:only-of-type {\n",
       "        vertical-align: middle;\n",
       "    }\n",
       "\n",
       "    .dataframe tbody tr th {\n",
       "        vertical-align: top;\n",
       "    }\n",
       "\n",
       "    .dataframe thead th {\n",
       "        text-align: right;\n",
       "    }\n",
       "</style>\n",
       "<table border=\"1\" class=\"dataframe\">\n",
       "  <thead>\n",
       "    <tr style=\"text-align: right;\">\n",
       "      <th></th>\n",
       "      <th>purchase_year</th>\n",
       "      <th>purchase_month</th>\n",
       "      <th>uid</th>\n",
       "    </tr>\n",
       "  </thead>\n",
       "  <tbody>\n",
       "    <tr>\n",
       "      <th>0</th>\n",
       "      <td>2017</td>\n",
       "      <td>6</td>\n",
       "      <td>2023</td>\n",
       "    </tr>\n",
       "    <tr>\n",
       "      <th>1</th>\n",
       "      <td>2017</td>\n",
       "      <td>7</td>\n",
       "      <td>1923</td>\n",
       "    </tr>\n",
       "    <tr>\n",
       "      <th>2</th>\n",
       "      <td>2017</td>\n",
       "      <td>8</td>\n",
       "      <td>1370</td>\n",
       "    </tr>\n",
       "    <tr>\n",
       "      <th>3</th>\n",
       "      <td>2017</td>\n",
       "      <td>9</td>\n",
       "      <td>2581</td>\n",
       "    </tr>\n",
       "    <tr>\n",
       "      <th>4</th>\n",
       "      <td>2017</td>\n",
       "      <td>10</td>\n",
       "      <td>4340</td>\n",
       "    </tr>\n",
       "    <tr>\n",
       "      <th>5</th>\n",
       "      <td>2017</td>\n",
       "      <td>11</td>\n",
       "      <td>4081</td>\n",
       "    </tr>\n",
       "    <tr>\n",
       "      <th>6</th>\n",
       "      <td>2017</td>\n",
       "      <td>12</td>\n",
       "      <td>4383</td>\n",
       "    </tr>\n",
       "    <tr>\n",
       "      <th>7</th>\n",
       "      <td>2018</td>\n",
       "      <td>1</td>\n",
       "      <td>3373</td>\n",
       "    </tr>\n",
       "    <tr>\n",
       "      <th>8</th>\n",
       "      <td>2018</td>\n",
       "      <td>2</td>\n",
       "      <td>3651</td>\n",
       "    </tr>\n",
       "    <tr>\n",
       "      <th>9</th>\n",
       "      <td>2018</td>\n",
       "      <td>3</td>\n",
       "      <td>3533</td>\n",
       "    </tr>\n",
       "    <tr>\n",
       "      <th>10</th>\n",
       "      <td>2018</td>\n",
       "      <td>4</td>\n",
       "      <td>2276</td>\n",
       "    </tr>\n",
       "    <tr>\n",
       "      <th>11</th>\n",
       "      <td>2018</td>\n",
       "      <td>5</td>\n",
       "      <td>2988</td>\n",
       "    </tr>\n",
       "    <tr>\n",
       "      <th>12</th>\n",
       "      <td>2018</td>\n",
       "      <td>6</td>\n",
       "      <td>1</td>\n",
       "    </tr>\n",
       "  </tbody>\n",
       "</table>\n",
       "</div>"
      ],
      "text/plain": [
       "    purchase_year  purchase_month   uid\n",
       "0            2017               6  2023\n",
       "1            2017               7  1923\n",
       "2            2017               8  1370\n",
       "3            2017               9  2581\n",
       "4            2017              10  4340\n",
       "5            2017              11  4081\n",
       "6            2017              12  4383\n",
       "7            2018               1  3373\n",
       "8            2018               2  3651\n",
       "9            2018               3  3533\n",
       "10           2018               4  2276\n",
       "11           2018               5  2988\n",
       "12           2018               6     1"
      ]
     },
     "execution_count": 181,
     "metadata": {},
     "output_type": "execute_result"
    }
   ],
   "source": [
    "dfg2 = sessions_grouped_by_purchase_date.groupby(['purchase_year', 'purchase_month'])['uid'].sum().reset_index()\n",
    "dfg2"
   ]
  },
  {
   "cell_type": "code",
   "execution_count": 182,
   "metadata": {},
   "outputs": [],
   "source": [
    "dfg = dfg2"
   ]
  },
  {
   "cell_type": "code",
   "execution_count": 183,
   "metadata": {},
   "outputs": [
    {
     "data": {
      "text/html": [
       "<div>\n",
       "<style scoped>\n",
       "    .dataframe tbody tr th:only-of-type {\n",
       "        vertical-align: middle;\n",
       "    }\n",
       "\n",
       "    .dataframe tbody tr th {\n",
       "        vertical-align: top;\n",
       "    }\n",
       "\n",
       "    .dataframe thead th {\n",
       "        text-align: right;\n",
       "    }\n",
       "</style>\n",
       "<table border=\"1\" class=\"dataframe\">\n",
       "  <thead>\n",
       "    <tr style=\"text-align: right;\">\n",
       "      <th></th>\n",
       "      <th>purchase_month</th>\n",
       "      <th>uid</th>\n",
       "    </tr>\n",
       "  </thead>\n",
       "  <tbody>\n",
       "    <tr>\n",
       "      <th>0</th>\n",
       "      <td>6</td>\n",
       "      <td>2023</td>\n",
       "    </tr>\n",
       "    <tr>\n",
       "      <th>1</th>\n",
       "      <td>7</td>\n",
       "      <td>1923</td>\n",
       "    </tr>\n",
       "    <tr>\n",
       "      <th>2</th>\n",
       "      <td>8</td>\n",
       "      <td>1370</td>\n",
       "    </tr>\n",
       "    <tr>\n",
       "      <th>3</th>\n",
       "      <td>9</td>\n",
       "      <td>2581</td>\n",
       "    </tr>\n",
       "    <tr>\n",
       "      <th>4</th>\n",
       "      <td>10</td>\n",
       "      <td>4340</td>\n",
       "    </tr>\n",
       "    <tr>\n",
       "      <th>5</th>\n",
       "      <td>11</td>\n",
       "      <td>4081</td>\n",
       "    </tr>\n",
       "    <tr>\n",
       "      <th>6</th>\n",
       "      <td>12</td>\n",
       "      <td>4383</td>\n",
       "    </tr>\n",
       "    <tr>\n",
       "      <th>7</th>\n",
       "      <td>1</td>\n",
       "      <td>3373</td>\n",
       "    </tr>\n",
       "    <tr>\n",
       "      <th>8</th>\n",
       "      <td>2</td>\n",
       "      <td>3651</td>\n",
       "    </tr>\n",
       "    <tr>\n",
       "      <th>9</th>\n",
       "      <td>3</td>\n",
       "      <td>3533</td>\n",
       "    </tr>\n",
       "    <tr>\n",
       "      <th>10</th>\n",
       "      <td>4</td>\n",
       "      <td>2276</td>\n",
       "    </tr>\n",
       "    <tr>\n",
       "      <th>11</th>\n",
       "      <td>5</td>\n",
       "      <td>2988</td>\n",
       "    </tr>\n",
       "    <tr>\n",
       "      <th>12</th>\n",
       "      <td>6</td>\n",
       "      <td>1</td>\n",
       "    </tr>\n",
       "  </tbody>\n",
       "</table>\n",
       "</div>"
      ],
      "text/plain": [
       "    purchase_month   uid\n",
       "0                6  2023\n",
       "1                7  1923\n",
       "2                8  1370\n",
       "3                9  2581\n",
       "4               10  4340\n",
       "5               11  4081\n",
       "6               12  4383\n",
       "7                1  3373\n",
       "8                2  3651\n",
       "9                3  3533\n",
       "10               4  2276\n",
       "11               5  2988\n",
       "12               6     1"
      ]
     },
     "execution_count": 183,
     "metadata": {},
     "output_type": "execute_result"
    }
   ],
   "source": [
    "dfg = dfg.drop(['purchase_year'], axis=1)\n",
    "dfg"
   ]
  },
  {
   "cell_type": "code",
   "execution_count": 184,
   "metadata": {},
   "outputs": [
    {
     "data": {
      "text/html": [
       "<div>\n",
       "<style scoped>\n",
       "    .dataframe tbody tr th:only-of-type {\n",
       "        vertical-align: middle;\n",
       "    }\n",
       "\n",
       "    .dataframe tbody tr th {\n",
       "        vertical-align: top;\n",
       "    }\n",
       "\n",
       "    .dataframe thead th {\n",
       "        text-align: right;\n",
       "    }\n",
       "</style>\n",
       "<table border=\"1\" class=\"dataframe\">\n",
       "  <thead>\n",
       "    <tr style=\"text-align: right;\">\n",
       "      <th></th>\n",
       "      <th>uid</th>\n",
       "    </tr>\n",
       "    <tr>\n",
       "      <th>purchase_month</th>\n",
       "      <th></th>\n",
       "    </tr>\n",
       "  </thead>\n",
       "  <tbody>\n",
       "    <tr>\n",
       "      <th>6</th>\n",
       "      <td>2023</td>\n",
       "    </tr>\n",
       "    <tr>\n",
       "      <th>7</th>\n",
       "      <td>1923</td>\n",
       "    </tr>\n",
       "    <tr>\n",
       "      <th>8</th>\n",
       "      <td>1370</td>\n",
       "    </tr>\n",
       "    <tr>\n",
       "      <th>9</th>\n",
       "      <td>2581</td>\n",
       "    </tr>\n",
       "    <tr>\n",
       "      <th>10</th>\n",
       "      <td>4340</td>\n",
       "    </tr>\n",
       "    <tr>\n",
       "      <th>11</th>\n",
       "      <td>4081</td>\n",
       "    </tr>\n",
       "    <tr>\n",
       "      <th>12</th>\n",
       "      <td>4383</td>\n",
       "    </tr>\n",
       "    <tr>\n",
       "      <th>1</th>\n",
       "      <td>3373</td>\n",
       "    </tr>\n",
       "    <tr>\n",
       "      <th>2</th>\n",
       "      <td>3651</td>\n",
       "    </tr>\n",
       "    <tr>\n",
       "      <th>3</th>\n",
       "      <td>3533</td>\n",
       "    </tr>\n",
       "    <tr>\n",
       "      <th>4</th>\n",
       "      <td>2276</td>\n",
       "    </tr>\n",
       "    <tr>\n",
       "      <th>5</th>\n",
       "      <td>2988</td>\n",
       "    </tr>\n",
       "    <tr>\n",
       "      <th>6</th>\n",
       "      <td>1</td>\n",
       "    </tr>\n",
       "  </tbody>\n",
       "</table>\n",
       "</div>"
      ],
      "text/plain": [
       "                 uid\n",
       "purchase_month      \n",
       "6               2023\n",
       "7               1923\n",
       "8               1370\n",
       "9               2581\n",
       "10              4340\n",
       "11              4081\n",
       "12              4383\n",
       "1               3373\n",
       "2               3651\n",
       "3               3533\n",
       "4               2276\n",
       "5               2988\n",
       "6                  1"
      ]
     },
     "execution_count": 184,
     "metadata": {},
     "output_type": "execute_result"
    }
   ],
   "source": [
    "dfg = dfg.set_index(['purchase_month'])\n",
    "dfg"
   ]
  },
  {
   "cell_type": "code",
   "execution_count": 187,
   "metadata": {
    "scrolled": true
   },
   "outputs": [
    {
     "data": {
      "image/png": "[encoded data removed]",
      "text/plain": [
       "<Figure size 1500x800 with 1 Axes>"
      ]
     },
     "metadata": {},
     "output_type": "display_data"
    }
   ],
   "source": [
    "plt.style.use('ggplot')\n",
    "ax = dfg[['uid']].plot(kind='bar', title =\"Purchases by months in last of 2017 and the beginning of 2018\",figsize=(15,8),legend=True, fontsize=12)\n",
    "\n",
    "ax.set_xlabel(\"Months\")\n",
    "ax.set_ylabel(\"Purchases\")\n",
    "\n",
    "plt.rcParams['figure.figsize'] = [15, 8]\n",
    "plt.xticks(rotation=0)\n",
    "for i in ax.containers:\n",
    "    ax.bar_label(i,)\n",
    "\n",
    "plt.show()  \n",
    "ax.figure.savefig('barplot_purchases_by_months_okeyy.png')"
   ]
  },
  {
   "cell_type": "markdown",
   "metadata": {},
   "source": [
    "From the previous graph, in which the first 6 months correspond to 2017, the months of October and December 2017 saw the largest purchases, these being for a value of 4383, while in August of the same year for a value of 1370, this being the lower value."
   ]
  },
  {
   "cell_type": "code",
   "execution_count": 188,
   "metadata": {},
   "outputs": [
    {
     "data": {
      "text/plain": [
       "uid    2809.461538\n",
       "dtype: float64"
      ]
     },
     "execution_count": 188,
     "metadata": {},
     "output_type": "execute_result"
    }
   ],
   "source": [
    "# Find average purchases\n",
    "\n",
    "dfg.mean()"
   ]
  },
  {
   "cell_type": "markdown",
   "metadata": {},
   "source": [
    "Taking into account the data period available, on average, 2,809 monthly purchases are made."
   ]
  },
  {
   "cell_type": "code",
   "execution_count": 197,
   "metadata": {},
   "outputs": [],
   "source": [
    "# Finding the LTV score\n",
    "\n",
    "#It is useful to find the LTV for different cohorts. Let's review what we have to do:\n",
    "#1. find the date of each customer's first purchase;\n",
    "#2. calculate the number of new customers for each date (or date range, in this case, for each month);\n",
    "#3. add the month of the first order to the order table;\n",
    "#4. group the table and calculate the income."
   ]
  },
  {
   "cell_type": "code",
   "execution_count": 189,
   "metadata": {},
   "outputs": [
    {
     "data": {
      "text/html": [
       "<div>\n",
       "<style scoped>\n",
       "    .dataframe tbody tr th:only-of-type {\n",
       "        vertical-align: middle;\n",
       "    }\n",
       "\n",
       "    .dataframe tbody tr th {\n",
       "        vertical-align: top;\n",
       "    }\n",
       "\n",
       "    .dataframe thead th {\n",
       "        text-align: right;\n",
       "    }\n",
       "</style>\n",
       "<table border=\"1\" class=\"dataframe\">\n",
       "  <thead>\n",
       "    <tr style=\"text-align: right;\">\n",
       "      <th></th>\n",
       "      <th>uid</th>\n",
       "      <th>first_order_month</th>\n",
       "    </tr>\n",
       "  </thead>\n",
       "  <tbody>\n",
       "    <tr>\n",
       "      <th>0</th>\n",
       "      <td>313578113262317</td>\n",
       "      <td>1</td>\n",
       "    </tr>\n",
       "    <tr>\n",
       "      <th>1</th>\n",
       "      <td>1575281904278712</td>\n",
       "      <td>6</td>\n",
       "    </tr>\n",
       "    <tr>\n",
       "      <th>2</th>\n",
       "      <td>2429014661409475</td>\n",
       "      <td>10</td>\n",
       "    </tr>\n",
       "    <tr>\n",
       "      <th>3</th>\n",
       "      <td>2464366381792757</td>\n",
       "      <td>1</td>\n",
       "    </tr>\n",
       "    <tr>\n",
       "      <th>4</th>\n",
       "      <td>2551852515556206</td>\n",
       "      <td>11</td>\n",
       "    </tr>\n",
       "  </tbody>\n",
       "</table>\n",
       "</div>"
      ],
      "text/plain": [
       "                uid  first_order_month\n",
       "0   313578113262317                  1\n",
       "1  1575281904278712                  6\n",
       "2  2429014661409475                 10\n",
       "3  2464366381792757                  1\n",
       "4  2551852515556206                 11"
      ]
     },
     "execution_count": 189,
     "metadata": {},
     "output_type": "execute_result"
    }
   ],
   "source": [
    "df_marketing_orders['order_month'] = df_marketing_orders['buy_ts'].dt.month\n",
    "df_marketing_cost['month'] = df_marketing_cost['dt'].dt.month\n",
    "\n",
    "first_orders = df_marketing_orders.groupby('uid').agg({'order_month': 'min'}).reset_index()\n",
    "first_orders.columns = ['uid', 'first_order_month']\n",
    "first_orders.head() "
   ]
  },
  {
   "cell_type": "code",
   "execution_count": 190,
   "metadata": {},
   "outputs": [
    {
     "data": {
      "text/html": [
       "<div>\n",
       "<style scoped>\n",
       "    .dataframe tbody tr th:only-of-type {\n",
       "        vertical-align: middle;\n",
       "    }\n",
       "\n",
       "    .dataframe tbody tr th {\n",
       "        vertical-align: top;\n",
       "    }\n",
       "\n",
       "    .dataframe thead th {\n",
       "        text-align: right;\n",
       "    }\n",
       "</style>\n",
       "<table border=\"1\" class=\"dataframe\">\n",
       "  <thead>\n",
       "    <tr style=\"text-align: right;\">\n",
       "      <th></th>\n",
       "      <th>first_order_month</th>\n",
       "      <th>n_buyers</th>\n",
       "    </tr>\n",
       "  </thead>\n",
       "  <tbody>\n",
       "    <tr>\n",
       "      <th>0</th>\n",
       "      <td>1</td>\n",
       "      <td>3898</td>\n",
       "    </tr>\n",
       "    <tr>\n",
       "      <th>1</th>\n",
       "      <td>2</td>\n",
       "      <td>4054</td>\n",
       "    </tr>\n",
       "    <tr>\n",
       "      <th>2</th>\n",
       "      <td>3</td>\n",
       "      <td>3856</td>\n",
       "    </tr>\n",
       "    <tr>\n",
       "      <th>3</th>\n",
       "      <td>4</td>\n",
       "      <td>2445</td>\n",
       "    </tr>\n",
       "    <tr>\n",
       "      <th>4</th>\n",
       "      <td>5</td>\n",
       "      <td>3194</td>\n",
       "    </tr>\n",
       "  </tbody>\n",
       "</table>\n",
       "</div>"
      ],
      "text/plain": [
       "   first_order_month  n_buyers\n",
       "0                  1      3898\n",
       "1                  2      4054\n",
       "2                  3      3856\n",
       "3                  4      2445\n",
       "4                  5      3194"
      ]
     },
     "execution_count": 190,
     "metadata": {},
     "output_type": "execute_result"
    }
   ],
   "source": [
    "cohort_sizes = first_orders.groupby('first_order_month').agg({'uid': 'nunique'}).reset_index()\n",
    "cohort_sizes.columns = ['first_order_month', 'n_buyers']\n",
    "cohort_sizes.head() "
   ]
  },
  {
   "cell_type": "code",
   "execution_count": 191,
   "metadata": {},
   "outputs": [
    {
     "data": {
      "text/html": [
       "<div>\n",
       "<style scoped>\n",
       "    .dataframe tbody tr th:only-of-type {\n",
       "        vertical-align: middle;\n",
       "    }\n",
       "\n",
       "    .dataframe tbody tr th {\n",
       "        vertical-align: top;\n",
       "    }\n",
       "\n",
       "    .dataframe thead th {\n",
       "        text-align: right;\n",
       "    }\n",
       "</style>\n",
       "<table border=\"1\" class=\"dataframe\">\n",
       "  <thead>\n",
       "    <tr style=\"text-align: right;\">\n",
       "      <th></th>\n",
       "      <th>buy_ts</th>\n",
       "      <th>revenue</th>\n",
       "      <th>uid</th>\n",
       "      <th>order_month</th>\n",
       "      <th>first_order_month</th>\n",
       "    </tr>\n",
       "  </thead>\n",
       "  <tbody>\n",
       "    <tr>\n",
       "      <th>0</th>\n",
       "      <td>2017-06-01 00:10:00</td>\n",
       "      <td>17.00</td>\n",
       "      <td>10329302124590727494</td>\n",
       "      <td>6</td>\n",
       "      <td>6</td>\n",
       "    </tr>\n",
       "    <tr>\n",
       "      <th>1</th>\n",
       "      <td>2017-06-01 00:25:00</td>\n",
       "      <td>0.55</td>\n",
       "      <td>11627257723692907447</td>\n",
       "      <td>6</td>\n",
       "      <td>6</td>\n",
       "    </tr>\n",
       "    <tr>\n",
       "      <th>2</th>\n",
       "      <td>2017-06-01 00:27:00</td>\n",
       "      <td>0.37</td>\n",
       "      <td>17903680561304213844</td>\n",
       "      <td>6</td>\n",
       "      <td>6</td>\n",
       "    </tr>\n",
       "    <tr>\n",
       "      <th>3</th>\n",
       "      <td>2017-06-01 00:29:00</td>\n",
       "      <td>0.55</td>\n",
       "      <td>16109239769442553005</td>\n",
       "      <td>6</td>\n",
       "      <td>6</td>\n",
       "    </tr>\n",
       "    <tr>\n",
       "      <th>4</th>\n",
       "      <td>2017-06-01 07:58:00</td>\n",
       "      <td>0.37</td>\n",
       "      <td>14200605875248379450</td>\n",
       "      <td>6</td>\n",
       "      <td>6</td>\n",
       "    </tr>\n",
       "  </tbody>\n",
       "</table>\n",
       "</div>"
      ],
      "text/plain": [
       "               buy_ts  revenue                   uid  order_month  \\\n",
       "0 2017-06-01 00:10:00    17.00  10329302124590727494            6   \n",
       "1 2017-06-01 00:25:00     0.55  11627257723692907447            6   \n",
       "2 2017-06-01 00:27:00     0.37  17903680561304213844            6   \n",
       "3 2017-06-01 00:29:00     0.55  16109239769442553005            6   \n",
       "4 2017-06-01 07:58:00     0.37  14200605875248379450            6   \n",
       "\n",
       "   first_order_month  \n",
       "0                  6  \n",
       "1                  6  \n",
       "2                  6  \n",
       "3                  6  \n",
       "4                  6  "
      ]
     },
     "execution_count": 191,
     "metadata": {},
     "output_type": "execute_result"
    }
   ],
   "source": [
    "df_marketing_orders_ = pd.merge(df_marketing_orders, first_orders, on='uid')\n",
    "df_marketing_orders_.head() "
   ]
  },
  {
   "cell_type": "code",
   "execution_count": 192,
   "metadata": {},
   "outputs": [
    {
     "data": {
      "text/html": [
       "<div>\n",
       "<style scoped>\n",
       "    .dataframe tbody tr th:only-of-type {\n",
       "        vertical-align: middle;\n",
       "    }\n",
       "\n",
       "    .dataframe tbody tr th {\n",
       "        vertical-align: top;\n",
       "    }\n",
       "\n",
       "    .dataframe thead th {\n",
       "        text-align: right;\n",
       "    }\n",
       "</style>\n",
       "<table border=\"1\" class=\"dataframe\">\n",
       "  <thead>\n",
       "    <tr style=\"text-align: right;\">\n",
       "      <th></th>\n",
       "      <th>first_order_month</th>\n",
       "      <th>order_month</th>\n",
       "      <th>revenue</th>\n",
       "    </tr>\n",
       "  </thead>\n",
       "  <tbody>\n",
       "    <tr>\n",
       "      <th>0</th>\n",
       "      <td>1</td>\n",
       "      <td>1</td>\n",
       "      <td>19417.13</td>\n",
       "    </tr>\n",
       "    <tr>\n",
       "      <th>1</th>\n",
       "      <td>1</td>\n",
       "      <td>2</td>\n",
       "      <td>8275.63</td>\n",
       "    </tr>\n",
       "    <tr>\n",
       "      <th>2</th>\n",
       "      <td>1</td>\n",
       "      <td>3</td>\n",
       "      <td>7970.76</td>\n",
       "    </tr>\n",
       "    <tr>\n",
       "      <th>3</th>\n",
       "      <td>1</td>\n",
       "      <td>4</td>\n",
       "      <td>3697.85</td>\n",
       "    </tr>\n",
       "    <tr>\n",
       "      <th>4</th>\n",
       "      <td>1</td>\n",
       "      <td>5</td>\n",
       "      <td>2676.91</td>\n",
       "    </tr>\n",
       "  </tbody>\n",
       "</table>\n",
       "</div>"
      ],
      "text/plain": [
       "   first_order_month  order_month   revenue\n",
       "0                  1            1  19417.13\n",
       "1                  1            2   8275.63\n",
       "2                  1            3   7970.76\n",
       "3                  1            4   3697.85\n",
       "4                  1            5   2676.91"
      ]
     },
     "execution_count": 192,
     "metadata": {},
     "output_type": "execute_result"
    }
   ],
   "source": [
    "cohorts = df_marketing_orders_.groupby(['first_order_month','order_month']).agg({'revenue': 'sum'}).reset_index()\n",
    "cohorts.head() "
   ]
  },
  {
   "cell_type": "code",
   "execution_count": 193,
   "metadata": {},
   "outputs": [
    {
     "data": {
      "text/html": [
       "<div>\n",
       "<style scoped>\n",
       "    .dataframe tbody tr th:only-of-type {\n",
       "        vertical-align: middle;\n",
       "    }\n",
       "\n",
       "    .dataframe tbody tr th {\n",
       "        vertical-align: top;\n",
       "    }\n",
       "\n",
       "    .dataframe thead th {\n",
       "        text-align: right;\n",
       "    }\n",
       "</style>\n",
       "<table border=\"1\" class=\"dataframe\">\n",
       "  <thead>\n",
       "    <tr style=\"text-align: right;\">\n",
       "      <th></th>\n",
       "      <th>first_order_month</th>\n",
       "      <th>n_buyers</th>\n",
       "      <th>order_month</th>\n",
       "      <th>revenue</th>\n",
       "    </tr>\n",
       "  </thead>\n",
       "  <tbody>\n",
       "    <tr>\n",
       "      <th>0</th>\n",
       "      <td>1</td>\n",
       "      <td>3898</td>\n",
       "      <td>1</td>\n",
       "      <td>19417.13</td>\n",
       "    </tr>\n",
       "    <tr>\n",
       "      <th>1</th>\n",
       "      <td>1</td>\n",
       "      <td>3898</td>\n",
       "      <td>2</td>\n",
       "      <td>8275.63</td>\n",
       "    </tr>\n",
       "    <tr>\n",
       "      <th>2</th>\n",
       "      <td>1</td>\n",
       "      <td>3898</td>\n",
       "      <td>3</td>\n",
       "      <td>7970.76</td>\n",
       "    </tr>\n",
       "    <tr>\n",
       "      <th>3</th>\n",
       "      <td>1</td>\n",
       "      <td>3898</td>\n",
       "      <td>4</td>\n",
       "      <td>3697.85</td>\n",
       "    </tr>\n",
       "    <tr>\n",
       "      <th>4</th>\n",
       "      <td>1</td>\n",
       "      <td>3898</td>\n",
       "      <td>5</td>\n",
       "      <td>2676.91</td>\n",
       "    </tr>\n",
       "  </tbody>\n",
       "</table>\n",
       "</div>"
      ],
      "text/plain": [
       "   first_order_month  n_buyers  order_month   revenue\n",
       "0                  1      3898            1  19417.13\n",
       "1                  1      3898            2   8275.63\n",
       "2                  1      3898            3   7970.76\n",
       "3                  1      3898            4   3697.85\n",
       "4                  1      3898            5   2676.91"
      ]
     },
     "execution_count": 193,
     "metadata": {},
     "output_type": "execute_result"
    }
   ],
   "source": [
    "report = pd.merge(cohort_sizes, cohorts, on='first_order_month')\n",
    "report.head() "
   ]
  },
  {
   "cell_type": "code",
   "execution_count": 194,
   "metadata": {},
   "outputs": [
    {
     "data": {
      "text/html": [
       "<div>\n",
       "<style scoped>\n",
       "    .dataframe tbody tr th:only-of-type {\n",
       "        vertical-align: middle;\n",
       "    }\n",
       "\n",
       "    .dataframe tbody tr th {\n",
       "        vertical-align: top;\n",
       "    }\n",
       "\n",
       "    .dataframe thead th {\n",
       "        text-align: right;\n",
       "    }\n",
       "</style>\n",
       "<table border=\"1\" class=\"dataframe\">\n",
       "  <thead>\n",
       "    <tr style=\"text-align: right;\">\n",
       "      <th></th>\n",
       "      <th>first_order_month</th>\n",
       "      <th>n_buyers</th>\n",
       "      <th>order_month</th>\n",
       "      <th>revenue</th>\n",
       "      <th>gp</th>\n",
       "      <th>age</th>\n",
       "    </tr>\n",
       "  </thead>\n",
       "  <tbody>\n",
       "    <tr>\n",
       "      <th>0</th>\n",
       "      <td>1</td>\n",
       "      <td>3898</td>\n",
       "      <td>1</td>\n",
       "      <td>19417.13</td>\n",
       "      <td>7766.852</td>\n",
       "      <td>0</td>\n",
       "    </tr>\n",
       "    <tr>\n",
       "      <th>1</th>\n",
       "      <td>1</td>\n",
       "      <td>3898</td>\n",
       "      <td>2</td>\n",
       "      <td>8275.63</td>\n",
       "      <td>3310.252</td>\n",
       "      <td>1</td>\n",
       "    </tr>\n",
       "    <tr>\n",
       "      <th>2</th>\n",
       "      <td>1</td>\n",
       "      <td>3898</td>\n",
       "      <td>3</td>\n",
       "      <td>7970.76</td>\n",
       "      <td>3188.304</td>\n",
       "      <td>2</td>\n",
       "    </tr>\n",
       "    <tr>\n",
       "      <th>3</th>\n",
       "      <td>1</td>\n",
       "      <td>3898</td>\n",
       "      <td>4</td>\n",
       "      <td>3697.85</td>\n",
       "      <td>1479.140</td>\n",
       "      <td>3</td>\n",
       "    </tr>\n",
       "    <tr>\n",
       "      <th>4</th>\n",
       "      <td>1</td>\n",
       "      <td>3898</td>\n",
       "      <td>5</td>\n",
       "      <td>2676.91</td>\n",
       "      <td>1070.764</td>\n",
       "      <td>4</td>\n",
       "    </tr>\n",
       "  </tbody>\n",
       "</table>\n",
       "</div>"
      ],
      "text/plain": [
       "   first_order_month  n_buyers  order_month   revenue        gp  age\n",
       "0                  1      3898            1  19417.13  7766.852    0\n",
       "1                  1      3898            2   8275.63  3310.252    1\n",
       "2                  1      3898            3   7970.76  3188.304    2\n",
       "3                  1      3898            4   3697.85  1479.140    3\n",
       "4                  1      3898            5   2676.91  1070.764    4"
      ]
     },
     "execution_count": 194,
     "metadata": {},
     "output_type": "execute_result"
    }
   ],
   "source": [
    "margin_rate = 0.4\n",
    "report['gp'] = report['revenue'] * margin_rate\n",
    "report['age'] = (report['order_month'] - report['first_order_month']) / np.timedelta64(1, 'M').astype('int64') \n",
    "report['age'] = report['age'].round().astype('int')\n",
    "report.head() "
   ]
  },
  {
   "cell_type": "code",
   "execution_count": 195,
   "metadata": {},
   "outputs": [
    {
     "data": {
      "text/html": [
       "<div>\n",
       "<style scoped>\n",
       "    .dataframe tbody tr th:only-of-type {\n",
       "        vertical-align: middle;\n",
       "    }\n",
       "\n",
       "    .dataframe tbody tr th {\n",
       "        vertical-align: top;\n",
       "    }\n",
       "\n",
       "    .dataframe thead th {\n",
       "        text-align: right;\n",
       "    }\n",
       "</style>\n",
       "<table border=\"1\" class=\"dataframe\">\n",
       "  <thead>\n",
       "    <tr style=\"text-align: right;\">\n",
       "      <th></th>\n",
       "      <th>first_order_month</th>\n",
       "      <th>n_buyers</th>\n",
       "      <th>order_month</th>\n",
       "      <th>revenue</th>\n",
       "      <th>gp</th>\n",
       "      <th>age</th>\n",
       "    </tr>\n",
       "  </thead>\n",
       "  <tbody>\n",
       "    <tr>\n",
       "      <th>53</th>\n",
       "      <td>6</td>\n",
       "      <td>1865</td>\n",
       "      <td>9</td>\n",
       "      <td>294.79</td>\n",
       "      <td>117.916</td>\n",
       "      <td>3</td>\n",
       "    </tr>\n",
       "    <tr>\n",
       "      <th>54</th>\n",
       "      <td>6</td>\n",
       "      <td>1865</td>\n",
       "      <td>10</td>\n",
       "      <td>275.81</td>\n",
       "      <td>110.324</td>\n",
       "      <td>4</td>\n",
       "    </tr>\n",
       "    <tr>\n",
       "      <th>55</th>\n",
       "      <td>6</td>\n",
       "      <td>1865</td>\n",
       "      <td>11</td>\n",
       "      <td>222.68</td>\n",
       "      <td>89.072</td>\n",
       "      <td>5</td>\n",
       "    </tr>\n",
       "    <tr>\n",
       "      <th>56</th>\n",
       "      <td>6</td>\n",
       "      <td>1865</td>\n",
       "      <td>12</td>\n",
       "      <td>114.57</td>\n",
       "      <td>45.828</td>\n",
       "      <td>6</td>\n",
       "    </tr>\n",
       "    <tr>\n",
       "      <th>57</th>\n",
       "      <td>7</td>\n",
       "      <td>1796</td>\n",
       "      <td>7</td>\n",
       "      <td>10405.79</td>\n",
       "      <td>4162.316</td>\n",
       "      <td>0</td>\n",
       "    </tr>\n",
       "    <tr>\n",
       "      <th>58</th>\n",
       "      <td>7</td>\n",
       "      <td>1796</td>\n",
       "      <td>8</td>\n",
       "      <td>319.00</td>\n",
       "      <td>127.600</td>\n",
       "      <td>1</td>\n",
       "    </tr>\n",
       "    <tr>\n",
       "      <th>59</th>\n",
       "      <td>7</td>\n",
       "      <td>1796</td>\n",
       "      <td>9</td>\n",
       "      <td>436.92</td>\n",
       "      <td>174.768</td>\n",
       "      <td>2</td>\n",
       "    </tr>\n",
       "    <tr>\n",
       "      <th>60</th>\n",
       "      <td>7</td>\n",
       "      <td>1796</td>\n",
       "      <td>10</td>\n",
       "      <td>394.43</td>\n",
       "      <td>157.772</td>\n",
       "      <td>3</td>\n",
       "    </tr>\n",
       "    <tr>\n",
       "      <th>61</th>\n",
       "      <td>7</td>\n",
       "      <td>1796</td>\n",
       "      <td>11</td>\n",
       "      <td>139.95</td>\n",
       "      <td>55.980</td>\n",
       "      <td>4</td>\n",
       "    </tr>\n",
       "    <tr>\n",
       "      <th>62</th>\n",
       "      <td>7</td>\n",
       "      <td>1796</td>\n",
       "      <td>12</td>\n",
       "      <td>136.21</td>\n",
       "      <td>54.484</td>\n",
       "      <td>5</td>\n",
       "    </tr>\n",
       "    <tr>\n",
       "      <th>63</th>\n",
       "      <td>8</td>\n",
       "      <td>1245</td>\n",
       "      <td>8</td>\n",
       "      <td>6323.37</td>\n",
       "      <td>2529.348</td>\n",
       "      <td>0</td>\n",
       "    </tr>\n",
       "    <tr>\n",
       "      <th>64</th>\n",
       "      <td>8</td>\n",
       "      <td>1245</td>\n",
       "      <td>9</td>\n",
       "      <td>265.91</td>\n",
       "      <td>106.364</td>\n",
       "      <td>1</td>\n",
       "    </tr>\n",
       "    <tr>\n",
       "      <th>65</th>\n",
       "      <td>8</td>\n",
       "      <td>1245</td>\n",
       "      <td>10</td>\n",
       "      <td>278.17</td>\n",
       "      <td>111.268</td>\n",
       "      <td>2</td>\n",
       "    </tr>\n",
       "    <tr>\n",
       "      <th>66</th>\n",
       "      <td>8</td>\n",
       "      <td>1245</td>\n",
       "      <td>11</td>\n",
       "      <td>192.86</td>\n",
       "      <td>77.144</td>\n",
       "      <td>3</td>\n",
       "    </tr>\n",
       "    <tr>\n",
       "      <th>67</th>\n",
       "      <td>8</td>\n",
       "      <td>1245</td>\n",
       "      <td>12</td>\n",
       "      <td>113.55</td>\n",
       "      <td>45.420</td>\n",
       "      <td>4</td>\n",
       "    </tr>\n",
       "    <tr>\n",
       "      <th>68</th>\n",
       "      <td>9</td>\n",
       "      <td>2383</td>\n",
       "      <td>9</td>\n",
       "      <td>11820.61</td>\n",
       "      <td>4728.244</td>\n",
       "      <td>0</td>\n",
       "    </tr>\n",
       "    <tr>\n",
       "      <th>69</th>\n",
       "      <td>9</td>\n",
       "      <td>2383</td>\n",
       "      <td>10</td>\n",
       "      <td>1207.12</td>\n",
       "      <td>482.848</td>\n",
       "      <td>1</td>\n",
       "    </tr>\n",
       "    <tr>\n",
       "      <th>70</th>\n",
       "      <td>9</td>\n",
       "      <td>2383</td>\n",
       "      <td>11</td>\n",
       "      <td>360.22</td>\n",
       "      <td>144.088</td>\n",
       "      <td>2</td>\n",
       "    </tr>\n",
       "    <tr>\n",
       "      <th>71</th>\n",
       "      <td>9</td>\n",
       "      <td>2383</td>\n",
       "      <td>12</td>\n",
       "      <td>454.62</td>\n",
       "      <td>181.848</td>\n",
       "      <td>3</td>\n",
       "    </tr>\n",
       "    <tr>\n",
       "      <th>72</th>\n",
       "      <td>10</td>\n",
       "      <td>4030</td>\n",
       "      <td>10</td>\n",
       "      <td>19294.38</td>\n",
       "      <td>7717.752</td>\n",
       "      <td>0</td>\n",
       "    </tr>\n",
       "    <tr>\n",
       "      <th>73</th>\n",
       "      <td>10</td>\n",
       "      <td>4030</td>\n",
       "      <td>11</td>\n",
       "      <td>1210.26</td>\n",
       "      <td>484.104</td>\n",
       "      <td>1</td>\n",
       "    </tr>\n",
       "    <tr>\n",
       "      <th>74</th>\n",
       "      <td>10</td>\n",
       "      <td>4030</td>\n",
       "      <td>12</td>\n",
       "      <td>436.28</td>\n",
       "      <td>174.512</td>\n",
       "      <td>2</td>\n",
       "    </tr>\n",
       "    <tr>\n",
       "      <th>75</th>\n",
       "      <td>11</td>\n",
       "      <td>3742</td>\n",
       "      <td>11</td>\n",
       "      <td>18911.11</td>\n",
       "      <td>7564.444</td>\n",
       "      <td>0</td>\n",
       "    </tr>\n",
       "    <tr>\n",
       "      <th>76</th>\n",
       "      <td>11</td>\n",
       "      <td>3742</td>\n",
       "      <td>12</td>\n",
       "      <td>688.71</td>\n",
       "      <td>275.484</td>\n",
       "      <td>1</td>\n",
       "    </tr>\n",
       "    <tr>\n",
       "      <th>77</th>\n",
       "      <td>12</td>\n",
       "      <td>4015</td>\n",
       "      <td>12</td>\n",
       "      <td>17729.39</td>\n",
       "      <td>7091.756</td>\n",
       "      <td>0</td>\n",
       "    </tr>\n",
       "  </tbody>\n",
       "</table>\n",
       "</div>"
      ],
      "text/plain": [
       "    first_order_month  n_buyers  order_month   revenue        gp  age\n",
       "53                  6      1865            9    294.79   117.916    3\n",
       "54                  6      1865           10    275.81   110.324    4\n",
       "55                  6      1865           11    222.68    89.072    5\n",
       "56                  6      1865           12    114.57    45.828    6\n",
       "57                  7      1796            7  10405.79  4162.316    0\n",
       "58                  7      1796            8    319.00   127.600    1\n",
       "59                  7      1796            9    436.92   174.768    2\n",
       "60                  7      1796           10    394.43   157.772    3\n",
       "61                  7      1796           11    139.95    55.980    4\n",
       "62                  7      1796           12    136.21    54.484    5\n",
       "63                  8      1245            8   6323.37  2529.348    0\n",
       "64                  8      1245            9    265.91   106.364    1\n",
       "65                  8      1245           10    278.17   111.268    2\n",
       "66                  8      1245           11    192.86    77.144    3\n",
       "67                  8      1245           12    113.55    45.420    4\n",
       "68                  9      2383            9  11820.61  4728.244    0\n",
       "69                  9      2383           10   1207.12   482.848    1\n",
       "70                  9      2383           11    360.22   144.088    2\n",
       "71                  9      2383           12    454.62   181.848    3\n",
       "72                 10      4030           10  19294.38  7717.752    0\n",
       "73                 10      4030           11   1210.26   484.104    1\n",
       "74                 10      4030           12    436.28   174.512    2\n",
       "75                 11      3742           11  18911.11  7564.444    0\n",
       "76                 11      3742           12    688.71   275.484    1\n",
       "77                 12      4015           12  17729.39  7091.756    0"
      ]
     },
     "execution_count": 195,
     "metadata": {},
     "output_type": "execute_result"
    }
   ],
   "source": [
    "report.tail(25) "
   ]
  },
  {
   "cell_type": "code",
   "execution_count": 196,
   "metadata": {},
   "outputs": [
    {
     "data": {
      "text/plain": [
       "0     1.992522\n",
       "1     0.849218\n",
       "2     0.817933\n",
       "3     0.379461\n",
       "4     0.274696\n",
       "        ...   \n",
       "73    0.120125\n",
       "74    0.043303\n",
       "75    2.021498\n",
       "76    0.073619\n",
       "77    1.766315\n",
       "Name: ltv, Length: 78, dtype: float64"
      ]
     },
     "execution_count": 196,
     "metadata": {},
     "output_type": "execute_result"
    }
   ],
   "source": [
    "report['ltv'] = report['gp'] / report['n_buyers']\n",
    "report['ltv']"
   ]
  },
  {
   "cell_type": "code",
   "execution_count": 197,
   "metadata": {},
   "outputs": [
    {
     "data": {
      "text/html": [
       "<div>\n",
       "<style scoped>\n",
       "    .dataframe tbody tr th:only-of-type {\n",
       "        vertical-align: middle;\n",
       "    }\n",
       "\n",
       "    .dataframe tbody tr th {\n",
       "        vertical-align: top;\n",
       "    }\n",
       "\n",
       "    .dataframe thead th {\n",
       "        text-align: right;\n",
       "    }\n",
       "</style>\n",
       "<table border=\"1\" class=\"dataframe\">\n",
       "  <thead>\n",
       "    <tr style=\"text-align: right;\">\n",
       "      <th></th>\n",
       "      <th>first_order_month</th>\n",
       "      <th>n_buyers</th>\n",
       "      <th>order_month</th>\n",
       "      <th>revenue</th>\n",
       "      <th>gp</th>\n",
       "      <th>age</th>\n",
       "      <th>ltv</th>\n",
       "    </tr>\n",
       "  </thead>\n",
       "  <tbody>\n",
       "    <tr>\n",
       "      <th>0</th>\n",
       "      <td>1</td>\n",
       "      <td>3898</td>\n",
       "      <td>1</td>\n",
       "      <td>19417.13</td>\n",
       "      <td>7766.852</td>\n",
       "      <td>0</td>\n",
       "      <td>1.992522</td>\n",
       "    </tr>\n",
       "    <tr>\n",
       "      <th>1</th>\n",
       "      <td>1</td>\n",
       "      <td>3898</td>\n",
       "      <td>2</td>\n",
       "      <td>8275.63</td>\n",
       "      <td>3310.252</td>\n",
       "      <td>1</td>\n",
       "      <td>0.849218</td>\n",
       "    </tr>\n",
       "    <tr>\n",
       "      <th>2</th>\n",
       "      <td>1</td>\n",
       "      <td>3898</td>\n",
       "      <td>3</td>\n",
       "      <td>7970.76</td>\n",
       "      <td>3188.304</td>\n",
       "      <td>2</td>\n",
       "      <td>0.817933</td>\n",
       "    </tr>\n",
       "    <tr>\n",
       "      <th>3</th>\n",
       "      <td>1</td>\n",
       "      <td>3898</td>\n",
       "      <td>4</td>\n",
       "      <td>3697.85</td>\n",
       "      <td>1479.140</td>\n",
       "      <td>3</td>\n",
       "      <td>0.379461</td>\n",
       "    </tr>\n",
       "    <tr>\n",
       "      <th>4</th>\n",
       "      <td>1</td>\n",
       "      <td>3898</td>\n",
       "      <td>5</td>\n",
       "      <td>2676.91</td>\n",
       "      <td>1070.764</td>\n",
       "      <td>4</td>\n",
       "      <td>0.274696</td>\n",
       "    </tr>\n",
       "    <tr>\n",
       "      <th>...</th>\n",
       "      <td>...</td>\n",
       "      <td>...</td>\n",
       "      <td>...</td>\n",
       "      <td>...</td>\n",
       "      <td>...</td>\n",
       "      <td>...</td>\n",
       "      <td>...</td>\n",
       "    </tr>\n",
       "    <tr>\n",
       "      <th>73</th>\n",
       "      <td>10</td>\n",
       "      <td>4030</td>\n",
       "      <td>11</td>\n",
       "      <td>1210.26</td>\n",
       "      <td>484.104</td>\n",
       "      <td>1</td>\n",
       "      <td>0.120125</td>\n",
       "    </tr>\n",
       "    <tr>\n",
       "      <th>74</th>\n",
       "      <td>10</td>\n",
       "      <td>4030</td>\n",
       "      <td>12</td>\n",
       "      <td>436.28</td>\n",
       "      <td>174.512</td>\n",
       "      <td>2</td>\n",
       "      <td>0.043303</td>\n",
       "    </tr>\n",
       "    <tr>\n",
       "      <th>75</th>\n",
       "      <td>11</td>\n",
       "      <td>3742</td>\n",
       "      <td>11</td>\n",
       "      <td>18911.11</td>\n",
       "      <td>7564.444</td>\n",
       "      <td>0</td>\n",
       "      <td>2.021498</td>\n",
       "    </tr>\n",
       "    <tr>\n",
       "      <th>76</th>\n",
       "      <td>11</td>\n",
       "      <td>3742</td>\n",
       "      <td>12</td>\n",
       "      <td>688.71</td>\n",
       "      <td>275.484</td>\n",
       "      <td>1</td>\n",
       "      <td>0.073619</td>\n",
       "    </tr>\n",
       "    <tr>\n",
       "      <th>77</th>\n",
       "      <td>12</td>\n",
       "      <td>4015</td>\n",
       "      <td>12</td>\n",
       "      <td>17729.39</td>\n",
       "      <td>7091.756</td>\n",
       "      <td>0</td>\n",
       "      <td>1.766315</td>\n",
       "    </tr>\n",
       "  </tbody>\n",
       "</table>\n",
       "<p>78 rows × 7 columns</p>\n",
       "</div>"
      ],
      "text/plain": [
       "    first_order_month  n_buyers  order_month   revenue        gp  age  \\\n",
       "0                   1      3898            1  19417.13  7766.852    0   \n",
       "1                   1      3898            2   8275.63  3310.252    1   \n",
       "2                   1      3898            3   7970.76  3188.304    2   \n",
       "3                   1      3898            4   3697.85  1479.140    3   \n",
       "4                   1      3898            5   2676.91  1070.764    4   \n",
       "..                ...       ...          ...       ...       ...  ...   \n",
       "73                 10      4030           11   1210.26   484.104    1   \n",
       "74                 10      4030           12    436.28   174.512    2   \n",
       "75                 11      3742           11  18911.11  7564.444    0   \n",
       "76                 11      3742           12    688.71   275.484    1   \n",
       "77                 12      4015           12  17729.39  7091.756    0   \n",
       "\n",
       "         ltv  \n",
       "0   1.992522  \n",
       "1   0.849218  \n",
       "2   0.817933  \n",
       "3   0.379461  \n",
       "4   0.274696  \n",
       "..       ...  \n",
       "73  0.120125  \n",
       "74  0.043303  \n",
       "75  2.021498  \n",
       "76  0.073619  \n",
       "77  1.766315  \n",
       "\n",
       "[78 rows x 7 columns]"
      ]
     },
     "execution_count": 197,
     "metadata": {},
     "output_type": "execute_result"
    }
   ],
   "source": [
    "report"
   ]
  },
  {
   "cell_type": "code",
   "execution_count": 199,
   "metadata": {},
   "outputs": [
    {
     "data": {
      "text/html": [
       "<div>\n",
       "<style scoped>\n",
       "    .dataframe tbody tr th:only-of-type {\n",
       "        vertical-align: middle;\n",
       "    }\n",
       "\n",
       "    .dataframe tbody tr th {\n",
       "        vertical-align: top;\n",
       "    }\n",
       "\n",
       "    .dataframe thead th {\n",
       "        text-align: right;\n",
       "    }\n",
       "</style>\n",
       "<table border=\"1\" class=\"dataframe\">\n",
       "  <thead>\n",
       "    <tr style=\"text-align: right;\">\n",
       "      <th></th>\n",
       "      <th>first_order_month</th>\n",
       "      <th>order_month</th>\n",
       "      <th>ltv</th>\n",
       "    </tr>\n",
       "  </thead>\n",
       "  <tbody>\n",
       "    <tr>\n",
       "      <th>0</th>\n",
       "      <td>1</td>\n",
       "      <td>1</td>\n",
       "      <td>1.992522</td>\n",
       "    </tr>\n",
       "    <tr>\n",
       "      <th>1</th>\n",
       "      <td>1</td>\n",
       "      <td>2</td>\n",
       "      <td>0.849218</td>\n",
       "    </tr>\n",
       "    <tr>\n",
       "      <th>2</th>\n",
       "      <td>1</td>\n",
       "      <td>3</td>\n",
       "      <td>0.817933</td>\n",
       "    </tr>\n",
       "    <tr>\n",
       "      <th>3</th>\n",
       "      <td>1</td>\n",
       "      <td>4</td>\n",
       "      <td>0.379461</td>\n",
       "    </tr>\n",
       "    <tr>\n",
       "      <th>4</th>\n",
       "      <td>1</td>\n",
       "      <td>5</td>\n",
       "      <td>0.274696</td>\n",
       "    </tr>\n",
       "    <tr>\n",
       "      <th>...</th>\n",
       "      <td>...</td>\n",
       "      <td>...</td>\n",
       "      <td>...</td>\n",
       "    </tr>\n",
       "    <tr>\n",
       "      <th>73</th>\n",
       "      <td>10</td>\n",
       "      <td>11</td>\n",
       "      <td>0.120125</td>\n",
       "    </tr>\n",
       "    <tr>\n",
       "      <th>74</th>\n",
       "      <td>10</td>\n",
       "      <td>12</td>\n",
       "      <td>0.043303</td>\n",
       "    </tr>\n",
       "    <tr>\n",
       "      <th>75</th>\n",
       "      <td>11</td>\n",
       "      <td>11</td>\n",
       "      <td>2.021498</td>\n",
       "    </tr>\n",
       "    <tr>\n",
       "      <th>76</th>\n",
       "      <td>11</td>\n",
       "      <td>12</td>\n",
       "      <td>0.073619</td>\n",
       "    </tr>\n",
       "    <tr>\n",
       "      <th>77</th>\n",
       "      <td>12</td>\n",
       "      <td>12</td>\n",
       "      <td>1.766315</td>\n",
       "    </tr>\n",
       "  </tbody>\n",
       "</table>\n",
       "<p>78 rows × 3 columns</p>\n",
       "</div>"
      ],
      "text/plain": [
       "    first_order_month  order_month       ltv\n",
       "0                   1            1  1.992522\n",
       "1                   1            2  0.849218\n",
       "2                   1            3  0.817933\n",
       "3                   1            4  0.379461\n",
       "4                   1            5  0.274696\n",
       "..                ...          ...       ...\n",
       "73                 10           11  0.120125\n",
       "74                 10           12  0.043303\n",
       "75                 11           11  2.021498\n",
       "76                 11           12  0.073619\n",
       "77                 12           12  1.766315\n",
       "\n",
       "[78 rows x 3 columns]"
      ]
     },
     "execution_count": 199,
     "metadata": {},
     "output_type": "execute_result"
    }
   ],
   "source": [
    "dfgg = report.groupby(['first_order_month','order_month'])['ltv'].sum().reset_index()\n",
    "dfgg"
   ]
  },
  {
   "cell_type": "markdown",
   "metadata": {},
   "source": [
    "Up to this point the LTV has been calculated."
   ]
  },
  {
   "cell_type": "code",
   "execution_count": 200,
   "metadata": {},
   "outputs": [
    {
     "data": {
      "image/png": "[encoded data removed]",
      "text/plain": [
       "<Figure size 1500x800 with 1 Axes>"
      ]
     },
     "metadata": {},
     "output_type": "display_data"
    }
   ],
   "source": [
    "plt.style.use('ggplot')\n",
    "ax = sns.barplot(data = dfgg, x='first_order_month', y= 'ltv', hue = 'order_month')\n",
    "plt.legend(bbox_to_anchor=(1.05, 1), loc=2, borderaxespad=0.)\n",
    "\n",
    "ax.set_xlabel(\"Months\")\n",
    "ax.set_ylabel(\"Purchases\")\n",
    "plt.title(\"LTV Metric\") \n",
    "\n",
    "ax.figure.savefig('barplot_metric_LTV.png')"
   ]
  },
  {
   "cell_type": "markdown",
   "metadata": {},
   "source": [
    "From the previous graph it is observed that the highest LTV corresponds to month 7, in which a value of 2,317 and 7 orders are registered, with 1,796 buyers, and it is the period in which the most money was contributed by clients."
   ]
  },
  {
   "cell_type": "markdown",
   "metadata": {},
   "source": [
    "### Marketing"
   ]
  },
  {
   "cell_type": "code",
   "execution_count": 201,
   "metadata": {},
   "outputs": [
    {
     "data": {
      "text/html": [
       "<div>\n",
       "<style scoped>\n",
       "    .dataframe tbody tr th:only-of-type {\n",
       "        vertical-align: middle;\n",
       "    }\n",
       "\n",
       "    .dataframe tbody tr th {\n",
       "        vertical-align: top;\n",
       "    }\n",
       "\n",
       "    .dataframe thead th {\n",
       "        text-align: right;\n",
       "    }\n",
       "</style>\n",
       "<table border=\"1\" class=\"dataframe\">\n",
       "  <thead>\n",
       "    <tr style=\"text-align: right;\">\n",
       "      <th></th>\n",
       "      <th>source_id</th>\n",
       "      <th>dt</th>\n",
       "      <th>costs</th>\n",
       "      <th>month</th>\n",
       "    </tr>\n",
       "  </thead>\n",
       "  <tbody>\n",
       "    <tr>\n",
       "      <th>2537</th>\n",
       "      <td>10</td>\n",
       "      <td>2018-05-27</td>\n",
       "      <td>9.92</td>\n",
       "      <td>5</td>\n",
       "    </tr>\n",
       "    <tr>\n",
       "      <th>2538</th>\n",
       "      <td>10</td>\n",
       "      <td>2018-05-28</td>\n",
       "      <td>21.26</td>\n",
       "      <td>5</td>\n",
       "    </tr>\n",
       "    <tr>\n",
       "      <th>2539</th>\n",
       "      <td>10</td>\n",
       "      <td>2018-05-29</td>\n",
       "      <td>11.32</td>\n",
       "      <td>5</td>\n",
       "    </tr>\n",
       "    <tr>\n",
       "      <th>2540</th>\n",
       "      <td>10</td>\n",
       "      <td>2018-05-30</td>\n",
       "      <td>33.15</td>\n",
       "      <td>5</td>\n",
       "    </tr>\n",
       "    <tr>\n",
       "      <th>2541</th>\n",
       "      <td>10</td>\n",
       "      <td>2018-05-31</td>\n",
       "      <td>17.60</td>\n",
       "      <td>5</td>\n",
       "    </tr>\n",
       "  </tbody>\n",
       "</table>\n",
       "</div>"
      ],
      "text/plain": [
       "      source_id         dt  costs  month\n",
       "2537         10 2018-05-27   9.92      5\n",
       "2538         10 2018-05-28  21.26      5\n",
       "2539         10 2018-05-29  11.32      5\n",
       "2540         10 2018-05-30  33.15      5\n",
       "2541         10 2018-05-31  17.60      5"
      ]
     },
     "execution_count": 201,
     "metadata": {},
     "output_type": "execute_result"
    }
   ],
   "source": [
    "# How much money was spent on marketing?\n",
    "\n",
    "df_marketing_cost.tail(5)"
   ]
  },
  {
   "cell_type": "code",
   "execution_count": 202,
   "metadata": {},
   "outputs": [
    {
     "data": {
      "text/plain": [
       "7"
      ]
     },
     "execution_count": 202,
     "metadata": {},
     "output_type": "execute_result"
    }
   ],
   "source": [
    "monthly_costs = df_marketing_cost.groupby(['source_id', 'month'])['costs'].sum()\n",
    "df_marketing_cost['source_id'].nunique()"
   ]
  },
  {
   "cell_type": "code",
   "execution_count": 204,
   "metadata": {},
   "outputs": [
    {
     "data": {
      "text/html": [
       "<div>\n",
       "<style scoped>\n",
       "    .dataframe tbody tr th:only-of-type {\n",
       "        vertical-align: middle;\n",
       "    }\n",
       "\n",
       "    .dataframe tbody tr th {\n",
       "        vertical-align: top;\n",
       "    }\n",
       "\n",
       "    .dataframe thead th {\n",
       "        text-align: right;\n",
       "    }\n",
       "</style>\n",
       "<table border=\"1\" class=\"dataframe\">\n",
       "  <thead>\n",
       "    <tr style=\"text-align: right;\">\n",
       "      <th></th>\n",
       "      <th>month</th>\n",
       "      <th>costs</th>\n",
       "    </tr>\n",
       "  </thead>\n",
       "  <tbody>\n",
       "    <tr>\n",
       "      <th>0</th>\n",
       "      <td>1</td>\n",
       "      <td>614.35</td>\n",
       "    </tr>\n",
       "    <tr>\n",
       "      <th>1</th>\n",
       "      <td>2</td>\n",
       "      <td>480.88</td>\n",
       "    </tr>\n",
       "    <tr>\n",
       "      <th>2</th>\n",
       "      <td>3</td>\n",
       "      <td>526.41</td>\n",
       "    </tr>\n",
       "    <tr>\n",
       "      <th>3</th>\n",
       "      <td>4</td>\n",
       "      <td>388.25</td>\n",
       "    </tr>\n",
       "    <tr>\n",
       "      <th>4</th>\n",
       "      <td>5</td>\n",
       "      <td>409.86</td>\n",
       "    </tr>\n",
       "    <tr>\n",
       "      <th>5</th>\n",
       "      <td>6</td>\n",
       "      <td>314.22</td>\n",
       "    </tr>\n",
       "    <tr>\n",
       "      <th>6</th>\n",
       "      <td>7</td>\n",
       "      <td>329.82</td>\n",
       "    </tr>\n",
       "    <tr>\n",
       "      <th>7</th>\n",
       "      <td>8</td>\n",
       "      <td>232.57</td>\n",
       "    </tr>\n",
       "    <tr>\n",
       "      <th>8</th>\n",
       "      <td>9</td>\n",
       "      <td>460.67</td>\n",
       "    </tr>\n",
       "    <tr>\n",
       "      <th>9</th>\n",
       "      <td>10</td>\n",
       "      <td>627.24</td>\n",
       "    </tr>\n",
       "    <tr>\n",
       "      <th>10</th>\n",
       "      <td>11</td>\n",
       "      <td>792.36</td>\n",
       "    </tr>\n",
       "    <tr>\n",
       "      <th>11</th>\n",
       "      <td>12</td>\n",
       "      <td>645.86</td>\n",
       "    </tr>\n",
       "  </tbody>\n",
       "</table>\n",
       "</div>"
      ],
      "text/plain": [
       "    month   costs\n",
       "0       1  614.35\n",
       "1       2  480.88\n",
       "2       3  526.41\n",
       "3       4  388.25\n",
       "4       5  409.86\n",
       "5       6  314.22\n",
       "6       7  329.82\n",
       "7       8  232.57\n",
       "8       9  460.67\n",
       "9      10  627.24\n",
       "10     11  792.36\n",
       "11     12  645.86"
      ]
     },
     "execution_count": 204,
     "metadata": {},
     "output_type": "execute_result"
    }
   ],
   "source": [
    "mis_booleans =  df_marketing_cost['source_id'] == 10\n",
    "df_new = df_marketing_cost[mis_booleans].groupby(['month'])['costs'].sum().reset_index()\n",
    "df_new"
   ]
  },
  {
   "cell_type": "code",
   "execution_count": 213,
   "metadata": {},
   "outputs": [
    {
     "data": {
      "text/html": [
       "<div>\n",
       "<style scoped>\n",
       "    .dataframe tbody tr th:only-of-type {\n",
       "        vertical-align: middle;\n",
       "    }\n",
       "\n",
       "    .dataframe tbody tr th {\n",
       "        vertical-align: top;\n",
       "    }\n",
       "\n",
       "    .dataframe thead th {\n",
       "        text-align: right;\n",
       "    }\n",
       "</style>\n",
       "<table border=\"1\" class=\"dataframe\">\n",
       "  <thead>\n",
       "    <tr style=\"text-align: right;\">\n",
       "      <th></th>\n",
       "      <th>source_id</th>\n",
       "      <th>month</th>\n",
       "      <th>costs</th>\n",
       "    </tr>\n",
       "  </thead>\n",
       "  <tbody>\n",
       "    <tr>\n",
       "      <th>0</th>\n",
       "      <td>1</td>\n",
       "      <td>1</td>\n",
       "      <td>2186.18</td>\n",
       "    </tr>\n",
       "    <tr>\n",
       "      <th>1</th>\n",
       "      <td>1</td>\n",
       "      <td>2</td>\n",
       "      <td>2204.48</td>\n",
       "    </tr>\n",
       "    <tr>\n",
       "      <th>2</th>\n",
       "      <td>1</td>\n",
       "      <td>3</td>\n",
       "      <td>1893.09</td>\n",
       "    </tr>\n",
       "    <tr>\n",
       "      <th>3</th>\n",
       "      <td>1</td>\n",
       "      <td>4</td>\n",
       "      <td>1327.49</td>\n",
       "    </tr>\n",
       "    <tr>\n",
       "      <th>4</th>\n",
       "      <td>1</td>\n",
       "      <td>5</td>\n",
       "      <td>1467.61</td>\n",
       "    </tr>\n",
       "    <tr>\n",
       "      <th>...</th>\n",
       "      <td>...</td>\n",
       "      <td>...</td>\n",
       "      <td>...</td>\n",
       "    </tr>\n",
       "    <tr>\n",
       "      <th>79</th>\n",
       "      <td>10</td>\n",
       "      <td>8</td>\n",
       "      <td>232.57</td>\n",
       "    </tr>\n",
       "    <tr>\n",
       "      <th>80</th>\n",
       "      <td>10</td>\n",
       "      <td>9</td>\n",
       "      <td>460.67</td>\n",
       "    </tr>\n",
       "    <tr>\n",
       "      <th>81</th>\n",
       "      <td>10</td>\n",
       "      <td>10</td>\n",
       "      <td>627.24</td>\n",
       "    </tr>\n",
       "    <tr>\n",
       "      <th>82</th>\n",
       "      <td>10</td>\n",
       "      <td>11</td>\n",
       "      <td>792.36</td>\n",
       "    </tr>\n",
       "    <tr>\n",
       "      <th>83</th>\n",
       "      <td>10</td>\n",
       "      <td>12</td>\n",
       "      <td>645.86</td>\n",
       "    </tr>\n",
       "  </tbody>\n",
       "</table>\n",
       "<p>84 rows × 3 columns</p>\n",
       "</div>"
      ],
      "text/plain": [
       "    source_id  month    costs\n",
       "0           1      1  2186.18\n",
       "1           1      2  2204.48\n",
       "2           1      3  1893.09\n",
       "3           1      4  1327.49\n",
       "4           1      5  1467.61\n",
       "..        ...    ...      ...\n",
       "79         10      8   232.57\n",
       "80         10      9   460.67\n",
       "81         10     10   627.24\n",
       "82         10     11   792.36\n",
       "83         10     12   645.86\n",
       "\n",
       "[84 rows x 3 columns]"
      ]
     },
     "execution_count": 213,
     "metadata": {},
     "output_type": "execute_result"
    }
   ],
   "source": [
    "dfg = df_marketing_cost.groupby(['source_id', 'month'])['costs'].sum().reset_index()\n",
    "dfg"
   ]
  },
  {
   "cell_type": "code",
   "execution_count": 212,
   "metadata": {},
   "outputs": [
    {
     "data": {
      "text/plain": [
       "<Axes: title={'center': 'Costos totales por fuente de publicidad'}, xlabel='Cada fuente de publicidad por mes', ylabel='Costos'>"
      ]
     },
     "execution_count": 212,
     "metadata": {},
     "output_type": "execute_result"
    },
    {
     "data": {
      "image/png": "[encoded data removed]",
      "text/plain": [
       "<Figure size 1400x600 with 1 Axes>"
      ]
     },
     "metadata": {},
     "output_type": "display_data"
    }
   ],
   "source": [
    "plt.style.use('ggplot')\n",
    "dfg.plot(kind='bar', title='Costos totales por fuente de publicidad', ylabel='Costos', xlabel='Cada fuente de publicidad por mes', figsize=(14, 6))"
   ]
  },
  {
   "cell_type": "code",
   "execution_count": 215,
   "metadata": {},
   "outputs": [
    {
     "data": {
      "image/png": "[encoded data removed]",
      "text/plain": [
       "<Figure size 1500x800 with 1 Axes>"
      ]
     },
     "metadata": {},
     "output_type": "display_data"
    }
   ],
   "source": [
    "# Mejorando grafic anterior\n",
    "\n",
    "ax = sns.barplot(data = dfg, x='source_id', y= 'costs', hue = 'month')\n",
    "plt.legend(bbox_to_anchor=(1.05, 1), loc=2, borderaxespad=0.)\n",
    "\n",
    "ax.set_xlabel(\"Source\")\n",
    "ax.set_ylabel(\"Costs\")\n",
    "plt.title(\"Total costs per advertising source\") \n",
    "\n",
    "ax.figure.savefig('barplot_Total_costs_per_advertising_source.png')"
   ]
  },
  {
   "cell_type": "markdown",
   "metadata": {},
   "source": [
    "It can be seen from the previous graph that of the 7 existing sources, number 3 is the one that includes the highest costs in the month of November for a value of 17025.34, while source 10 is the one with the lowest cost with 232.57"
   ]
  },
  {
   "cell_type": "code",
   "execution_count": 216,
   "metadata": {},
   "outputs": [
    {
     "data": {
      "text/html": [
       "<div>\n",
       "<style scoped>\n",
       "    .dataframe tbody tr th:only-of-type {\n",
       "        vertical-align: middle;\n",
       "    }\n",
       "\n",
       "    .dataframe tbody tr th {\n",
       "        vertical-align: top;\n",
       "    }\n",
       "\n",
       "    .dataframe thead th {\n",
       "        text-align: right;\n",
       "    }\n",
       "</style>\n",
       "<table border=\"1\" class=\"dataframe\">\n",
       "  <thead>\n",
       "    <tr style=\"text-align: right;\">\n",
       "      <th></th>\n",
       "      <th>first_order_month</th>\n",
       "      <th>n_buyers</th>\n",
       "      <th>order_month</th>\n",
       "      <th>revenue</th>\n",
       "      <th>gp</th>\n",
       "      <th>age</th>\n",
       "      <th>ltv</th>\n",
       "      <th>costs</th>\n",
       "      <th>cac</th>\n",
       "    </tr>\n",
       "  </thead>\n",
       "  <tbody>\n",
       "    <tr>\n",
       "      <th>0</th>\n",
       "      <td>1</td>\n",
       "      <td>3898</td>\n",
       "      <td>1</td>\n",
       "      <td>19417.13</td>\n",
       "      <td>7766.852</td>\n",
       "      <td>0</td>\n",
       "      <td>1.992522</td>\n",
       "      <td>2186.18</td>\n",
       "      <td>0.560847</td>\n",
       "    </tr>\n",
       "    <tr>\n",
       "      <th>1</th>\n",
       "      <td>1</td>\n",
       "      <td>3898</td>\n",
       "      <td>1</td>\n",
       "      <td>19417.13</td>\n",
       "      <td>7766.852</td>\n",
       "      <td>0</td>\n",
       "      <td>1.992522</td>\n",
       "      <td>4157.74</td>\n",
       "      <td>1.066634</td>\n",
       "    </tr>\n",
       "    <tr>\n",
       "      <th>2</th>\n",
       "      <td>1</td>\n",
       "      <td>3898</td>\n",
       "      <td>1</td>\n",
       "      <td>19417.13</td>\n",
       "      <td>7766.852</td>\n",
       "      <td>0</td>\n",
       "      <td>1.992522</td>\n",
       "      <td>14808.78</td>\n",
       "      <td>3.799071</td>\n",
       "    </tr>\n",
       "    <tr>\n",
       "      <th>3</th>\n",
       "      <td>1</td>\n",
       "      <td>3898</td>\n",
       "      <td>1</td>\n",
       "      <td>19417.13</td>\n",
       "      <td>7766.852</td>\n",
       "      <td>0</td>\n",
       "      <td>1.992522</td>\n",
       "      <td>5832.79</td>\n",
       "      <td>1.496355</td>\n",
       "    </tr>\n",
       "    <tr>\n",
       "      <th>4</th>\n",
       "      <td>1</td>\n",
       "      <td>3898</td>\n",
       "      <td>1</td>\n",
       "      <td>19417.13</td>\n",
       "      <td>7766.852</td>\n",
       "      <td>0</td>\n",
       "      <td>1.992522</td>\n",
       "      <td>5371.52</td>\n",
       "      <td>1.378019</td>\n",
       "    </tr>\n",
       "  </tbody>\n",
       "</table>\n",
       "</div>"
      ],
      "text/plain": [
       "   first_order_month  n_buyers  order_month   revenue        gp  age  \\\n",
       "0                  1      3898            1  19417.13  7766.852    0   \n",
       "1                  1      3898            1  19417.13  7766.852    0   \n",
       "2                  1      3898            1  19417.13  7766.852    0   \n",
       "3                  1      3898            1  19417.13  7766.852    0   \n",
       "4                  1      3898            1  19417.13  7766.852    0   \n",
       "\n",
       "        ltv     costs       cac  \n",
       "0  1.992522   2186.18  0.560847  \n",
       "1  1.992522   4157.74  1.066634  \n",
       "2  1.992522  14808.78  3.799071  \n",
       "3  1.992522   5832.79  1.496355  \n",
       "4  1.992522   5371.52  1.378019  "
      ]
     },
     "execution_count": 216,
     "metadata": {},
     "output_type": "execute_result"
    }
   ],
   "source": [
    "report_ = pd.merge(report, monthly_costs, left_on='first_order_month', right_on='month')\n",
    "report_['cac'] = report_['costs'] / report_['n_buyers']\n",
    "report_.head(5) "
   ]
  },
  {
   "cell_type": "code",
   "execution_count": 218,
   "metadata": {},
   "outputs": [
    {
     "name": "stdout",
     "output_type": "stream",
     "text": [
      "Average LTV over 6 months from first order: 2.5182494263523263\n"
     ]
    }
   ],
   "source": [
    "result = report_.pivot_table(index='first_order_month', columns='age', values='ltv', aggfunc='mean')\n",
    "m6_cum_ltv = result.cumsum(axis=1).mean(axis=0)[5]\n",
    "\n",
    "print('Average LTV over 6 months from first order:', m6_cum_ltv)"
   ]
  },
  {
   "cell_type": "code",
   "execution_count": 219,
   "metadata": {},
   "outputs": [
    {
     "name": "stdout",
     "output_type": "stream",
     "text": [
      "The average CAC metric is: 2.6943813889818595\n"
     ]
    }
   ],
   "source": [
    "m7_cum_cac = result.cumsum(axis=1).mean(axis=0)[7]\n",
    "\n",
    "print('The average CAC metric is:', m7_cum_cac)"
   ]
  },
  {
   "cell_type": "markdown",
   "metadata": {},
   "source": [
    "The LTV metric (or the acquisition of each customer) has a value of 2518.2, for its part, in the CAC metric the value of 2694.3 is obtained, and taking into account that it is desirable to have an LTV value greater than the CAC, which which would be indicative of a solid unit economy per client, then, in this particular case, it can be seen that there are some problems within the company, since acquiring a client is costing more than what the client contributed.       "
   ]
  },
  {
   "cell_type": "code",
   "execution_count": 220,
   "metadata": {},
   "outputs": [
    {
     "data": {
      "text/plain": [
       "source_id\n",
       "1      20833.27\n",
       "2      42806.04\n",
       "3     141321.63\n",
       "4      61073.60\n",
       "5      51757.10\n",
       "9       5517.49\n",
       "10      5822.49\n",
       "Name: costs, dtype: float64"
      ]
     },
     "execution_count": 220,
     "metadata": {},
     "output_type": "execute_result"
    }
   ],
   "source": [
    "# ROI calculation,\n",
    "#You have to ROI = (net profit - investments) / investments\n",
    "# In practice ROMI is calculated as gross profit / expenses\n",
    "\n",
    "#report_['romi'] = report_['ltv'] / report_['cac']\n",
    "\n",
    "# First the total invested by source is found\n",
    "\n",
    "#report_['roi'] = report_['ltv'] / report_['cac']\n",
    "\n",
    "dfg = df_marketing_cost.groupby(['source_id'])['costs'].sum()\n",
    "dfg"
   ]
  },
  {
   "cell_type": "code",
   "execution_count": 221,
   "metadata": {},
   "outputs": [
    {
     "data": {
      "text/plain": [
       "36523"
      ]
     },
     "execution_count": 221,
     "metadata": {},
     "output_type": "execute_result"
    }
   ],
   "source": [
    "# Second: income is found by source\n",
    "\n",
    "#df_marketing_visits \n",
    "#df_marketing_orders['revenue'].sum()\n",
    "df_marketing_orders['uid'].nunique()"
   ]
  },
  {
   "cell_type": "code",
   "execution_count": 222,
   "metadata": {},
   "outputs": [
    {
     "data": {
      "text/plain": [
       "Index(['device', 'end_ts', 'source_id', 'start_ts', 'uid', 'date_start',\n",
       "       'session_week', 'year_start', 'month_start', 'session_date',\n",
       "       'duration_session_min_end', 'duration_session_min_start',\n",
       "       'duration_session', 'session_year', 'first_session_date',\n",
       "       'date_of_purchase'],\n",
       "      dtype='object')"
      ]
     },
     "execution_count": 222,
     "metadata": {},
     "output_type": "execute_result"
    }
   ],
   "source": [
    "df_marketing_visits.columns"
   ]
  },
  {
   "cell_type": "code",
   "execution_count": 223,
   "metadata": {},
   "outputs": [
    {
     "data": {
      "text/html": [
       "<div>\n",
       "<style scoped>\n",
       "    .dataframe tbody tr th:only-of-type {\n",
       "        vertical-align: middle;\n",
       "    }\n",
       "\n",
       "    .dataframe tbody tr th {\n",
       "        vertical-align: top;\n",
       "    }\n",
       "\n",
       "    .dataframe thead th {\n",
       "        text-align: right;\n",
       "    }\n",
       "</style>\n",
       "<table border=\"1\" class=\"dataframe\">\n",
       "  <thead>\n",
       "    <tr style=\"text-align: right;\">\n",
       "      <th></th>\n",
       "      <th>buy_ts</th>\n",
       "      <th>revenue</th>\n",
       "      <th>uid</th>\n",
       "      <th>order_month</th>\n",
       "    </tr>\n",
       "  </thead>\n",
       "  <tbody>\n",
       "    <tr>\n",
       "      <th>0</th>\n",
       "      <td>2017-06-01 00:10:00</td>\n",
       "      <td>17.00</td>\n",
       "      <td>10329302124590727494</td>\n",
       "      <td>6</td>\n",
       "    </tr>\n",
       "    <tr>\n",
       "      <th>1</th>\n",
       "      <td>2017-06-01 00:25:00</td>\n",
       "      <td>0.55</td>\n",
       "      <td>11627257723692907447</td>\n",
       "      <td>6</td>\n",
       "    </tr>\n",
       "    <tr>\n",
       "      <th>2</th>\n",
       "      <td>2017-06-01 00:27:00</td>\n",
       "      <td>0.37</td>\n",
       "      <td>17903680561304213844</td>\n",
       "      <td>6</td>\n",
       "    </tr>\n",
       "    <tr>\n",
       "      <th>3</th>\n",
       "      <td>2017-06-01 00:29:00</td>\n",
       "      <td>0.55</td>\n",
       "      <td>16109239769442553005</td>\n",
       "      <td>6</td>\n",
       "    </tr>\n",
       "    <tr>\n",
       "      <th>4</th>\n",
       "      <td>2017-06-01 07:58:00</td>\n",
       "      <td>0.37</td>\n",
       "      <td>14200605875248379450</td>\n",
       "      <td>6</td>\n",
       "    </tr>\n",
       "  </tbody>\n",
       "</table>\n",
       "</div>"
      ],
      "text/plain": [
       "               buy_ts  revenue                   uid  order_month\n",
       "0 2017-06-01 00:10:00    17.00  10329302124590727494            6\n",
       "1 2017-06-01 00:25:00     0.55  11627257723692907447            6\n",
       "2 2017-06-01 00:27:00     0.37  17903680561304213844            6\n",
       "3 2017-06-01 00:29:00     0.55  16109239769442553005            6\n",
       "4 2017-06-01 07:58:00     0.37  14200605875248379450            6"
      ]
     },
     "execution_count": 223,
     "metadata": {},
     "output_type": "execute_result"
    }
   ],
   "source": [
    "df_marketing_orders.head(5)"
   ]
  },
  {
   "cell_type": "code",
   "execution_count": 224,
   "metadata": {},
   "outputs": [
    {
     "data": {
      "text/plain": [
       "9"
      ]
     },
     "execution_count": 224,
     "metadata": {},
     "output_type": "execute_result"
    }
   ],
   "source": [
    "df_marketing_visits['source_id'].nunique()"
   ]
  },
  {
   "cell_type": "code",
   "execution_count": 225,
   "metadata": {},
   "outputs": [
    {
     "data": {
      "text/html": [
       "<div>\n",
       "<style scoped>\n",
       "    .dataframe tbody tr th:only-of-type {\n",
       "        vertical-align: middle;\n",
       "    }\n",
       "\n",
       "    .dataframe tbody tr th {\n",
       "        vertical-align: top;\n",
       "    }\n",
       "\n",
       "    .dataframe thead th {\n",
       "        text-align: right;\n",
       "    }\n",
       "</style>\n",
       "<table border=\"1\" class=\"dataframe\">\n",
       "  <thead>\n",
       "    <tr style=\"text-align: right;\">\n",
       "      <th></th>\n",
       "      <th>buy_ts</th>\n",
       "      <th>revenue</th>\n",
       "      <th>uid</th>\n",
       "      <th>order_month</th>\n",
       "      <th>device</th>\n",
       "      <th>end_ts</th>\n",
       "      <th>source_id</th>\n",
       "      <th>start_ts</th>\n",
       "      <th>date_start</th>\n",
       "      <th>session_week</th>\n",
       "      <th>year_start</th>\n",
       "      <th>month_start</th>\n",
       "      <th>session_date</th>\n",
       "      <th>duration_session_min_end</th>\n",
       "      <th>duration_session_min_start</th>\n",
       "      <th>duration_session</th>\n",
       "      <th>session_year</th>\n",
       "      <th>first_session_date</th>\n",
       "      <th>date_of_purchase</th>\n",
       "    </tr>\n",
       "  </thead>\n",
       "  <tbody>\n",
       "    <tr>\n",
       "      <th>0</th>\n",
       "      <td>2017-06-01 00:10:00</td>\n",
       "      <td>17.00</td>\n",
       "      <td>10329302124590727494</td>\n",
       "      <td>6</td>\n",
       "      <td>desktop</td>\n",
       "      <td>2017-06-01 00:11:00</td>\n",
       "      <td>1</td>\n",
       "      <td>2017-06-01 00:09:00</td>\n",
       "      <td>2017-06-01</td>\n",
       "      <td>22</td>\n",
       "      <td>2017</td>\n",
       "      <td>6</td>\n",
       "      <td>1</td>\n",
       "      <td>11</td>\n",
       "      <td>9</td>\n",
       "      <td>2</td>\n",
       "      <td>2017</td>\n",
       "      <td>2017-06-01 00:09:00</td>\n",
       "      <td>2017-06-01 00:10:00</td>\n",
       "    </tr>\n",
       "    <tr>\n",
       "      <th>1</th>\n",
       "      <td>2017-06-01 00:25:00</td>\n",
       "      <td>0.55</td>\n",
       "      <td>11627257723692907447</td>\n",
       "      <td>6</td>\n",
       "      <td>desktop</td>\n",
       "      <td>2017-06-01 00:25:00</td>\n",
       "      <td>2</td>\n",
       "      <td>2017-06-01 00:14:00</td>\n",
       "      <td>2017-06-01</td>\n",
       "      <td>22</td>\n",
       "      <td>2017</td>\n",
       "      <td>6</td>\n",
       "      <td>1</td>\n",
       "      <td>25</td>\n",
       "      <td>14</td>\n",
       "      <td>11</td>\n",
       "      <td>2017</td>\n",
       "      <td>2017-06-01 00:14:00</td>\n",
       "      <td>2017-06-01 00:25:00</td>\n",
       "    </tr>\n",
       "    <tr>\n",
       "      <th>2</th>\n",
       "      <td>2017-06-01 00:27:00</td>\n",
       "      <td>0.37</td>\n",
       "      <td>17903680561304213844</td>\n",
       "      <td>6</td>\n",
       "      <td>desktop</td>\n",
       "      <td>2017-06-01 00:34:00</td>\n",
       "      <td>2</td>\n",
       "      <td>2017-06-01 00:25:00</td>\n",
       "      <td>2017-06-01</td>\n",
       "      <td>22</td>\n",
       "      <td>2017</td>\n",
       "      <td>6</td>\n",
       "      <td>1</td>\n",
       "      <td>34</td>\n",
       "      <td>25</td>\n",
       "      <td>9</td>\n",
       "      <td>2017</td>\n",
       "      <td>2017-06-01 00:25:00</td>\n",
       "      <td>2017-06-01 00:27:00</td>\n",
       "    </tr>\n",
       "    <tr>\n",
       "      <th>3</th>\n",
       "      <td>2017-06-01 00:29:00</td>\n",
       "      <td>0.55</td>\n",
       "      <td>16109239769442553005</td>\n",
       "      <td>6</td>\n",
       "      <td>desktop</td>\n",
       "      <td>2017-06-01 00:33:00</td>\n",
       "      <td>2</td>\n",
       "      <td>2017-06-01 00:14:00</td>\n",
       "      <td>2017-06-01</td>\n",
       "      <td>22</td>\n",
       "      <td>2017</td>\n",
       "      <td>6</td>\n",
       "      <td>1</td>\n",
       "      <td>33</td>\n",
       "      <td>14</td>\n",
       "      <td>19</td>\n",
       "      <td>2017</td>\n",
       "      <td>2017-06-01 00:14:00</td>\n",
       "      <td>2017-06-01 00:29:00</td>\n",
       "    </tr>\n",
       "    <tr>\n",
       "      <th>4</th>\n",
       "      <td>2017-06-01 07:58:00</td>\n",
       "      <td>0.37</td>\n",
       "      <td>14200605875248379450</td>\n",
       "      <td>6</td>\n",
       "      <td>desktop</td>\n",
       "      <td>2017-06-01 07:59:00</td>\n",
       "      <td>3</td>\n",
       "      <td>2017-06-01 07:31:00</td>\n",
       "      <td>2017-06-01</td>\n",
       "      <td>22</td>\n",
       "      <td>2017</td>\n",
       "      <td>6</td>\n",
       "      <td>1</td>\n",
       "      <td>59</td>\n",
       "      <td>31</td>\n",
       "      <td>28</td>\n",
       "      <td>2017</td>\n",
       "      <td>2017-06-01 07:31:00</td>\n",
       "      <td>2017-06-01 07:58:00</td>\n",
       "    </tr>\n",
       "  </tbody>\n",
       "</table>\n",
       "</div>"
      ],
      "text/plain": [
       "               buy_ts  revenue                   uid  order_month   device  \\\n",
       "0 2017-06-01 00:10:00    17.00  10329302124590727494            6  desktop   \n",
       "1 2017-06-01 00:25:00     0.55  11627257723692907447            6  desktop   \n",
       "2 2017-06-01 00:27:00     0.37  17903680561304213844            6  desktop   \n",
       "3 2017-06-01 00:29:00     0.55  16109239769442553005            6  desktop   \n",
       "4 2017-06-01 07:58:00     0.37  14200605875248379450            6  desktop   \n",
       "\n",
       "               end_ts  source_id            start_ts  date_start session_week  \\\n",
       "0 2017-06-01 00:11:00          1 2017-06-01 00:09:00  2017-06-01           22   \n",
       "1 2017-06-01 00:25:00          2 2017-06-01 00:14:00  2017-06-01           22   \n",
       "2 2017-06-01 00:34:00          2 2017-06-01 00:25:00  2017-06-01           22   \n",
       "3 2017-06-01 00:33:00          2 2017-06-01 00:14:00  2017-06-01           22   \n",
       "4 2017-06-01 07:59:00          3 2017-06-01 07:31:00  2017-06-01           22   \n",
       "\n",
       "   year_start  month_start  session_date  duration_session_min_end  \\\n",
       "0        2017            6             1                        11   \n",
       "1        2017            6             1                        25   \n",
       "2        2017            6             1                        34   \n",
       "3        2017            6             1                        33   \n",
       "4        2017            6             1                        59   \n",
       "\n",
       "   duration_session_min_start  duration_session  session_year  \\\n",
       "0                           9                 2          2017   \n",
       "1                          14                11          2017   \n",
       "2                          25                 9          2017   \n",
       "3                          14                19          2017   \n",
       "4                          31                28          2017   \n",
       "\n",
       "   first_session_date    date_of_purchase  \n",
       "0 2017-06-01 00:09:00 2017-06-01 00:10:00  \n",
       "1 2017-06-01 00:14:00 2017-06-01 00:25:00  \n",
       "2 2017-06-01 00:25:00 2017-06-01 00:27:00  \n",
       "3 2017-06-01 00:14:00 2017-06-01 00:29:00  \n",
       "4 2017-06-01 07:31:00 2017-06-01 07:58:00  "
      ]
     },
     "execution_count": 225,
     "metadata": {},
     "output_type": "execute_result"
    }
   ],
   "source": [
    "df_revenue_per_source = df_marketing_orders.merge(df_marketing_visits, on='uid', how='left')\n",
    "\n",
    "df_revenue_per_source.columns\n",
    "df_revenue_per_source.head(5)"
   ]
  },
  {
   "cell_type": "code",
   "execution_count": 288,
   "metadata": {},
   "outputs": [
    {
     "data": {
      "text/plain": [
       "source_id\n",
       "1     2298200.17\n",
       "2     2638189.21\n",
       "3      296687.96\n",
       "4      496690.17\n",
       "5     1181477.14\n",
       "7           1.22\n",
       "9       36342.25\n",
       "10      14619.23\n",
       "Name: revenue, dtype: float64"
      ]
     },
     "execution_count": 288,
     "metadata": {},
     "output_type": "execute_result"
    }
   ],
   "source": [
    "dfg1 = df_revenue_per_source.groupby(['source_id'])['revenue'].sum()\n",
    "dfg1"
   ]
  },
  {
   "cell_type": "code",
   "execution_count": 299,
   "metadata": {},
   "outputs": [
    {
     "data": {
      "text/html": [
       "<div>\n",
       "<style scoped>\n",
       "    .dataframe tbody tr th:only-of-type {\n",
       "        vertical-align: middle;\n",
       "    }\n",
       "\n",
       "    .dataframe tbody tr th {\n",
       "        vertical-align: top;\n",
       "    }\n",
       "\n",
       "    .dataframe thead th {\n",
       "        text-align: right;\n",
       "    }\n",
       "</style>\n",
       "<table border=\"1\" class=\"dataframe\">\n",
       "  <thead>\n",
       "    <tr style=\"text-align: right;\">\n",
       "      <th></th>\n",
       "      <th>revenue</th>\n",
       "      <th>all_cost</th>\n",
       "    </tr>\n",
       "    <tr>\n",
       "      <th>source_id</th>\n",
       "      <th></th>\n",
       "      <th></th>\n",
       "    </tr>\n",
       "  </thead>\n",
       "  <tbody>\n",
       "    <tr>\n",
       "      <th>1</th>\n",
       "      <td>2298200.17</td>\n",
       "      <td>20833.27</td>\n",
       "    </tr>\n",
       "    <tr>\n",
       "      <th>2</th>\n",
       "      <td>2638189.21</td>\n",
       "      <td>42806.04</td>\n",
       "    </tr>\n",
       "    <tr>\n",
       "      <th>3</th>\n",
       "      <td>296687.96</td>\n",
       "      <td>141321.63</td>\n",
       "    </tr>\n",
       "    <tr>\n",
       "      <th>4</th>\n",
       "      <td>496690.17</td>\n",
       "      <td>61073.60</td>\n",
       "    </tr>\n",
       "    <tr>\n",
       "      <th>5</th>\n",
       "      <td>1181477.14</td>\n",
       "      <td>51757.10</td>\n",
       "    </tr>\n",
       "    <tr>\n",
       "      <th>7</th>\n",
       "      <td>1.22</td>\n",
       "      <td>NaN</td>\n",
       "    </tr>\n",
       "    <tr>\n",
       "      <th>9</th>\n",
       "      <td>36342.25</td>\n",
       "      <td>5517.49</td>\n",
       "    </tr>\n",
       "    <tr>\n",
       "      <th>10</th>\n",
       "      <td>14619.23</td>\n",
       "      <td>5822.49</td>\n",
       "    </tr>\n",
       "  </tbody>\n",
       "</table>\n",
       "</div>"
      ],
      "text/plain": [
       "              revenue   all_cost\n",
       "source_id                       \n",
       "1          2298200.17   20833.27\n",
       "2          2638189.21   42806.04\n",
       "3           296687.96  141321.63\n",
       "4           496690.17   61073.60\n",
       "5          1181477.14   51757.10\n",
       "7                1.22        NaN\n",
       "9            36342.25    5517.49\n",
       "10           14619.23    5822.49"
      ]
     },
     "execution_count": 299,
     "metadata": {},
     "output_type": "execute_result"
    }
   ],
   "source": [
    "data = {'revenue': dfg1,\n",
    "        'all_cost': dfg}\n",
    "\n",
    "df_roi = pd.DataFrame(data)\n",
    "df_roi "
   ]
  },
  {
   "cell_type": "code",
   "execution_count": 300,
   "metadata": {},
   "outputs": [
    {
     "data": {
      "text/html": [
       "<div>\n",
       "<style scoped>\n",
       "    .dataframe tbody tr th:only-of-type {\n",
       "        vertical-align: middle;\n",
       "    }\n",
       "\n",
       "    .dataframe tbody tr th {\n",
       "        vertical-align: top;\n",
       "    }\n",
       "\n",
       "    .dataframe thead th {\n",
       "        text-align: right;\n",
       "    }\n",
       "</style>\n",
       "<table border=\"1\" class=\"dataframe\">\n",
       "  <thead>\n",
       "    <tr style=\"text-align: right;\">\n",
       "      <th></th>\n",
       "      <th>source_id</th>\n",
       "      <th>revenue</th>\n",
       "      <th>all_cost</th>\n",
       "    </tr>\n",
       "  </thead>\n",
       "  <tbody>\n",
       "    <tr>\n",
       "      <th>0</th>\n",
       "      <td>1</td>\n",
       "      <td>2298200.17</td>\n",
       "      <td>20833.27</td>\n",
       "    </tr>\n",
       "    <tr>\n",
       "      <th>1</th>\n",
       "      <td>2</td>\n",
       "      <td>2638189.21</td>\n",
       "      <td>42806.04</td>\n",
       "    </tr>\n",
       "    <tr>\n",
       "      <th>2</th>\n",
       "      <td>3</td>\n",
       "      <td>296687.96</td>\n",
       "      <td>141321.63</td>\n",
       "    </tr>\n",
       "    <tr>\n",
       "      <th>3</th>\n",
       "      <td>4</td>\n",
       "      <td>496690.17</td>\n",
       "      <td>61073.60</td>\n",
       "    </tr>\n",
       "    <tr>\n",
       "      <th>4</th>\n",
       "      <td>5</td>\n",
       "      <td>1181477.14</td>\n",
       "      <td>51757.10</td>\n",
       "    </tr>\n",
       "    <tr>\n",
       "      <th>5</th>\n",
       "      <td>7</td>\n",
       "      <td>1.22</td>\n",
       "      <td>NaN</td>\n",
       "    </tr>\n",
       "    <tr>\n",
       "      <th>6</th>\n",
       "      <td>9</td>\n",
       "      <td>36342.25</td>\n",
       "      <td>5517.49</td>\n",
       "    </tr>\n",
       "    <tr>\n",
       "      <th>7</th>\n",
       "      <td>10</td>\n",
       "      <td>14619.23</td>\n",
       "      <td>5822.49</td>\n",
       "    </tr>\n",
       "  </tbody>\n",
       "</table>\n",
       "</div>"
      ],
      "text/plain": [
       "   source_id     revenue   all_cost\n",
       "0          1  2298200.17   20833.27\n",
       "1          2  2638189.21   42806.04\n",
       "2          3   296687.96  141321.63\n",
       "3          4   496690.17   61073.60\n",
       "4          5  1181477.14   51757.10\n",
       "5          7        1.22        NaN\n",
       "6          9    36342.25    5517.49\n",
       "7         10    14619.23    5822.49"
      ]
     },
     "execution_count": 300,
     "metadata": {},
     "output_type": "execute_result"
    }
   ],
   "source": [
    "df_roi = df_roi.reset_index()\n",
    "df_roi"
   ]
  },
  {
   "cell_type": "code",
   "execution_count": 301,
   "metadata": {},
   "outputs": [
    {
     "data": {
      "text/html": [
       "<div>\n",
       "<style scoped>\n",
       "    .dataframe tbody tr th:only-of-type {\n",
       "        vertical-align: middle;\n",
       "    }\n",
       "\n",
       "    .dataframe tbody tr th {\n",
       "        vertical-align: top;\n",
       "    }\n",
       "\n",
       "    .dataframe thead th {\n",
       "        text-align: right;\n",
       "    }\n",
       "</style>\n",
       "<table border=\"1\" class=\"dataframe\">\n",
       "  <thead>\n",
       "    <tr style=\"text-align: right;\">\n",
       "      <th></th>\n",
       "      <th>source_id</th>\n",
       "      <th>revenue</th>\n",
       "      <th>all_cost</th>\n",
       "      <th>roi</th>\n",
       "    </tr>\n",
       "  </thead>\n",
       "  <tbody>\n",
       "    <tr>\n",
       "      <th>0</th>\n",
       "      <td>1</td>\n",
       "      <td>2298200.17</td>\n",
       "      <td>20833.27</td>\n",
       "      <td>109.313944</td>\n",
       "    </tr>\n",
       "    <tr>\n",
       "      <th>1</th>\n",
       "      <td>2</td>\n",
       "      <td>2638189.21</td>\n",
       "      <td>42806.04</td>\n",
       "      <td>60.631237</td>\n",
       "    </tr>\n",
       "    <tr>\n",
       "      <th>2</th>\n",
       "      <td>3</td>\n",
       "      <td>296687.96</td>\n",
       "      <td>141321.63</td>\n",
       "      <td>1.099381</td>\n",
       "    </tr>\n",
       "    <tr>\n",
       "      <th>3</th>\n",
       "      <td>4</td>\n",
       "      <td>496690.17</td>\n",
       "      <td>61073.60</td>\n",
       "      <td>7.132649</td>\n",
       "    </tr>\n",
       "    <tr>\n",
       "      <th>4</th>\n",
       "      <td>5</td>\n",
       "      <td>1181477.14</td>\n",
       "      <td>51757.10</td>\n",
       "      <td>21.827344</td>\n",
       "    </tr>\n",
       "    <tr>\n",
       "      <th>5</th>\n",
       "      <td>7</td>\n",
       "      <td>1.22</td>\n",
       "      <td>NaN</td>\n",
       "      <td>NaN</td>\n",
       "    </tr>\n",
       "    <tr>\n",
       "      <th>6</th>\n",
       "      <td>9</td>\n",
       "      <td>36342.25</td>\n",
       "      <td>5517.49</td>\n",
       "      <td>5.586736</td>\n",
       "    </tr>\n",
       "    <tr>\n",
       "      <th>7</th>\n",
       "      <td>10</td>\n",
       "      <td>14619.23</td>\n",
       "      <td>5822.49</td>\n",
       "      <td>1.510821</td>\n",
       "    </tr>\n",
       "  </tbody>\n",
       "</table>\n",
       "</div>"
      ],
      "text/plain": [
       "   source_id     revenue   all_cost         roi\n",
       "0          1  2298200.17   20833.27  109.313944\n",
       "1          2  2638189.21   42806.04   60.631237\n",
       "2          3   296687.96  141321.63    1.099381\n",
       "3          4   496690.17   61073.60    7.132649\n",
       "4          5  1181477.14   51757.10   21.827344\n",
       "5          7        1.22        NaN         NaN\n",
       "6          9    36342.25    5517.49    5.586736\n",
       "7         10    14619.23    5822.49    1.510821"
      ]
     },
     "execution_count": 301,
     "metadata": {},
     "output_type": "execute_result"
    }
   ],
   "source": [
    "df_roi['roi'] = (df_roi['revenue'] -  df_roi['all_cost']) /df_roi['all_cost']\n",
    "df_roi"
   ]
  },
  {
   "cell_type": "code",
   "execution_count": 302,
   "metadata": {},
   "outputs": [
    {
     "data": {
      "text/plain": [
       "Index(['source_id', 'revenue', 'all_cost', 'roi'], dtype='object')"
      ]
     },
     "execution_count": 302,
     "metadata": {},
     "output_type": "execute_result"
    }
   ],
   "source": [
    "df_roi.columns"
   ]
  },
  {
   "cell_type": "code",
   "execution_count": 303,
   "metadata": {},
   "outputs": [],
   "source": [
    "df_roi['all_cost'] = df_roi['all_cost'].fillna(0)"
   ]
  },
  {
   "cell_type": "code",
   "execution_count": 304,
   "metadata": {},
   "outputs": [],
   "source": [
    "df_roi['roi'] = df_roi['roi'].fillna(0)"
   ]
  },
  {
   "cell_type": "code",
   "execution_count": 311,
   "metadata": {},
   "outputs": [],
   "source": [
    "df_roi= df_roi.round(2) "
   ]
  },
  {
   "cell_type": "code",
   "execution_count": 312,
   "metadata": {},
   "outputs": [
    {
     "data": {
      "text/html": [
       "<div>\n",
       "<style scoped>\n",
       "    .dataframe tbody tr th:only-of-type {\n",
       "        vertical-align: middle;\n",
       "    }\n",
       "\n",
       "    .dataframe tbody tr th {\n",
       "        vertical-align: top;\n",
       "    }\n",
       "\n",
       "    .dataframe thead th {\n",
       "        text-align: right;\n",
       "    }\n",
       "</style>\n",
       "<table border=\"1\" class=\"dataframe\">\n",
       "  <thead>\n",
       "    <tr style=\"text-align: right;\">\n",
       "      <th></th>\n",
       "      <th>source_id</th>\n",
       "      <th>revenue</th>\n",
       "      <th>all_cost</th>\n",
       "      <th>roi</th>\n",
       "    </tr>\n",
       "  </thead>\n",
       "  <tbody>\n",
       "    <tr>\n",
       "      <th>0</th>\n",
       "      <td>1</td>\n",
       "      <td>2298200.17</td>\n",
       "      <td>20833.27</td>\n",
       "      <td>109.31</td>\n",
       "    </tr>\n",
       "    <tr>\n",
       "      <th>1</th>\n",
       "      <td>2</td>\n",
       "      <td>2638189.21</td>\n",
       "      <td>42806.04</td>\n",
       "      <td>60.63</td>\n",
       "    </tr>\n",
       "    <tr>\n",
       "      <th>2</th>\n",
       "      <td>3</td>\n",
       "      <td>296687.96</td>\n",
       "      <td>141321.63</td>\n",
       "      <td>1.10</td>\n",
       "    </tr>\n",
       "    <tr>\n",
       "      <th>3</th>\n",
       "      <td>4</td>\n",
       "      <td>496690.17</td>\n",
       "      <td>61073.60</td>\n",
       "      <td>7.13</td>\n",
       "    </tr>\n",
       "    <tr>\n",
       "      <th>4</th>\n",
       "      <td>5</td>\n",
       "      <td>1181477.14</td>\n",
       "      <td>51757.10</td>\n",
       "      <td>21.83</td>\n",
       "    </tr>\n",
       "    <tr>\n",
       "      <th>5</th>\n",
       "      <td>7</td>\n",
       "      <td>1.22</td>\n",
       "      <td>0.00</td>\n",
       "      <td>0.00</td>\n",
       "    </tr>\n",
       "    <tr>\n",
       "      <th>6</th>\n",
       "      <td>9</td>\n",
       "      <td>36342.25</td>\n",
       "      <td>5517.49</td>\n",
       "      <td>5.59</td>\n",
       "    </tr>\n",
       "    <tr>\n",
       "      <th>7</th>\n",
       "      <td>10</td>\n",
       "      <td>14619.23</td>\n",
       "      <td>5822.49</td>\n",
       "      <td>1.51</td>\n",
       "    </tr>\n",
       "  </tbody>\n",
       "</table>\n",
       "</div>"
      ],
      "text/plain": [
       "   source_id     revenue   all_cost     roi\n",
       "0          1  2298200.17   20833.27  109.31\n",
       "1          2  2638189.21   42806.04   60.63\n",
       "2          3   296687.96  141321.63    1.10\n",
       "3          4   496690.17   61073.60    7.13\n",
       "4          5  1181477.14   51757.10   21.83\n",
       "5          7        1.22       0.00    0.00\n",
       "6          9    36342.25    5517.49    5.59\n",
       "7         10    14619.23    5822.49    1.51"
      ]
     },
     "execution_count": 312,
     "metadata": {},
     "output_type": "execute_result"
    }
   ],
   "source": [
    "df_roi"
   ]
  },
  {
   "cell_type": "markdown",
   "metadata": {},
   "source": [
    "Looking at the table above, it can be seen that the first source has the highest Return on Marketing Investment (ROI) in the company, which is better illustrated in the following graph."
   ]
  },
  {
   "cell_type": "code",
   "execution_count": 233,
   "metadata": {},
   "outputs": [
    {
     "data": {
      "text/plain": [
       "<Axes: title={'center': 'Investment Return Behavior'}, xlabel='Sources', ylabel='Input'>"
      ]
     },
     "execution_count": 233,
     "metadata": {},
     "output_type": "execute_result"
    },
    {
     "data": {
      "image/png": "[encoded data removed]",
      "text/plain": [
       "<Figure size 1400x600 with 1 Axes>"
      ]
     },
     "metadata": {},
     "output_type": "display_data"
    }
   ],
   "source": [
    "# Showing differences by ad sources\n",
    "\n",
    "plt.style.use('ggplot')\n",
    "df_roi['roi'].plot(kind='bar', rot=0, title='Investment Return Behavior', ylabel='Input', xlabel='Sources', figsize=(14, 6))"
   ]
  },
  {
   "cell_type": "code",
   "execution_count": 314,
   "metadata": {},
   "outputs": [
    {
     "name": "stderr",
     "output_type": "stream",
     "text": [
      "No artists with labels found to put in legend.  Note that artists whose label start with an underscore are ignored when legend() is called with no argument.\n",
      "No artists with labels found to put in legend.  Note that artists whose label start with an underscore are ignored when legend() is called with no argument.\n"
     ]
    },
    {
     "data": {
      "image/png": "[encoded data removed]",
      "text/plain": [
       "<Figure size 1500x700 with 1 Axes>"
      ]
     },
     "metadata": {},
     "output_type": "display_data"
    }
   ],
   "source": [
    "plt.style.use('ggplot')\n",
    "\n",
    "ax = sns.barplot(data = df_roi, x='source_id', y= 'roi')\n",
    "\n",
    "plt.legend(bbox_to_anchor=(1.05, 1), loc=2, borderaxespad=0.)\n",
    "plt.xticks(rotation=0)\n",
    "ax.set_xlabel(\"Sources\")\n",
    "ax.set_ylabel(\"Inputs\")\n",
    "plt.title(\"Investment Return Behavior\") \n",
    "plt.rcParams['figure.figsize'] = [15, 7]\n",
    "plt.legend(loc='upper left')\n",
    "ax.bar_label(ax.containers[0], labels=df_roi['revenue'])\n",
    "\n",
    "plt.show()\n",
    "ax.figure.savefig('barplot_investment_return_behavior_okeyyyy.png')"
   ]
  },
  {
   "cell_type": "code",
   "execution_count": 232,
   "metadata": {},
   "outputs": [
    {
     "data": {
      "text/plain": [
       "device\n",
       "desktop    6447893.99\n",
       "touch       514313.36\n",
       "Name: revenue, dtype: float64"
      ]
     },
     "execution_count": 232,
     "metadata": {},
     "output_type": "execute_result"
    }
   ],
   "source": [
    "# Showing differences by devices\n",
    "\n",
    "dfg1 = df_revenue_per_source.groupby(['device'])['revenue'].sum()\n",
    "dfg1"
   ]
  },
  {
   "cell_type": "code",
   "execution_count": 319,
   "metadata": {},
   "outputs": [
    {
     "data": {
      "text/html": [
       "<div>\n",
       "<style scoped>\n",
       "    .dataframe tbody tr th:only-of-type {\n",
       "        vertical-align: middle;\n",
       "    }\n",
       "\n",
       "    .dataframe tbody tr th {\n",
       "        vertical-align: top;\n",
       "    }\n",
       "\n",
       "    .dataframe thead th {\n",
       "        text-align: right;\n",
       "    }\n",
       "</style>\n",
       "<table border=\"1\" class=\"dataframe\">\n",
       "  <thead>\n",
       "    <tr style=\"text-align: right;\">\n",
       "      <th></th>\n",
       "      <th>buy_ts</th>\n",
       "      <th>revenue</th>\n",
       "      <th>uid</th>\n",
       "      <th>order_month</th>\n",
       "      <th>device</th>\n",
       "      <th>end_ts</th>\n",
       "      <th>source_id</th>\n",
       "      <th>start_ts</th>\n",
       "      <th>date_start</th>\n",
       "      <th>session_week</th>\n",
       "      <th>year_start</th>\n",
       "      <th>month_start</th>\n",
       "      <th>session_date</th>\n",
       "      <th>duration_session_min_end</th>\n",
       "      <th>duration_session_min_start</th>\n",
       "      <th>duration_session</th>\n",
       "      <th>session_year</th>\n",
       "      <th>first_session_date</th>\n",
       "      <th>date_of_purchase</th>\n",
       "    </tr>\n",
       "  </thead>\n",
       "  <tbody>\n",
       "    <tr>\n",
       "      <th>0</th>\n",
       "      <td>2017-06-01 00:10:00</td>\n",
       "      <td>17.00</td>\n",
       "      <td>10329302124590727494</td>\n",
       "      <td>6</td>\n",
       "      <td>desktop</td>\n",
       "      <td>2017-06-01 00:11:00</td>\n",
       "      <td>1</td>\n",
       "      <td>2017-06-01 00:09:00</td>\n",
       "      <td>2017-06-01</td>\n",
       "      <td>22</td>\n",
       "      <td>2017</td>\n",
       "      <td>6</td>\n",
       "      <td>1</td>\n",
       "      <td>11</td>\n",
       "      <td>9</td>\n",
       "      <td>2</td>\n",
       "      <td>2017</td>\n",
       "      <td>2017-06-01 00:09:00</td>\n",
       "      <td>2017-06-01 00:10:00</td>\n",
       "    </tr>\n",
       "    <tr>\n",
       "      <th>1</th>\n",
       "      <td>2017-06-01 00:25:00</td>\n",
       "      <td>0.55</td>\n",
       "      <td>11627257723692907447</td>\n",
       "      <td>6</td>\n",
       "      <td>desktop</td>\n",
       "      <td>2017-06-01 00:25:00</td>\n",
       "      <td>2</td>\n",
       "      <td>2017-06-01 00:14:00</td>\n",
       "      <td>2017-06-01</td>\n",
       "      <td>22</td>\n",
       "      <td>2017</td>\n",
       "      <td>6</td>\n",
       "      <td>1</td>\n",
       "      <td>25</td>\n",
       "      <td>14</td>\n",
       "      <td>11</td>\n",
       "      <td>2017</td>\n",
       "      <td>2017-06-01 00:14:00</td>\n",
       "      <td>2017-06-01 00:25:00</td>\n",
       "    </tr>\n",
       "    <tr>\n",
       "      <th>2</th>\n",
       "      <td>2017-06-01 00:27:00</td>\n",
       "      <td>0.37</td>\n",
       "      <td>17903680561304213844</td>\n",
       "      <td>6</td>\n",
       "      <td>desktop</td>\n",
       "      <td>2017-06-01 00:34:00</td>\n",
       "      <td>2</td>\n",
       "      <td>2017-06-01 00:25:00</td>\n",
       "      <td>2017-06-01</td>\n",
       "      <td>22</td>\n",
       "      <td>2017</td>\n",
       "      <td>6</td>\n",
       "      <td>1</td>\n",
       "      <td>34</td>\n",
       "      <td>25</td>\n",
       "      <td>9</td>\n",
       "      <td>2017</td>\n",
       "      <td>2017-06-01 00:25:00</td>\n",
       "      <td>2017-06-01 00:27:00</td>\n",
       "    </tr>\n",
       "    <tr>\n",
       "      <th>3</th>\n",
       "      <td>2017-06-01 00:29:00</td>\n",
       "      <td>0.55</td>\n",
       "      <td>16109239769442553005</td>\n",
       "      <td>6</td>\n",
       "      <td>desktop</td>\n",
       "      <td>2017-06-01 00:33:00</td>\n",
       "      <td>2</td>\n",
       "      <td>2017-06-01 00:14:00</td>\n",
       "      <td>2017-06-01</td>\n",
       "      <td>22</td>\n",
       "      <td>2017</td>\n",
       "      <td>6</td>\n",
       "      <td>1</td>\n",
       "      <td>33</td>\n",
       "      <td>14</td>\n",
       "      <td>19</td>\n",
       "      <td>2017</td>\n",
       "      <td>2017-06-01 00:14:00</td>\n",
       "      <td>2017-06-01 00:29:00</td>\n",
       "    </tr>\n",
       "    <tr>\n",
       "      <th>4</th>\n",
       "      <td>2017-06-01 07:58:00</td>\n",
       "      <td>0.37</td>\n",
       "      <td>14200605875248379450</td>\n",
       "      <td>6</td>\n",
       "      <td>desktop</td>\n",
       "      <td>2017-06-01 07:59:00</td>\n",
       "      <td>3</td>\n",
       "      <td>2017-06-01 07:31:00</td>\n",
       "      <td>2017-06-01</td>\n",
       "      <td>22</td>\n",
       "      <td>2017</td>\n",
       "      <td>6</td>\n",
       "      <td>1</td>\n",
       "      <td>59</td>\n",
       "      <td>31</td>\n",
       "      <td>28</td>\n",
       "      <td>2017</td>\n",
       "      <td>2017-06-01 07:31:00</td>\n",
       "      <td>2017-06-01 07:58:00</td>\n",
       "    </tr>\n",
       "  </tbody>\n",
       "</table>\n",
       "</div>"
      ],
      "text/plain": [
       "               buy_ts  revenue                   uid  order_month   device  \\\n",
       "0 2017-06-01 00:10:00    17.00  10329302124590727494            6  desktop   \n",
       "1 2017-06-01 00:25:00     0.55  11627257723692907447            6  desktop   \n",
       "2 2017-06-01 00:27:00     0.37  17903680561304213844            6  desktop   \n",
       "3 2017-06-01 00:29:00     0.55  16109239769442553005            6  desktop   \n",
       "4 2017-06-01 07:58:00     0.37  14200605875248379450            6  desktop   \n",
       "\n",
       "               end_ts  source_id            start_ts  date_start session_week  \\\n",
       "0 2017-06-01 00:11:00          1 2017-06-01 00:09:00  2017-06-01           22   \n",
       "1 2017-06-01 00:25:00          2 2017-06-01 00:14:00  2017-06-01           22   \n",
       "2 2017-06-01 00:34:00          2 2017-06-01 00:25:00  2017-06-01           22   \n",
       "3 2017-06-01 00:33:00          2 2017-06-01 00:14:00  2017-06-01           22   \n",
       "4 2017-06-01 07:59:00          3 2017-06-01 07:31:00  2017-06-01           22   \n",
       "\n",
       "   year_start  month_start  session_date  duration_session_min_end  \\\n",
       "0        2017            6             1                        11   \n",
       "1        2017            6             1                        25   \n",
       "2        2017            6             1                        34   \n",
       "3        2017            6             1                        33   \n",
       "4        2017            6             1                        59   \n",
       "\n",
       "   duration_session_min_start  duration_session  session_year  \\\n",
       "0                           9                 2          2017   \n",
       "1                          14                11          2017   \n",
       "2                          25                 9          2017   \n",
       "3                          14                19          2017   \n",
       "4                          31                28          2017   \n",
       "\n",
       "   first_session_date    date_of_purchase  \n",
       "0 2017-06-01 00:09:00 2017-06-01 00:10:00  \n",
       "1 2017-06-01 00:14:00 2017-06-01 00:25:00  \n",
       "2 2017-06-01 00:25:00 2017-06-01 00:27:00  \n",
       "3 2017-06-01 00:14:00 2017-06-01 00:29:00  \n",
       "4 2017-06-01 07:31:00 2017-06-01 07:58:00  "
      ]
     },
     "execution_count": 319,
     "metadata": {},
     "output_type": "execute_result"
    }
   ],
   "source": [
    "df_revenue_per_source.head(5)"
   ]
  },
  {
   "cell_type": "markdown",
   "metadata": {},
   "source": [
    "NOTE: It is specified that the profit margin used to calculate the LTV was 40%"
   ]
  },
  {
   "cell_type": "markdown",
   "metadata": {},
   "source": [
    "## Observations and recommendations <a name=\"observations\"></a>"
   ]
  },
  {
   "cell_type": "markdown",
   "metadata": {},
   "source": [
    "After the results obtained from the calculated metrics, the following recommendations are reached:\n",
    "\n",
    "1. Source 1 is the one that has the best performance in the ROI metric, therefore, better profitability of investment in marketing, after which it is recommended to place emphasis on this source to continue developing it, while source 7 showed the lowest profitability of all.\n",
    "\n",
    "2. The average time between user registration and conversion is 1.02 months.\n",
    "\n",
    "3. Additionally, it was observed that of the 7 existing sources, number 3 is the one that includes the highest costs in the month of November for a value of 17025.34, while source 10 is the one with the lowest cost with 232.57\n",
    "\n",
    "4. In terms of sales, the highest customer lifetime value, or LTV, occurred in month 7 with 7 orders.\n",
    "\n",
    "5. It was obtained that the LTV metric has a value of 2518.2, and for the CAC metric the value of 2694.3 is obtained, which is not desirable, because acquiring a customer is costing more than what they contribute, so it is recommended to decrease acquisition costs per customer.\n",
    "\n",
    "6. From the ROI metric, it can be seen that the first source has the highest Return on marketing investment (ROI) in the company worth 109.3"
   ]
  },
  {
   "cell_type": "markdown",
   "metadata": {},
   "source": [
    "## Conclusion <a name=\"conclusion\"></a>"
   ]
  },
  {
   "cell_type": "markdown",
   "metadata": {},
   "source": [
    "After analyzing all the metrics, it is concluded that the company must prioritize and focus its attention on source 1 since:\n",
    "-has the best performance in the ROI indicator\n",
    "-in terms of costs\n",
    "\n",
    "As a general recommendation, you should evaluate carrying out advertising campaigns in the month of October and December, given that they are the months with the highest volume of customer purchases, or carry out the advertising campaign in the previous month to motivate and awaken interest in the client and achieving product positioning. In addition, the ad source 1. must continue to be developed, which is the one that has a favorable relationship between the Profitability (ROI) metric and the cost."
   ]
  }
 ],
 "metadata": {
  "kernelspec": {
   "display_name": "Python 3 (ipykernel)",
   "language": "python",
   "name": "python3"
  },
  "language_info": {
   "codemirror_mode": {
    "name": "ipython",
    "version": 3
   },
   "file_extension": ".py",
   "mimetype": "text/x-python",
   "name": "python",
   "nbconvert_exporter": "python",
   "pygments_lexer": "ipython3",
   "version": "3.10.9"
  },
  "toc": {
   "base_numbering": 1,
   "nav_menu": {},
   "number_sections": true,
   "sideBar": true,
   "skip_h1_title": true,
   "title_cell": "Table of Contents",
   "title_sidebar": "Contents",
   "toc_cell": false,
   "toc_position": {},
   "toc_section_display": true,
   "toc_window_display": false
  }
 },
 "nbformat": 4,
 "nbformat_minor": 2
}
